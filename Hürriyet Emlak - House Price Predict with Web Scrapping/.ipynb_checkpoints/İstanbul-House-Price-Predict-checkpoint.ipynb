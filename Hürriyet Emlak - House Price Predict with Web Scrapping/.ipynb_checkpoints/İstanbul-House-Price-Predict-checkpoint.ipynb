{
 "cells": [
  {
   "cell_type": "code",
   "execution_count": 4,
   "id": "94baf08f",
   "metadata": {},
   "outputs": [],
   "source": [
    "import pandas as pd\n",
    "import requests\n",
    "from bs4 import BeautifulSoup"
   ]
  },
  {
   "cell_type": "code",
   "execution_count": 5,
   "id": "52d1b4ad",
   "metadata": {},
   "outputs": [],
   "source": [
    "import pandas as pd\n",
    "import seaborn as sns\n",
    "import numpy as np\n",
    "import matplotlib.pyplot as plt\n",
    "import warnings\n",
    "warnings.filterwarnings(\"ignore\")"
   ]
  },
  {
   "cell_type": "code",
   "execution_count": 6,
   "id": "a1319017",
   "metadata": {},
   "outputs": [],
   "source": [
    "from sklearn.linear_model import LinearRegression\n",
    "from sklearn.linear_model import Ridge,Lasso\n",
    "from sklearn.linear_model import ElasticNet\n",
    "from sklearn.tree import ExtraTreeRegressor\n",
    "from sklearn.ensemble import GradientBoostingRegressor\n",
    "from sklearn.neighbors import KNeighborsRegressor"
   ]
  },
  {
   "cell_type": "code",
   "execution_count": 7,
   "id": "6b6c492e",
   "metadata": {},
   "outputs": [],
   "source": [
    "from sklearn.model_selection import train_test_split\n",
    "from sklearn.metrics import mean_squared_error, r2_score, mean_absolute_error"
   ]
  },
  {
   "cell_type": "markdown",
   "id": "f9bae4e6",
   "metadata": {},
   "source": [
    "### 100 pages of home data are pulled"
   ]
  },
  {
   "cell_type": "code",
   "execution_count": 5,
   "id": "870d006b",
   "metadata": {},
   "outputs": [],
   "source": [
    "p_list = []\n",
    "r_list = []\n",
    "m_list = []\n",
    "a_list = []\n",
    "f_list = []\n",
    "l_list = []\n",
    "for i in range(1,100):\n",
    "    url_=\"https://www.hurriyetemlak.com/istanbul-kiralik?page={}\".format(i)\n",
    "    response=requests.get(url_)\n",
    "    soup=BeautifulSoup(response.text, \"html.parser\")\n",
    "    soup.beautify\n",
    "    price=soup.findAll(\"span\",{\"class\":\"list-view-price\"}) \n",
    "    room_count=soup.findAll(\"span\",{\"class\":\"celly houseRoomCount\"}) \n",
    "    meter_square=soup.findAll(\"span\",{\"class\":\"celly squareMeter list-view-size\"})  \n",
    "    build_age=soup.findAll(\"span\",{\"class\":\"celly buildingAge\"})\n",
    "    floor_type=soup.findAll(\"span\",{\"class\":\"celly floortype\"})\n",
    "    location=soup.findAll(\"div\",{\"class\":\"list-view-location\"})\n",
    "    for (p1, r1, v1, a1, f1, l1) in zip(price, room_count, meter_square, build_age, floor_type, location):\n",
    "        p_list.append(p1.text.replace(\"\\n\",\"\").replace(\".\",\"\").replace(\"TL\",\"\"))  \n",
    "        r_list.append(r1.text)        \n",
    "        m_list.append(v1.text.replace(\"\\n\",\"\").replace(\"\",\"\").replace(\"m2\",\"\"))\n",
    "        a_list.append(a1.text)\n",
    "        f_list.append(f1.text.replace(\"\\n\",\"\").replace(\" \",\"\"))\n",
    "        l_list.append(l1.text.replace(\"\\n\",\"\").replace(\" \",\"\").split(\",\")[0])\n"
   ]
  },
  {
   "cell_type": "code",
   "execution_count": 6,
   "id": "b322c55c",
   "metadata": {},
   "outputs": [
    {
     "data": {
      "text/html": [
       "<div>\n",
       "<style scoped>\n",
       "    .dataframe tbody tr th:only-of-type {\n",
       "        vertical-align: middle;\n",
       "    }\n",
       "\n",
       "    .dataframe tbody tr th {\n",
       "        vertical-align: top;\n",
       "    }\n",
       "\n",
       "    .dataframe thead th {\n",
       "        text-align: right;\n",
       "    }\n",
       "</style>\n",
       "<table border=\"1\" class=\"dataframe\">\n",
       "  <thead>\n",
       "    <tr style=\"text-align: right;\">\n",
       "      <th></th>\n",
       "      <th>Price</th>\n",
       "      <th>Room</th>\n",
       "      <th>Meter Square</th>\n",
       "      <th>Age</th>\n",
       "      <th>Floortype</th>\n",
       "      <th>Location</th>\n",
       "    </tr>\n",
       "  </thead>\n",
       "  <tbody>\n",
       "    <tr>\n",
       "      <th>0</th>\n",
       "      <td>75000</td>\n",
       "      <td>2 + 1</td>\n",
       "      <td>190</td>\n",
       "      <td>20 Yaşında</td>\n",
       "      <td>7.Kat</td>\n",
       "      <td>Şişli</td>\n",
       "    </tr>\n",
       "    <tr>\n",
       "      <th>1</th>\n",
       "      <td>85000</td>\n",
       "      <td>4 + 1</td>\n",
       "      <td>220</td>\n",
       "      <td>16 Yaşında</td>\n",
       "      <td>4.Kat</td>\n",
       "      <td>Beşiktaş</td>\n",
       "    </tr>\n",
       "    <tr>\n",
       "      <th>2</th>\n",
       "      <td>100000</td>\n",
       "      <td>3 + 2</td>\n",
       "      <td>235</td>\n",
       "      <td>32 Yaşında</td>\n",
       "      <td>3.Kat</td>\n",
       "      <td>Beşiktaş</td>\n",
       "    </tr>\n",
       "    <tr>\n",
       "      <th>3</th>\n",
       "      <td>110000</td>\n",
       "      <td>3 + 1</td>\n",
       "      <td>135</td>\n",
       "      <td>35 Yaşında</td>\n",
       "      <td>2.Kat</td>\n",
       "      <td>Beşiktaş</td>\n",
       "    </tr>\n",
       "    <tr>\n",
       "      <th>4</th>\n",
       "      <td>79999</td>\n",
       "      <td>3 + 1</td>\n",
       "      <td>270</td>\n",
       "      <td>35 Yaşında</td>\n",
       "      <td>2.Kat</td>\n",
       "      <td>Beşiktaş</td>\n",
       "    </tr>\n",
       "    <tr>\n",
       "      <th>...</th>\n",
       "      <td>...</td>\n",
       "      <td>...</td>\n",
       "      <td>...</td>\n",
       "      <td>...</td>\n",
       "      <td>...</td>\n",
       "      <td>...</td>\n",
       "    </tr>\n",
       "    <tr>\n",
       "      <th>2371</th>\n",
       "      <td>7000</td>\n",
       "      <td>1 + 1</td>\n",
       "      <td>75</td>\n",
       "      <td>30 Yaşında</td>\n",
       "      <td>YüksekGiriş</td>\n",
       "      <td>Fatih</td>\n",
       "    </tr>\n",
       "    <tr>\n",
       "      <th>2372</th>\n",
       "      <td>13500</td>\n",
       "      <td>3 + 1</td>\n",
       "      <td>140</td>\n",
       "      <td>30 Yaşında</td>\n",
       "      <td>5.Kat</td>\n",
       "      <td>Bahçelievler</td>\n",
       "    </tr>\n",
       "    <tr>\n",
       "      <th>2373</th>\n",
       "      <td>35000</td>\n",
       "      <td>2 + 1</td>\n",
       "      <td>80</td>\n",
       "      <td>Sıfır Bina</td>\n",
       "      <td>3.Kat</td>\n",
       "      <td>Beşiktaş</td>\n",
       "    </tr>\n",
       "    <tr>\n",
       "      <th>2374</th>\n",
       "      <td>30000</td>\n",
       "      <td>3 + 1</td>\n",
       "      <td>257</td>\n",
       "      <td>3 Yaşında</td>\n",
       "      <td>8.Kat</td>\n",
       "      <td>Kağıthane</td>\n",
       "    </tr>\n",
       "    <tr>\n",
       "      <th>2375</th>\n",
       "      <td>25000</td>\n",
       "      <td>2 + 1</td>\n",
       "      <td>110</td>\n",
       "      <td>8 Yaşında</td>\n",
       "      <td>16.Kat</td>\n",
       "      <td>Esenyurt</td>\n",
       "    </tr>\n",
       "  </tbody>\n",
       "</table>\n",
       "<p>2376 rows × 6 columns</p>\n",
       "</div>"
      ],
      "text/plain": [
       "                                        Price   Room  \\\n",
       "0                      75000                   2 + 1   \n",
       "1                      85000                   4 + 1   \n",
       "2                     100000                   3 + 2   \n",
       "3                     110000                   3 + 1   \n",
       "4                      79999                   3 + 1   \n",
       "...                                       ...    ...   \n",
       "2371                    7000                   1 + 1   \n",
       "2372                   13500                   3 + 1   \n",
       "2373                   35000                   2 + 1   \n",
       "2374                   30000                   3 + 1   \n",
       "2375                   25000                   2 + 1   \n",
       "\n",
       "                        Meter Square         Age    Floortype      Location  \n",
       "0                               190   20 Yaşında        7.Kat         Şişli  \n",
       "1                               220   16 Yaşında        4.Kat      Beşiktaş  \n",
       "2                               235   32 Yaşında        3.Kat      Beşiktaş  \n",
       "3                               135   35 Yaşında        2.Kat      Beşiktaş  \n",
       "4                               270   35 Yaşında        2.Kat      Beşiktaş  \n",
       "...                              ...         ...          ...           ...  \n",
       "2371                             75   30 Yaşında  YüksekGiriş         Fatih  \n",
       "2372                            140   30 Yaşında        5.Kat  Bahçelievler  \n",
       "2373                             80   Sıfır Bina        3.Kat      Beşiktaş  \n",
       "2374                            257    3 Yaşında        8.Kat     Kağıthane  \n",
       "2375                            110    8 Yaşında       16.Kat      Esenyurt  \n",
       "\n",
       "[2376 rows x 6 columns]"
      ]
     },
     "execution_count": 6,
     "metadata": {},
     "output_type": "execute_result"
    }
   ],
   "source": [
    "p3 = {\"Price\":p_list, \"Room\":r_list, \"Meter Square\":m_list, \"Age\":a_list, \"Floortype\":f_list, \"Location\":l_list}\n",
    "df = pd.DataFrame(p3)\n",
    "df"
   ]
  },
  {
   "cell_type": "code",
   "execution_count": 7,
   "id": "71b24759",
   "metadata": {},
   "outputs": [],
   "source": [
    "df.to_csv('Istanbul_House_Prices.csv') # Printed to csv file"
   ]
  },
  {
   "cell_type": "code",
   "execution_count": 8,
   "id": "36799259",
   "metadata": {},
   "outputs": [],
   "source": [
    "df = pd.read_csv('Istanbul_House_Prices.csv')"
   ]
  },
  {
   "cell_type": "code",
   "execution_count": 9,
   "id": "443da009",
   "metadata": {
    "scrolled": true
   },
   "outputs": [
    {
     "name": "stdout",
     "output_type": "stream",
     "text": [
      "<class 'pandas.core.frame.DataFrame'>\n",
      "RangeIndex: 2376 entries, 0 to 2375\n",
      "Data columns (total 7 columns):\n",
      " #   Column        Non-Null Count  Dtype  \n",
      "---  ------        --------------  -----  \n",
      " 0   Unnamed: 0    2376 non-null   int64  \n",
      " 1   Price         2376 non-null   int64  \n",
      " 2   Room          2376 non-null   object \n",
      " 3   Meter Square  2376 non-null   float64\n",
      " 4   Age           2376 non-null   object \n",
      " 5   Floortype     2293 non-null   object \n",
      " 6   Location      2376 non-null   object \n",
      "dtypes: float64(1), int64(2), object(4)\n",
      "memory usage: 130.1+ KB\n"
     ]
    }
   ],
   "source": [
    "df.info()"
   ]
  },
  {
   "cell_type": "code",
   "execution_count": 10,
   "id": "c64fa205",
   "metadata": {},
   "outputs": [
    {
     "data": {
      "text/plain": [
       "Unnamed: 0       0\n",
       "Price            0\n",
       "Room             0\n",
       "Meter Square     0\n",
       "Age              0\n",
       "Floortype       83\n",
       "Location         0\n",
       "dtype: int64"
      ]
     },
     "execution_count": 10,
     "metadata": {},
     "output_type": "execute_result"
    }
   ],
   "source": [
    "df.isnull().sum()"
   ]
  },
  {
   "cell_type": "code",
   "execution_count": 11,
   "id": "9f023736",
   "metadata": {},
   "outputs": [],
   "source": [
    "df = df.drop(['Unnamed: 0'], axis=1)"
   ]
  },
  {
   "cell_type": "code",
   "execution_count": 12,
   "id": "dac28ce0",
   "metadata": {},
   "outputs": [
    {
     "data": {
      "text/html": [
       "<div>\n",
       "<style scoped>\n",
       "    .dataframe tbody tr th:only-of-type {\n",
       "        vertical-align: middle;\n",
       "    }\n",
       "\n",
       "    .dataframe tbody tr th {\n",
       "        vertical-align: top;\n",
       "    }\n",
       "\n",
       "    .dataframe thead th {\n",
       "        text-align: right;\n",
       "    }\n",
       "</style>\n",
       "<table border=\"1\" class=\"dataframe\">\n",
       "  <thead>\n",
       "    <tr style=\"text-align: right;\">\n",
       "      <th></th>\n",
       "      <th>Price</th>\n",
       "      <th>Room</th>\n",
       "      <th>Meter Square</th>\n",
       "      <th>Age</th>\n",
       "      <th>Floortype</th>\n",
       "      <th>Location</th>\n",
       "    </tr>\n",
       "  </thead>\n",
       "  <tbody>\n",
       "    <tr>\n",
       "      <th>0</th>\n",
       "      <td>75000</td>\n",
       "      <td>2 + 1</td>\n",
       "      <td>190.0</td>\n",
       "      <td>20 Yaşında</td>\n",
       "      <td>7.Kat</td>\n",
       "      <td>Şişli</td>\n",
       "    </tr>\n",
       "    <tr>\n",
       "      <th>1</th>\n",
       "      <td>85000</td>\n",
       "      <td>4 + 1</td>\n",
       "      <td>220.0</td>\n",
       "      <td>16 Yaşında</td>\n",
       "      <td>4.Kat</td>\n",
       "      <td>Beşiktaş</td>\n",
       "    </tr>\n",
       "    <tr>\n",
       "      <th>2</th>\n",
       "      <td>100000</td>\n",
       "      <td>3 + 2</td>\n",
       "      <td>235.0</td>\n",
       "      <td>32 Yaşında</td>\n",
       "      <td>3.Kat</td>\n",
       "      <td>Beşiktaş</td>\n",
       "    </tr>\n",
       "    <tr>\n",
       "      <th>3</th>\n",
       "      <td>110000</td>\n",
       "      <td>3 + 1</td>\n",
       "      <td>135.0</td>\n",
       "      <td>35 Yaşında</td>\n",
       "      <td>2.Kat</td>\n",
       "      <td>Beşiktaş</td>\n",
       "    </tr>\n",
       "    <tr>\n",
       "      <th>4</th>\n",
       "      <td>79999</td>\n",
       "      <td>3 + 1</td>\n",
       "      <td>270.0</td>\n",
       "      <td>35 Yaşında</td>\n",
       "      <td>2.Kat</td>\n",
       "      <td>Beşiktaş</td>\n",
       "    </tr>\n",
       "  </tbody>\n",
       "</table>\n",
       "</div>"
      ],
      "text/plain": [
       "    Price   Room  Meter Square         Age Floortype  Location\n",
       "0   75000  2 + 1         190.0  20 Yaşında     7.Kat     Şişli\n",
       "1   85000  4 + 1         220.0  16 Yaşında     4.Kat  Beşiktaş\n",
       "2  100000  3 + 2         235.0  32 Yaşında     3.Kat  Beşiktaş\n",
       "3  110000  3 + 1         135.0  35 Yaşında     2.Kat  Beşiktaş\n",
       "4   79999  3 + 1         270.0  35 Yaşında     2.Kat  Beşiktaş"
      ]
     },
     "execution_count": 12,
     "metadata": {},
     "output_type": "execute_result"
    }
   ],
   "source": [
    "df.head()"
   ]
  },
  {
   "cell_type": "markdown",
   "id": "1b52af3d",
   "metadata": {},
   "source": [
    "### Data Visualization and Feature Engineering"
   ]
  },
  {
   "cell_type": "code",
   "execution_count": 13,
   "id": "ad31df68",
   "metadata": {},
   "outputs": [
    {
     "data": {
      "text/plain": [
       "<AxesSubplot:xlabel='Price', ylabel='Density'>"
      ]
     },
     "execution_count": 13,
     "metadata": {},
     "output_type": "execute_result"
    },
    {
     "data": {
      "image/png": "[encoded data removed]",
      "text/plain": [
       "<Figure size 432x288 with 1 Axes>"
      ]
     },
     "metadata": {
      "needs_background": "light"
     },
     "output_type": "display_data"
    }
   ],
   "source": [
    "sns.distplot(df['Price']) # Görselleştirme"
   ]
  },
  {
   "cell_type": "code",
   "execution_count": 14,
   "id": "55a11f86",
   "metadata": {},
   "outputs": [],
   "source": [
    "df['Room'].replace(\"Stüdyo\",\"1\", inplace=True)"
   ]
  },
  {
   "cell_type": "code",
   "execution_count": 15,
   "id": "23934465",
   "metadata": {},
   "outputs": [],
   "source": [
    "df['Room'] = [eval(x) for x in df['Room']] "
   ]
  },
  {
   "cell_type": "code",
   "execution_count": 16,
   "id": "f5265656",
   "metadata": {},
   "outputs": [
    {
     "data": {
      "text/plain": [
       "array([ 3,  5,  4,  2, 12,  6,  7,  1,  9, 11, 36,  8, 10, 17],\n",
       "      dtype=int64)"
      ]
     },
     "execution_count": 16,
     "metadata": {},
     "output_type": "execute_result"
    }
   ],
   "source": [
    "df['Room'].unique()"
   ]
  },
  {
   "cell_type": "code",
   "execution_count": 17,
   "id": "5cc014ac",
   "metadata": {},
   "outputs": [
    {
     "data": {
      "text/plain": [
       "<AxesSubplot:xlabel='Room'>"
      ]
     },
     "execution_count": 17,
     "metadata": {},
     "output_type": "execute_result"
    },
    {
     "data": {
      "image/png": "[encoded data removed]",
      "text/plain": [
       "<Figure size 432x288 with 1 Axes>"
      ]
     },
     "metadata": {
      "needs_background": "light"
     },
     "output_type": "display_data"
    }
   ],
   "source": [
    "\n",
    "sns.boxplot(df['Room']) # Data visualization"
   ]
  },
  {
   "cell_type": "code",
   "execution_count": 18,
   "id": "8f6774e4",
   "metadata": {},
   "outputs": [],
   "source": [
    "outliers = df.quantile(.97)\n",
    "df = df[(df['Room']<outliers['Room'])] # Getting rid of outliers"
   ]
  },
  {
   "cell_type": "code",
   "execution_count": 19,
   "id": "c836605c",
   "metadata": {},
   "outputs": [
    {
     "data": {
      "text/plain": [
       "<AxesSubplot:xlabel='Room'>"
      ]
     },
     "execution_count": 19,
     "metadata": {},
     "output_type": "execute_result"
    },
    {
     "data": {
      "image/png": "[encoded data removed]",
      "text/plain": [
       "<Figure size 432x288 with 1 Axes>"
      ]
     },
     "metadata": {
      "needs_background": "light"
     },
     "output_type": "display_data"
    }
   ],
   "source": [
    "sns.boxplot(df['Room']) # Data visualization"
   ]
  },
  {
   "cell_type": "code",
   "execution_count": 20,
   "id": "24e00528",
   "metadata": {},
   "outputs": [
    {
     "data": {
      "text/plain": [
       "0       190.0\n",
       "1       220.0\n",
       "2       235.0\n",
       "3       135.0\n",
       "4       270.0\n",
       "        ...  \n",
       "2371     75.0\n",
       "2372    140.0\n",
       "2373     80.0\n",
       "2374    257.0\n",
       "2375    110.0\n",
       "Name: Meter Square, Length: 2288, dtype: float64"
      ]
     },
     "execution_count": 20,
     "metadata": {},
     "output_type": "execute_result"
    }
   ],
   "source": [
    "df['Meter Square']"
   ]
  },
  {
   "cell_type": "code",
   "execution_count": 21,
   "id": "479842f3",
   "metadata": {},
   "outputs": [],
   "source": [
    "df['Meter Square'] = df['Meter Square'].astype('int64')"
   ]
  },
  {
   "cell_type": "code",
   "execution_count": 22,
   "id": "999166d0",
   "metadata": {},
   "outputs": [
    {
     "data": {
      "text/plain": [
       "0       190\n",
       "1       220\n",
       "2       235\n",
       "3       135\n",
       "4       270\n",
       "       ... \n",
       "2371     75\n",
       "2372    140\n",
       "2373     80\n",
       "2374    257\n",
       "2375    110\n",
       "Name: Meter Square, Length: 2288, dtype: int64"
      ]
     },
     "execution_count": 22,
     "metadata": {},
     "output_type": "execute_result"
    }
   ],
   "source": [
    "df['Meter Square']"
   ]
  },
  {
   "cell_type": "code",
   "execution_count": 23,
   "id": "fa8ed0a2",
   "metadata": {},
   "outputs": [
    {
     "data": {
      "text/plain": [
       "<AxesSubplot:xlabel='Meter Square'>"
      ]
     },
     "execution_count": 23,
     "metadata": {},
     "output_type": "execute_result"
    },
    {
     "data": {
      "image/png": "[encoded data removed]",
      "text/plain": [
       "<Figure size 432x288 with 1 Axes>"
      ]
     },
     "metadata": {
      "needs_background": "light"
     },
     "output_type": "display_data"
    }
   ],
   "source": [
    "sns.boxplot(df['Meter Square']) # Data Visualization"
   ]
  },
  {
   "cell_type": "code",
   "execution_count": 24,
   "id": "061a2a21",
   "metadata": {},
   "outputs": [],
   "source": [
    "outliers = df.quantile(.97)\n",
    "df = df[(df['Meter Square']<outliers['Meter Square'])] # Getting rid of outliers"
   ]
  },
  {
   "cell_type": "code",
   "execution_count": 25,
   "id": "a3f8f918",
   "metadata": {},
   "outputs": [
    {
     "data": {
      "text/plain": [
       "<AxesSubplot:xlabel='Meter Square'>"
      ]
     },
     "execution_count": 25,
     "metadata": {},
     "output_type": "execute_result"
    },
    {
     "data": {
      "image/png": "[encoded data removed]",
      "text/plain": [
       "<Figure size 432x288 with 1 Axes>"
      ]
     },
     "metadata": {
      "needs_background": "light"
     },
     "output_type": "display_data"
    }
   ],
   "source": [
    "sns.boxplot(df['Meter Square']) # Data Visualization"
   ]
  },
  {
   "cell_type": "code",
   "execution_count": 26,
   "id": "53f92223",
   "metadata": {},
   "outputs": [],
   "source": [
    "df['Age'] = df['Age'].str.extract('(\\d+)');"
   ]
  },
  {
   "cell_type": "code",
   "execution_count": 27,
   "id": "9a724f30",
   "metadata": {},
   "outputs": [
    {
     "data": {
      "text/plain": [
       "0        20\n",
       "1        16\n",
       "2        32\n",
       "3        35\n",
       "4        35\n",
       "       ... \n",
       "2371     30\n",
       "2372     30\n",
       "2373    NaN\n",
       "2374      3\n",
       "2375      8\n",
       "Name: Age, Length: 2219, dtype: object"
      ]
     },
     "execution_count": 27,
     "metadata": {},
     "output_type": "execute_result"
    }
   ],
   "source": [
    "df['Age']"
   ]
  },
  {
   "cell_type": "code",
   "execution_count": 28,
   "id": "213cef70",
   "metadata": {},
   "outputs": [
    {
     "data": {
      "text/plain": [
       "0      20\n",
       "1      16\n",
       "2      32\n",
       "3      35\n",
       "4      35\n",
       "5      16\n",
       "6      10\n",
       "7      30\n",
       "8      15\n",
       "9       4\n",
       "10      5\n",
       "11     12\n",
       "12     25\n",
       "13    NaN\n",
       "16     26\n",
       "17     14\n",
       "18      4\n",
       "20      4\n",
       "21      2\n",
       "22      2\n",
       "23      1\n",
       "24     15\n",
       "25     23\n",
       "26    NaN\n",
       "27    NaN\n",
       "30    NaN\n",
       "31    NaN\n",
       "32      4\n",
       "35     25\n",
       "36      4\n",
       "37     31\n",
       "38     30\n",
       "39    NaN\n",
       "40    NaN\n",
       "41     24\n",
       "42    NaN\n",
       "43     30\n",
       "44     30\n",
       "45     31\n",
       "46      2\n",
       "47     10\n",
       "48      9\n",
       "49     12\n",
       "50    NaN\n",
       "51     25\n",
       "52     16\n",
       "53     16\n",
       "54     50\n",
       "55     35\n",
       "56     45\n",
       "58      5\n",
       "59     30\n",
       "60     10\n",
       "61     11\n",
       "62     25\n",
       "63     25\n",
       "64     25\n",
       "65     50\n",
       "66      5\n",
       "67      5\n",
       "Name: Age, dtype: object"
      ]
     },
     "execution_count": 28,
     "metadata": {},
     "output_type": "execute_result"
    }
   ],
   "source": [
    "df.Age.head(60)"
   ]
  },
  {
   "cell_type": "code",
   "execution_count": 29,
   "id": "aa90e222",
   "metadata": {},
   "outputs": [],
   "source": [
    "df['Age'].fillna(0, inplace=True) "
   ]
  },
  {
   "cell_type": "code",
   "execution_count": 30,
   "id": "b4e22cf1",
   "metadata": {},
   "outputs": [],
   "source": [
    "df['Age'] = df['Age'].astype('int64')"
   ]
  },
  {
   "cell_type": "code",
   "execution_count": 31,
   "id": "a6d8608c",
   "metadata": {},
   "outputs": [],
   "source": [
    "df[\"Price\"]=df[\"Price\"].astype(int)\n",
    "df[\"Room\"]=df[\"Room\"].astype(int)"
   ]
  },
  {
   "cell_type": "code",
   "execution_count": 32,
   "id": "adabec4d",
   "metadata": {},
   "outputs": [
    {
     "data": {
      "text/plain": [
       "0       20\n",
       "1       16\n",
       "2       32\n",
       "3       35\n",
       "4       35\n",
       "        ..\n",
       "2371    30\n",
       "2372    30\n",
       "2373     0\n",
       "2374     3\n",
       "2375     8\n",
       "Name: Age, Length: 2219, dtype: int64"
      ]
     },
     "execution_count": 32,
     "metadata": {},
     "output_type": "execute_result"
    }
   ],
   "source": [
    "df.Age"
   ]
  },
  {
   "cell_type": "code",
   "execution_count": 33,
   "id": "501ecac3",
   "metadata": {},
   "outputs": [
    {
     "data": {
      "text/plain": [
       "<AxesSubplot:xlabel='Age'>"
      ]
     },
     "execution_count": 33,
     "metadata": {},
     "output_type": "execute_result"
    },
    {
     "data": {
      "image/png": "[encoded data removed]",
      "text/plain": [
       "<Figure size 432x288 with 1 Axes>"
      ]
     },
     "metadata": {
      "needs_background": "light"
     },
     "output_type": "display_data"
    }
   ],
   "source": [
    "sns.boxplot(df['Age']) # Data Visualization"
   ]
  },
  {
   "cell_type": "code",
   "execution_count": 34,
   "id": "3d519f91",
   "metadata": {},
   "outputs": [],
   "source": [
    "outliers = df.quantile(.97)\n",
    "df = df[(df['Age']<outliers['Age'])] # Getting rid of outliers"
   ]
  },
  {
   "cell_type": "code",
   "execution_count": 35,
   "id": "4afa09d9",
   "metadata": {},
   "outputs": [
    {
     "data": {
      "text/plain": [
       "<AxesSubplot:xlabel='Age'>"
      ]
     },
     "execution_count": 35,
     "metadata": {},
     "output_type": "execute_result"
    },
    {
     "data": {
      "image/png": "[encoded data removed]",
      "text/plain": [
       "<Figure size 432x288 with 1 Axes>"
      ]
     },
     "metadata": {
      "needs_background": "light"
     },
     "output_type": "display_data"
    }
   ],
   "source": [
    "sns.boxplot(df['Age']) # Data Visualization"
   ]
  },
  {
   "cell_type": "code",
   "execution_count": 36,
   "id": "a384f599",
   "metadata": {},
   "outputs": [
    {
     "data": {
      "text/html": [
       "<div>\n",
       "<style scoped>\n",
       "    .dataframe tbody tr th:only-of-type {\n",
       "        vertical-align: middle;\n",
       "    }\n",
       "\n",
       "    .dataframe tbody tr th {\n",
       "        vertical-align: top;\n",
       "    }\n",
       "\n",
       "    .dataframe thead th {\n",
       "        text-align: right;\n",
       "    }\n",
       "</style>\n",
       "<table border=\"1\" class=\"dataframe\">\n",
       "  <thead>\n",
       "    <tr style=\"text-align: right;\">\n",
       "      <th></th>\n",
       "      <th>Price</th>\n",
       "      <th>Room</th>\n",
       "      <th>Meter Square</th>\n",
       "      <th>Age</th>\n",
       "      <th>Floortype</th>\n",
       "      <th>Location</th>\n",
       "    </tr>\n",
       "  </thead>\n",
       "  <tbody>\n",
       "    <tr>\n",
       "      <th>0</th>\n",
       "      <td>75000</td>\n",
       "      <td>3</td>\n",
       "      <td>190</td>\n",
       "      <td>20</td>\n",
       "      <td>7.Kat</td>\n",
       "      <td>Şişli</td>\n",
       "    </tr>\n",
       "    <tr>\n",
       "      <th>1</th>\n",
       "      <td>85000</td>\n",
       "      <td>5</td>\n",
       "      <td>220</td>\n",
       "      <td>16</td>\n",
       "      <td>4.Kat</td>\n",
       "      <td>Beşiktaş</td>\n",
       "    </tr>\n",
       "    <tr>\n",
       "      <th>2</th>\n",
       "      <td>100000</td>\n",
       "      <td>5</td>\n",
       "      <td>235</td>\n",
       "      <td>32</td>\n",
       "      <td>3.Kat</td>\n",
       "      <td>Beşiktaş</td>\n",
       "    </tr>\n",
       "    <tr>\n",
       "      <th>3</th>\n",
       "      <td>110000</td>\n",
       "      <td>4</td>\n",
       "      <td>135</td>\n",
       "      <td>35</td>\n",
       "      <td>2.Kat</td>\n",
       "      <td>Beşiktaş</td>\n",
       "    </tr>\n",
       "    <tr>\n",
       "      <th>4</th>\n",
       "      <td>79999</td>\n",
       "      <td>4</td>\n",
       "      <td>270</td>\n",
       "      <td>35</td>\n",
       "      <td>2.Kat</td>\n",
       "      <td>Beşiktaş</td>\n",
       "    </tr>\n",
       "    <tr>\n",
       "      <th>...</th>\n",
       "      <td>...</td>\n",
       "      <td>...</td>\n",
       "      <td>...</td>\n",
       "      <td>...</td>\n",
       "      <td>...</td>\n",
       "      <td>...</td>\n",
       "    </tr>\n",
       "    <tr>\n",
       "      <th>2371</th>\n",
       "      <td>7000</td>\n",
       "      <td>2</td>\n",
       "      <td>75</td>\n",
       "      <td>30</td>\n",
       "      <td>YüksekGiriş</td>\n",
       "      <td>Fatih</td>\n",
       "    </tr>\n",
       "    <tr>\n",
       "      <th>2372</th>\n",
       "      <td>13500</td>\n",
       "      <td>4</td>\n",
       "      <td>140</td>\n",
       "      <td>30</td>\n",
       "      <td>5.Kat</td>\n",
       "      <td>Bahçelievler</td>\n",
       "    </tr>\n",
       "    <tr>\n",
       "      <th>2373</th>\n",
       "      <td>35000</td>\n",
       "      <td>3</td>\n",
       "      <td>80</td>\n",
       "      <td>0</td>\n",
       "      <td>3.Kat</td>\n",
       "      <td>Beşiktaş</td>\n",
       "    </tr>\n",
       "    <tr>\n",
       "      <th>2374</th>\n",
       "      <td>30000</td>\n",
       "      <td>4</td>\n",
       "      <td>257</td>\n",
       "      <td>3</td>\n",
       "      <td>8.Kat</td>\n",
       "      <td>Kağıthane</td>\n",
       "    </tr>\n",
       "    <tr>\n",
       "      <th>2375</th>\n",
       "      <td>25000</td>\n",
       "      <td>3</td>\n",
       "      <td>110</td>\n",
       "      <td>8</td>\n",
       "      <td>16.Kat</td>\n",
       "      <td>Esenyurt</td>\n",
       "    </tr>\n",
       "  </tbody>\n",
       "</table>\n",
       "<p>2151 rows × 6 columns</p>\n",
       "</div>"
      ],
      "text/plain": [
       "       Price  Room  Meter Square  Age    Floortype      Location\n",
       "0      75000     3           190   20        7.Kat         Şişli\n",
       "1      85000     5           220   16        4.Kat      Beşiktaş\n",
       "2     100000     5           235   32        3.Kat      Beşiktaş\n",
       "3     110000     4           135   35        2.Kat      Beşiktaş\n",
       "4      79999     4           270   35        2.Kat      Beşiktaş\n",
       "...      ...   ...           ...  ...          ...           ...\n",
       "2371    7000     2            75   30  YüksekGiriş         Fatih\n",
       "2372   13500     4           140   30        5.Kat  Bahçelievler\n",
       "2373   35000     3            80    0        3.Kat      Beşiktaş\n",
       "2374   30000     4           257    3        8.Kat     Kağıthane\n",
       "2375   25000     3           110    8       16.Kat      Esenyurt\n",
       "\n",
       "[2151 rows x 6 columns]"
      ]
     },
     "execution_count": 36,
     "metadata": {},
     "output_type": "execute_result"
    }
   ],
   "source": [
    "df"
   ]
  },
  {
   "cell_type": "code",
   "execution_count": 37,
   "id": "9277fb58",
   "metadata": {},
   "outputs": [],
   "source": [
    "df['Floortype'] = df['Floortype'].str.replace('BahçeKatı','0')"
   ]
  },
  {
   "cell_type": "code",
   "execution_count": 38,
   "id": "b5fda8b6",
   "metadata": {},
   "outputs": [],
   "source": [
    "df['Floortype'] = df['Floortype'].str.replace('AraKat','2')"
   ]
  },
  {
   "cell_type": "code",
   "execution_count": 39,
   "id": "221ad5e5",
   "metadata": {},
   "outputs": [
    {
     "data": {
      "text/html": [
       "<div>\n",
       "<style scoped>\n",
       "    .dataframe tbody tr th:only-of-type {\n",
       "        vertical-align: middle;\n",
       "    }\n",
       "\n",
       "    .dataframe tbody tr th {\n",
       "        vertical-align: top;\n",
       "    }\n",
       "\n",
       "    .dataframe thead th {\n",
       "        text-align: right;\n",
       "    }\n",
       "</style>\n",
       "<table border=\"1\" class=\"dataframe\">\n",
       "  <thead>\n",
       "    <tr style=\"text-align: right;\">\n",
       "      <th></th>\n",
       "      <th>Price</th>\n",
       "      <th>Room</th>\n",
       "      <th>Meter Square</th>\n",
       "      <th>Age</th>\n",
       "      <th>Floortype</th>\n",
       "      <th>Location</th>\n",
       "    </tr>\n",
       "  </thead>\n",
       "  <tbody>\n",
       "    <tr>\n",
       "      <th>0</th>\n",
       "      <td>75000</td>\n",
       "      <td>3</td>\n",
       "      <td>190</td>\n",
       "      <td>20</td>\n",
       "      <td>7.Kat</td>\n",
       "      <td>Şişli</td>\n",
       "    </tr>\n",
       "    <tr>\n",
       "      <th>1</th>\n",
       "      <td>85000</td>\n",
       "      <td>5</td>\n",
       "      <td>220</td>\n",
       "      <td>16</td>\n",
       "      <td>4.Kat</td>\n",
       "      <td>Beşiktaş</td>\n",
       "    </tr>\n",
       "    <tr>\n",
       "      <th>2</th>\n",
       "      <td>100000</td>\n",
       "      <td>5</td>\n",
       "      <td>235</td>\n",
       "      <td>32</td>\n",
       "      <td>3.Kat</td>\n",
       "      <td>Beşiktaş</td>\n",
       "    </tr>\n",
       "    <tr>\n",
       "      <th>3</th>\n",
       "      <td>110000</td>\n",
       "      <td>4</td>\n",
       "      <td>135</td>\n",
       "      <td>35</td>\n",
       "      <td>2.Kat</td>\n",
       "      <td>Beşiktaş</td>\n",
       "    </tr>\n",
       "    <tr>\n",
       "      <th>4</th>\n",
       "      <td>79999</td>\n",
       "      <td>4</td>\n",
       "      <td>270</td>\n",
       "      <td>35</td>\n",
       "      <td>2.Kat</td>\n",
       "      <td>Beşiktaş</td>\n",
       "    </tr>\n",
       "    <tr>\n",
       "      <th>...</th>\n",
       "      <td>...</td>\n",
       "      <td>...</td>\n",
       "      <td>...</td>\n",
       "      <td>...</td>\n",
       "      <td>...</td>\n",
       "      <td>...</td>\n",
       "    </tr>\n",
       "    <tr>\n",
       "      <th>2371</th>\n",
       "      <td>7000</td>\n",
       "      <td>2</td>\n",
       "      <td>75</td>\n",
       "      <td>30</td>\n",
       "      <td>YüksekGiriş</td>\n",
       "      <td>Fatih</td>\n",
       "    </tr>\n",
       "    <tr>\n",
       "      <th>2372</th>\n",
       "      <td>13500</td>\n",
       "      <td>4</td>\n",
       "      <td>140</td>\n",
       "      <td>30</td>\n",
       "      <td>5.Kat</td>\n",
       "      <td>Bahçelievler</td>\n",
       "    </tr>\n",
       "    <tr>\n",
       "      <th>2373</th>\n",
       "      <td>35000</td>\n",
       "      <td>3</td>\n",
       "      <td>80</td>\n",
       "      <td>0</td>\n",
       "      <td>3.Kat</td>\n",
       "      <td>Beşiktaş</td>\n",
       "    </tr>\n",
       "    <tr>\n",
       "      <th>2374</th>\n",
       "      <td>30000</td>\n",
       "      <td>4</td>\n",
       "      <td>257</td>\n",
       "      <td>3</td>\n",
       "      <td>8.Kat</td>\n",
       "      <td>Kağıthane</td>\n",
       "    </tr>\n",
       "    <tr>\n",
       "      <th>2375</th>\n",
       "      <td>25000</td>\n",
       "      <td>3</td>\n",
       "      <td>110</td>\n",
       "      <td>8</td>\n",
       "      <td>16.Kat</td>\n",
       "      <td>Esenyurt</td>\n",
       "    </tr>\n",
       "  </tbody>\n",
       "</table>\n",
       "<p>2151 rows × 6 columns</p>\n",
       "</div>"
      ],
      "text/plain": [
       "       Price  Room  Meter Square  Age    Floortype      Location\n",
       "0      75000     3           190   20        7.Kat         Şişli\n",
       "1      85000     5           220   16        4.Kat      Beşiktaş\n",
       "2     100000     5           235   32        3.Kat      Beşiktaş\n",
       "3     110000     4           135   35        2.Kat      Beşiktaş\n",
       "4      79999     4           270   35        2.Kat      Beşiktaş\n",
       "...      ...   ...           ...  ...          ...           ...\n",
       "2371    7000     2            75   30  YüksekGiriş         Fatih\n",
       "2372   13500     4           140   30        5.Kat  Bahçelievler\n",
       "2373   35000     3            80    0        3.Kat      Beşiktaş\n",
       "2374   30000     4           257    3        8.Kat     Kağıthane\n",
       "2375   25000     3           110    8       16.Kat      Esenyurt\n",
       "\n",
       "[2151 rows x 6 columns]"
      ]
     },
     "execution_count": 39,
     "metadata": {},
     "output_type": "execute_result"
    }
   ],
   "source": [
    "df"
   ]
  },
  {
   "cell_type": "code",
   "execution_count": 40,
   "id": "0b27e256",
   "metadata": {},
   "outputs": [],
   "source": [
    "df['Floortype'] = df['Floortype'].str.replace('.Kat','')"
   ]
  },
  {
   "cell_type": "code",
   "execution_count": 41,
   "id": "51103891",
   "metadata": {},
   "outputs": [],
   "source": [
    "df['Floortype'] = df['Floortype'].str.replace('veüzeri','')"
   ]
  },
  {
   "cell_type": "code",
   "execution_count": 42,
   "id": "ed353170",
   "metadata": {},
   "outputs": [
    {
     "data": {
      "text/html": [
       "<div>\n",
       "<style scoped>\n",
       "    .dataframe tbody tr th:only-of-type {\n",
       "        vertical-align: middle;\n",
       "    }\n",
       "\n",
       "    .dataframe tbody tr th {\n",
       "        vertical-align: top;\n",
       "    }\n",
       "\n",
       "    .dataframe thead th {\n",
       "        text-align: right;\n",
       "    }\n",
       "</style>\n",
       "<table border=\"1\" class=\"dataframe\">\n",
       "  <thead>\n",
       "    <tr style=\"text-align: right;\">\n",
       "      <th></th>\n",
       "      <th>Price</th>\n",
       "      <th>Room</th>\n",
       "      <th>Meter Square</th>\n",
       "      <th>Age</th>\n",
       "      <th>Floortype</th>\n",
       "      <th>Location</th>\n",
       "    </tr>\n",
       "  </thead>\n",
       "  <tbody>\n",
       "    <tr>\n",
       "      <th>0</th>\n",
       "      <td>75000</td>\n",
       "      <td>3</td>\n",
       "      <td>190</td>\n",
       "      <td>20</td>\n",
       "      <td>7</td>\n",
       "      <td>Şişli</td>\n",
       "    </tr>\n",
       "    <tr>\n",
       "      <th>1</th>\n",
       "      <td>85000</td>\n",
       "      <td>5</td>\n",
       "      <td>220</td>\n",
       "      <td>16</td>\n",
       "      <td>4</td>\n",
       "      <td>Beşiktaş</td>\n",
       "    </tr>\n",
       "    <tr>\n",
       "      <th>2</th>\n",
       "      <td>100000</td>\n",
       "      <td>5</td>\n",
       "      <td>235</td>\n",
       "      <td>32</td>\n",
       "      <td>3</td>\n",
       "      <td>Beşiktaş</td>\n",
       "    </tr>\n",
       "    <tr>\n",
       "      <th>3</th>\n",
       "      <td>110000</td>\n",
       "      <td>4</td>\n",
       "      <td>135</td>\n",
       "      <td>35</td>\n",
       "      <td>2</td>\n",
       "      <td>Beşiktaş</td>\n",
       "    </tr>\n",
       "    <tr>\n",
       "      <th>4</th>\n",
       "      <td>79999</td>\n",
       "      <td>4</td>\n",
       "      <td>270</td>\n",
       "      <td>35</td>\n",
       "      <td>2</td>\n",
       "      <td>Beşiktaş</td>\n",
       "    </tr>\n",
       "    <tr>\n",
       "      <th>5</th>\n",
       "      <td>85000</td>\n",
       "      <td>3</td>\n",
       "      <td>169</td>\n",
       "      <td>16</td>\n",
       "      <td>5</td>\n",
       "      <td>Beşiktaş</td>\n",
       "    </tr>\n",
       "    <tr>\n",
       "      <th>6</th>\n",
       "      <td>88000</td>\n",
       "      <td>3</td>\n",
       "      <td>280</td>\n",
       "      <td>10</td>\n",
       "      <td>21</td>\n",
       "      <td>Beşiktaş</td>\n",
       "    </tr>\n",
       "    <tr>\n",
       "      <th>7</th>\n",
       "      <td>18000</td>\n",
       "      <td>2</td>\n",
       "      <td>65</td>\n",
       "      <td>30</td>\n",
       "      <td>2</td>\n",
       "      <td>Şişli</td>\n",
       "    </tr>\n",
       "    <tr>\n",
       "      <th>8</th>\n",
       "      <td>85000</td>\n",
       "      <td>4</td>\n",
       "      <td>220</td>\n",
       "      <td>15</td>\n",
       "      <td>11</td>\n",
       "      <td>Beşiktaş</td>\n",
       "    </tr>\n",
       "    <tr>\n",
       "      <th>9</th>\n",
       "      <td>23500</td>\n",
       "      <td>4</td>\n",
       "      <td>125</td>\n",
       "      <td>4</td>\n",
       "      <td>2</td>\n",
       "      <td>Kadıköy</td>\n",
       "    </tr>\n",
       "    <tr>\n",
       "      <th>10</th>\n",
       "      <td>24000</td>\n",
       "      <td>4</td>\n",
       "      <td>125</td>\n",
       "      <td>5</td>\n",
       "      <td>14</td>\n",
       "      <td>Kadıköy</td>\n",
       "    </tr>\n",
       "    <tr>\n",
       "      <th>11</th>\n",
       "      <td>33000</td>\n",
       "      <td>4</td>\n",
       "      <td>175</td>\n",
       "      <td>12</td>\n",
       "      <td>7</td>\n",
       "      <td>Zeytinburnu</td>\n",
       "    </tr>\n",
       "    <tr>\n",
       "      <th>12</th>\n",
       "      <td>30000</td>\n",
       "      <td>4</td>\n",
       "      <td>150</td>\n",
       "      <td>25</td>\n",
       "      <td>3</td>\n",
       "      <td>Bakırköy</td>\n",
       "    </tr>\n",
       "    <tr>\n",
       "      <th>13</th>\n",
       "      <td>100000</td>\n",
       "      <td>4</td>\n",
       "      <td>220</td>\n",
       "      <td>0</td>\n",
       "      <td>18</td>\n",
       "      <td>Beşiktaş</td>\n",
       "    </tr>\n",
       "    <tr>\n",
       "      <th>16</th>\n",
       "      <td>80000</td>\n",
       "      <td>5</td>\n",
       "      <td>280</td>\n",
       "      <td>26</td>\n",
       "      <td>2</td>\n",
       "      <td>Beşiktaş</td>\n",
       "    </tr>\n",
       "    <tr>\n",
       "      <th>17</th>\n",
       "      <td>18500</td>\n",
       "      <td>3</td>\n",
       "      <td>120</td>\n",
       "      <td>14</td>\n",
       "      <td>3</td>\n",
       "      <td>Üsküdar</td>\n",
       "    </tr>\n",
       "    <tr>\n",
       "      <th>18</th>\n",
       "      <td>200000</td>\n",
       "      <td>4</td>\n",
       "      <td>262</td>\n",
       "      <td>4</td>\n",
       "      <td>0</td>\n",
       "      <td>Beşiktaş</td>\n",
       "    </tr>\n",
       "    <tr>\n",
       "      <th>20</th>\n",
       "      <td>130000</td>\n",
       "      <td>4</td>\n",
       "      <td>228</td>\n",
       "      <td>4</td>\n",
       "      <td>2</td>\n",
       "      <td>Beşiktaş</td>\n",
       "    </tr>\n",
       "    <tr>\n",
       "      <th>21</th>\n",
       "      <td>160000</td>\n",
       "      <td>4</td>\n",
       "      <td>228</td>\n",
       "      <td>2</td>\n",
       "      <td>2</td>\n",
       "      <td>Beşiktaş</td>\n",
       "    </tr>\n",
       "    <tr>\n",
       "      <th>22</th>\n",
       "      <td>180000</td>\n",
       "      <td>4</td>\n",
       "      <td>223</td>\n",
       "      <td>2</td>\n",
       "      <td>0</td>\n",
       "      <td>Beşiktaş</td>\n",
       "    </tr>\n",
       "    <tr>\n",
       "      <th>23</th>\n",
       "      <td>57500</td>\n",
       "      <td>4</td>\n",
       "      <td>160</td>\n",
       "      <td>1</td>\n",
       "      <td>1</td>\n",
       "      <td>Beykoz</td>\n",
       "    </tr>\n",
       "    <tr>\n",
       "      <th>24</th>\n",
       "      <td>80000</td>\n",
       "      <td>5</td>\n",
       "      <td>240</td>\n",
       "      <td>15</td>\n",
       "      <td>3</td>\n",
       "      <td>Beşiktaş</td>\n",
       "    </tr>\n",
       "    <tr>\n",
       "      <th>25</th>\n",
       "      <td>38000</td>\n",
       "      <td>3</td>\n",
       "      <td>135</td>\n",
       "      <td>23</td>\n",
       "      <td>1</td>\n",
       "      <td>Beşiktaş</td>\n",
       "    </tr>\n",
       "    <tr>\n",
       "      <th>26</th>\n",
       "      <td>93000</td>\n",
       "      <td>3</td>\n",
       "      <td>230</td>\n",
       "      <td>0</td>\n",
       "      <td>6</td>\n",
       "      <td>Beşiktaş</td>\n",
       "    </tr>\n",
       "    <tr>\n",
       "      <th>27</th>\n",
       "      <td>75000</td>\n",
       "      <td>4</td>\n",
       "      <td>242</td>\n",
       "      <td>0</td>\n",
       "      <td>21</td>\n",
       "      <td>Beşiktaş</td>\n",
       "    </tr>\n",
       "    <tr>\n",
       "      <th>30</th>\n",
       "      <td>100000</td>\n",
       "      <td>4</td>\n",
       "      <td>242</td>\n",
       "      <td>0</td>\n",
       "      <td>21</td>\n",
       "      <td>Beşiktaş</td>\n",
       "    </tr>\n",
       "    <tr>\n",
       "      <th>31</th>\n",
       "      <td>93500</td>\n",
       "      <td>4</td>\n",
       "      <td>221</td>\n",
       "      <td>0</td>\n",
       "      <td>8</td>\n",
       "      <td>Beşiktaş</td>\n",
       "    </tr>\n",
       "    <tr>\n",
       "      <th>32</th>\n",
       "      <td>139000</td>\n",
       "      <td>3</td>\n",
       "      <td>232</td>\n",
       "      <td>4</td>\n",
       "      <td>5</td>\n",
       "      <td>Beşiktaş</td>\n",
       "    </tr>\n",
       "    <tr>\n",
       "      <th>35</th>\n",
       "      <td>150000</td>\n",
       "      <td>4</td>\n",
       "      <td>180</td>\n",
       "      <td>25</td>\n",
       "      <td>6</td>\n",
       "      <td>Beşiktaş</td>\n",
       "    </tr>\n",
       "    <tr>\n",
       "      <th>36</th>\n",
       "      <td>52000</td>\n",
       "      <td>5</td>\n",
       "      <td>190</td>\n",
       "      <td>4</td>\n",
       "      <td>3</td>\n",
       "      <td>Kadıköy</td>\n",
       "    </tr>\n",
       "    <tr>\n",
       "      <th>37</th>\n",
       "      <td>37000</td>\n",
       "      <td>3</td>\n",
       "      <td>75</td>\n",
       "      <td>31</td>\n",
       "      <td>2</td>\n",
       "      <td>Beyoğlu</td>\n",
       "    </tr>\n",
       "    <tr>\n",
       "      <th>38</th>\n",
       "      <td>8500</td>\n",
       "      <td>4</td>\n",
       "      <td>140</td>\n",
       "      <td>30</td>\n",
       "      <td>3</td>\n",
       "      <td>Eyüpsultan</td>\n",
       "    </tr>\n",
       "    <tr>\n",
       "      <th>39</th>\n",
       "      <td>17000</td>\n",
       "      <td>3</td>\n",
       "      <td>60</td>\n",
       "      <td>0</td>\n",
       "      <td>6</td>\n",
       "      <td>Kadıköy</td>\n",
       "    </tr>\n",
       "    <tr>\n",
       "      <th>40</th>\n",
       "      <td>15000</td>\n",
       "      <td>2</td>\n",
       "      <td>75</td>\n",
       "      <td>0</td>\n",
       "      <td>2</td>\n",
       "      <td>Kadıköy</td>\n",
       "    </tr>\n",
       "    <tr>\n",
       "      <th>41</th>\n",
       "      <td>7250</td>\n",
       "      <td>3</td>\n",
       "      <td>130</td>\n",
       "      <td>24</td>\n",
       "      <td>4</td>\n",
       "      <td>Zeytinburnu</td>\n",
       "    </tr>\n",
       "    <tr>\n",
       "      <th>42</th>\n",
       "      <td>13500</td>\n",
       "      <td>3</td>\n",
       "      <td>85</td>\n",
       "      <td>0</td>\n",
       "      <td>3</td>\n",
       "      <td>Üsküdar</td>\n",
       "    </tr>\n",
       "    <tr>\n",
       "      <th>43</th>\n",
       "      <td>8250</td>\n",
       "      <td>3</td>\n",
       "      <td>90</td>\n",
       "      <td>30</td>\n",
       "      <td>YüksekGiriş</td>\n",
       "      <td>Şişli</td>\n",
       "    </tr>\n",
       "    <tr>\n",
       "      <th>44</th>\n",
       "      <td>90000</td>\n",
       "      <td>4</td>\n",
       "      <td>200</td>\n",
       "      <td>30</td>\n",
       "      <td>1</td>\n",
       "      <td>Beşiktaş</td>\n",
       "    </tr>\n",
       "    <tr>\n",
       "      <th>45</th>\n",
       "      <td>50000</td>\n",
       "      <td>5</td>\n",
       "      <td>180</td>\n",
       "      <td>31</td>\n",
       "      <td>NaN</td>\n",
       "      <td>Sarıyer</td>\n",
       "    </tr>\n",
       "    <tr>\n",
       "      <th>46</th>\n",
       "      <td>50000</td>\n",
       "      <td>5</td>\n",
       "      <td>210</td>\n",
       "      <td>2</td>\n",
       "      <td>7</td>\n",
       "      <td>Kadıköy</td>\n",
       "    </tr>\n",
       "    <tr>\n",
       "      <th>47</th>\n",
       "      <td>10000</td>\n",
       "      <td>3</td>\n",
       "      <td>80</td>\n",
       "      <td>10</td>\n",
       "      <td>3</td>\n",
       "      <td>Ataşehir</td>\n",
       "    </tr>\n",
       "    <tr>\n",
       "      <th>48</th>\n",
       "      <td>8500</td>\n",
       "      <td>3</td>\n",
       "      <td>90</td>\n",
       "      <td>9</td>\n",
       "      <td>2</td>\n",
       "      <td>Ataşehir</td>\n",
       "    </tr>\n",
       "    <tr>\n",
       "      <th>49</th>\n",
       "      <td>15000</td>\n",
       "      <td>4</td>\n",
       "      <td>100</td>\n",
       "      <td>12</td>\n",
       "      <td>1</td>\n",
       "      <td>Zeytinburnu</td>\n",
       "    </tr>\n",
       "    <tr>\n",
       "      <th>50</th>\n",
       "      <td>9750</td>\n",
       "      <td>3</td>\n",
       "      <td>95</td>\n",
       "      <td>0</td>\n",
       "      <td>3</td>\n",
       "      <td>Bahçelievler</td>\n",
       "    </tr>\n",
       "    <tr>\n",
       "      <th>51</th>\n",
       "      <td>7000</td>\n",
       "      <td>3</td>\n",
       "      <td>110</td>\n",
       "      <td>25</td>\n",
       "      <td>2</td>\n",
       "      <td>Küçükçekmece</td>\n",
       "    </tr>\n",
       "    <tr>\n",
       "      <th>52</th>\n",
       "      <td>66000</td>\n",
       "      <td>3</td>\n",
       "      <td>153</td>\n",
       "      <td>16</td>\n",
       "      <td>4</td>\n",
       "      <td>Şişli</td>\n",
       "    </tr>\n",
       "    <tr>\n",
       "      <th>53</th>\n",
       "      <td>84500</td>\n",
       "      <td>4</td>\n",
       "      <td>240</td>\n",
       "      <td>16</td>\n",
       "      <td>13</td>\n",
       "      <td>Şişli</td>\n",
       "    </tr>\n",
       "    <tr>\n",
       "      <th>55</th>\n",
       "      <td>18950</td>\n",
       "      <td>4</td>\n",
       "      <td>120</td>\n",
       "      <td>35</td>\n",
       "      <td>1</td>\n",
       "      <td>Şişli</td>\n",
       "    </tr>\n",
       "    <tr>\n",
       "      <th>58</th>\n",
       "      <td>16000</td>\n",
       "      <td>2</td>\n",
       "      <td>77</td>\n",
       "      <td>5</td>\n",
       "      <td>11</td>\n",
       "      <td>Ataşehir</td>\n",
       "    </tr>\n",
       "    <tr>\n",
       "      <th>59</th>\n",
       "      <td>23000</td>\n",
       "      <td>4</td>\n",
       "      <td>120</td>\n",
       "      <td>30</td>\n",
       "      <td>1</td>\n",
       "      <td>Beşiktaş</td>\n",
       "    </tr>\n",
       "    <tr>\n",
       "      <th>60</th>\n",
       "      <td>12000</td>\n",
       "      <td>4</td>\n",
       "      <td>120</td>\n",
       "      <td>10</td>\n",
       "      <td>8</td>\n",
       "      <td>Bağcılar</td>\n",
       "    </tr>\n",
       "    <tr>\n",
       "      <th>61</th>\n",
       "      <td>15500</td>\n",
       "      <td>3</td>\n",
       "      <td>120</td>\n",
       "      <td>11</td>\n",
       "      <td>2</td>\n",
       "      <td>Pendik</td>\n",
       "    </tr>\n",
       "    <tr>\n",
       "      <th>62</th>\n",
       "      <td>26000</td>\n",
       "      <td>3</td>\n",
       "      <td>120</td>\n",
       "      <td>25</td>\n",
       "      <td>3</td>\n",
       "      <td>Şişli</td>\n",
       "    </tr>\n",
       "    <tr>\n",
       "      <th>63</th>\n",
       "      <td>15000</td>\n",
       "      <td>3</td>\n",
       "      <td>75</td>\n",
       "      <td>25</td>\n",
       "      <td>EnÜs</td>\n",
       "      <td>Beyoğlu</td>\n",
       "    </tr>\n",
       "    <tr>\n",
       "      <th>64</th>\n",
       "      <td>24000</td>\n",
       "      <td>2</td>\n",
       "      <td>85</td>\n",
       "      <td>25</td>\n",
       "      <td>YüksekGiriş</td>\n",
       "      <td>Şişli</td>\n",
       "    </tr>\n",
       "    <tr>\n",
       "      <th>66</th>\n",
       "      <td>8750</td>\n",
       "      <td>3</td>\n",
       "      <td>95</td>\n",
       "      <td>5</td>\n",
       "      <td>2</td>\n",
       "      <td>Maltepe</td>\n",
       "    </tr>\n",
       "    <tr>\n",
       "      <th>67</th>\n",
       "      <td>7250</td>\n",
       "      <td>4</td>\n",
       "      <td>150</td>\n",
       "      <td>5</td>\n",
       "      <td>6</td>\n",
       "      <td>Esenyurt</td>\n",
       "    </tr>\n",
       "    <tr>\n",
       "      <th>68</th>\n",
       "      <td>14000</td>\n",
       "      <td>3</td>\n",
       "      <td>100</td>\n",
       "      <td>0</td>\n",
       "      <td>2</td>\n",
       "      <td>Kartal</td>\n",
       "    </tr>\n",
       "    <tr>\n",
       "      <th>69</th>\n",
       "      <td>2000</td>\n",
       "      <td>3</td>\n",
       "      <td>95</td>\n",
       "      <td>20</td>\n",
       "      <td>4</td>\n",
       "      <td>Kadıköy</td>\n",
       "    </tr>\n",
       "    <tr>\n",
       "      <th>70</th>\n",
       "      <td>18000</td>\n",
       "      <td>4</td>\n",
       "      <td>110</td>\n",
       "      <td>0</td>\n",
       "      <td>3</td>\n",
       "      <td>Şişli</td>\n",
       "    </tr>\n",
       "  </tbody>\n",
       "</table>\n",
       "</div>"
      ],
      "text/plain": [
       "     Price  Room  Meter Square  Age    Floortype      Location\n",
       "0    75000     3           190   20            7         Şişli\n",
       "1    85000     5           220   16            4      Beşiktaş\n",
       "2   100000     5           235   32            3      Beşiktaş\n",
       "3   110000     4           135   35            2      Beşiktaş\n",
       "4    79999     4           270   35            2      Beşiktaş\n",
       "5    85000     3           169   16            5      Beşiktaş\n",
       "6    88000     3           280   10           21      Beşiktaş\n",
       "7    18000     2            65   30            2         Şişli\n",
       "8    85000     4           220   15           11      Beşiktaş\n",
       "9    23500     4           125    4            2       Kadıköy\n",
       "10   24000     4           125    5           14       Kadıköy\n",
       "11   33000     4           175   12            7   Zeytinburnu\n",
       "12   30000     4           150   25            3      Bakırköy\n",
       "13  100000     4           220    0           18      Beşiktaş\n",
       "16   80000     5           280   26            2      Beşiktaş\n",
       "17   18500     3           120   14            3       Üsküdar\n",
       "18  200000     4           262    4            0      Beşiktaş\n",
       "20  130000     4           228    4            2      Beşiktaş\n",
       "21  160000     4           228    2            2      Beşiktaş\n",
       "22  180000     4           223    2            0      Beşiktaş\n",
       "23   57500     4           160    1            1        Beykoz\n",
       "24   80000     5           240   15            3      Beşiktaş\n",
       "25   38000     3           135   23            1      Beşiktaş\n",
       "26   93000     3           230    0            6      Beşiktaş\n",
       "27   75000     4           242    0           21      Beşiktaş\n",
       "30  100000     4           242    0           21      Beşiktaş\n",
       "31   93500     4           221    0            8      Beşiktaş\n",
       "32  139000     3           232    4            5      Beşiktaş\n",
       "35  150000     4           180   25            6      Beşiktaş\n",
       "36   52000     5           190    4            3       Kadıköy\n",
       "37   37000     3            75   31            2       Beyoğlu\n",
       "38    8500     4           140   30            3    Eyüpsultan\n",
       "39   17000     3            60    0            6       Kadıköy\n",
       "40   15000     2            75    0            2       Kadıköy\n",
       "41    7250     3           130   24            4   Zeytinburnu\n",
       "42   13500     3            85    0            3       Üsküdar\n",
       "43    8250     3            90   30  YüksekGiriş         Şişli\n",
       "44   90000     4           200   30            1      Beşiktaş\n",
       "45   50000     5           180   31          NaN       Sarıyer\n",
       "46   50000     5           210    2            7       Kadıköy\n",
       "47   10000     3            80   10            3      Ataşehir\n",
       "48    8500     3            90    9            2      Ataşehir\n",
       "49   15000     4           100   12            1   Zeytinburnu\n",
       "50    9750     3            95    0            3  Bahçelievler\n",
       "51    7000     3           110   25            2  Küçükçekmece\n",
       "52   66000     3           153   16            4         Şişli\n",
       "53   84500     4           240   16           13         Şişli\n",
       "55   18950     4           120   35            1         Şişli\n",
       "58   16000     2            77    5           11      Ataşehir\n",
       "59   23000     4           120   30            1      Beşiktaş\n",
       "60   12000     4           120   10            8      Bağcılar\n",
       "61   15500     3           120   11            2        Pendik\n",
       "62   26000     3           120   25            3         Şişli\n",
       "63   15000     3            75   25         EnÜs       Beyoğlu\n",
       "64   24000     2            85   25  YüksekGiriş         Şişli\n",
       "66    8750     3            95    5            2       Maltepe\n",
       "67    7250     4           150    5            6      Esenyurt\n",
       "68   14000     3           100    0            2        Kartal\n",
       "69    2000     3            95   20            4       Kadıköy\n",
       "70   18000     4           110    0            3         Şişli"
      ]
     },
     "execution_count": 42,
     "metadata": {},
     "output_type": "execute_result"
    }
   ],
   "source": [
    "df.head(60)"
   ]
  },
  {
   "cell_type": "code",
   "execution_count": 43,
   "id": "8df2f707",
   "metadata": {},
   "outputs": [
    {
     "data": {
      "text/plain": [
       "<AxesSubplot:xlabel='Floortype', ylabel='count'>"
      ]
     },
     "execution_count": 43,
     "metadata": {},
     "output_type": "execute_result"
    },
    {
     "data": {
      "image/png": "[encoded data removed]",
      "text/plain": [
       "<Figure size 432x288 with 1 Axes>"
      ]
     },
     "metadata": {
      "needs_background": "light"
     },
     "output_type": "display_data"
    }
   ],
   "source": [
    "sns.countplot(df['Floortype'])"
   ]
  },
  {
   "cell_type": "code",
   "execution_count": 44,
   "id": "f25a2404",
   "metadata": {},
   "outputs": [
    {
     "data": {
      "image/png": "[encoded data removed]",
      "text/plain": [
       "<Figure size 864x360 with 1 Axes>"
      ]
     },
     "metadata": {
      "needs_background": "light"
     },
     "output_type": "display_data"
    }
   ],
   "source": [
    "plt.figure(figsize=(12,5))\n",
    "ax = sns.scatterplot(x=\"Meter Square\", y=\"Price\",\n",
    "                     hue=\"Location\", size =\"Location\",\n",
    "                     palette='copper', sizes=(50, 300),\n",
    "                     data=df)\n",
    "plt.xlabel(\"Meter Square\")\n",
    "plt.ylabel(\"Price\")\n",
    "plt.show()"
   ]
  },
  {
   "cell_type": "code",
   "execution_count": 45,
   "id": "392cdf99",
   "metadata": {
    "scrolled": true
   },
   "outputs": [
    {
     "data": {
      "image/png": "[encoded data removed]",
      "text/plain": [
       "<Figure size 842.4x595.44 with 1 Axes>"
      ]
     },
     "metadata": {},
     "output_type": "display_data"
    }
   ],
   "source": [
    "import seaborn as sns\n",
    "\n",
    "ax = sns.set(rc={'figure.figsize':(11.7,8.27)})\n",
    "ax = sns.barplot(x=df['Location'], y=df['Price'])\n",
    "ax.tick_params(axis='x', rotation=90)"
   ]
  },
  {
   "cell_type": "code",
   "execution_count": 46,
   "id": "771329f6",
   "metadata": {},
   "outputs": [
    {
     "data": {
      "image/png": "[encoded data removed]",
      "text/plain": [
       "<Figure size 1440x1080 with 1 Axes>"
      ]
     },
     "metadata": {},
     "output_type": "display_data"
    }
   ],
   "source": [
    "ax = plt.figure(figsize=(20,15))\n",
    "ax = df.groupby('Location')['Price'].sum().sort_values(ascending=False).plot.bar()"
   ]
  },
  {
   "cell_type": "markdown",
   "id": "3b721717",
   "metadata": {},
   "source": [
    "### Modelling"
   ]
  },
  {
   "cell_type": "code",
   "execution_count": 47,
   "id": "54f68f48",
   "metadata": {},
   "outputs": [],
   "source": [
    "y = df['Price']\n",
    "x = df.drop(['Price'],axis=1)"
   ]
  },
  {
   "cell_type": "code",
   "execution_count": 48,
   "id": "12b9596b",
   "metadata": {},
   "outputs": [],
   "source": [
    "x = pd.get_dummies(x,drop_first=True)"
   ]
  },
  {
   "cell_type": "code",
   "execution_count": 49,
   "id": "158b006f",
   "metadata": {},
   "outputs": [],
   "source": [
    "x_train, x_test, y_train, y_test=train_test_split(x,y,test_size=0.2,random_state=13)"
   ]
  },
  {
   "cell_type": "code",
   "execution_count": 50,
   "id": "4601ef25",
   "metadata": {},
   "outputs": [],
   "source": [
    "new = x.join(y)"
   ]
  },
  {
   "cell_type": "code",
   "execution_count": 51,
   "id": "68073585",
   "metadata": {
    "scrolled": false
   },
   "outputs": [
    {
     "data": {
      "text/plain": [
       "Price               1.000000\n",
       "Floortype_2         0.086292\n",
       "Location_Üsküdar    0.063347\n",
       "Age                 0.050342\n",
       "Location_Avcılar    0.050301\n",
       "                      ...   \n",
       "Floortype_20        0.001207\n",
       "Location_Beykoz     0.000947\n",
       "Floortype_16        0.000620\n",
       "Floortype_21        0.000462\n",
       "Floortype_18        0.000059\n",
       "Name: Price, Length: 75, dtype: float64"
      ]
     },
     "execution_count": 51,
     "metadata": {},
     "output_type": "execute_result"
    }
   ],
   "source": [
    "abs(new.corr()['Price']).sort_values(ascending=False) "
   ]
  },
  {
   "cell_type": "code",
   "execution_count": 63,
   "id": "1aa7306d",
   "metadata": {},
   "outputs": [],
   "source": [
    "def regression(x,y):\n",
    "    from sklearn.model_selection import train_test_split\n",
    "    from sklearn.metrics import mean_squared_error,r2_score,mean_absolute_error\n",
    "    \n",
    "    #Lineer Olanlar\n",
    "    from sklearn.linear_model import LinearRegression\n",
    "    from sklearn.linear_model import Lasso,Ridge\n",
    "    from sklearn.linear_model import ElasticNet\n",
    "    \n",
    "    #Lineer olmayanlar\n",
    "    from sklearn.tree import ExtraTreeRegressor\n",
    "    from sklearn.ensemble import GradientBoostingRegressor\n",
    "    from sklearn.neighbors import KNeighborsRegressor\n",
    "    \n",
    "    x=pd.get_dummies(x,drop_first=True)\n",
    "    \n",
    "    x_train,x_test,y_train,y_test=train_test_split(x,y,test_size=0.2,random_state=42)\n",
    "    \n",
    "    Li=LinearRegression()\n",
    "    La=Lasso()\n",
    "    Ri=Ridge()\n",
    "    EL=ElasticNet()\n",
    "    ETR=ExtraTreeRegressor()\n",
    "    GBR=GradientBoostingRegressor()\n",
    "    KNR=KNeighborsRegressor()\n",
    "    \n",
    "    model_array=[Li,La,Ri,EL,ETR,GBR,KNR]\n",
    "    model_names=[\"LinearRegression\",\"Lasso\",\"Ridge\",\"ElasticNet\",\"ExtraTreeRegressor\",\"GradientBoostingRegressor\",\"KNeighborsRegressor\"]\n",
    "    \n",
    "    \n",
    "    mean_squared_array=[]\n",
    "    r2_score_array=[]\n",
    "    mean_absolute_array=[]\n",
    "    \n",
    "    result=pd.DataFrame(columns=[\"mean_squared_error\",\"r2_score\",\"mean_absolute_error\"],index=model_names)\n",
    "    \n",
    "    for i in model_array:\n",
    "        i.fit(x_train,y_train)\n",
    "        pred_i=i.predict(x_test)\n",
    "        mean_squared_array.append((mean_squared_error(y_test,pred_i)**0.5))\n",
    "        r2_score_array.append(r2_score(y_test,pred_i))\n",
    "        mean_absolute_array.append(mean_absolute_error(y_test,pred_i))\n",
    "        \n",
    "    result.mean_squared_error=mean_squared_array\n",
    "    result.r2_score=r2_score_array\n",
    "    result.mean_absolute_error=mean_absolute_array\n",
    "    \n",
    "    return result.sort_values(\"r2_score\",ascending=False)"
   ]
  },
  {
   "cell_type": "code",
   "execution_count": 64,
   "id": "26701a5b",
   "metadata": {
    "scrolled": true
   },
   "outputs": [
    {
     "data": {
      "text/html": [
       "<div>\n",
       "<style scoped>\n",
       "    .dataframe tbody tr th:only-of-type {\n",
       "        vertical-align: middle;\n",
       "    }\n",
       "\n",
       "    .dataframe tbody tr th {\n",
       "        vertical-align: top;\n",
       "    }\n",
       "\n",
       "    .dataframe thead th {\n",
       "        text-align: right;\n",
       "    }\n",
       "</style>\n",
       "<table border=\"1\" class=\"dataframe\">\n",
       "  <thead>\n",
       "    <tr style=\"text-align: right;\">\n",
       "      <th></th>\n",
       "      <th>mean_squared_error</th>\n",
       "      <th>r2_score</th>\n",
       "      <th>mean_absolute_error</th>\n",
       "    </tr>\n",
       "  </thead>\n",
       "  <tbody>\n",
       "    <tr>\n",
       "      <th>ElasticNet</th>\n",
       "      <td>503529.061048</td>\n",
       "      <td>0.003989</td>\n",
       "      <td>43045.112529</td>\n",
       "    </tr>\n",
       "    <tr>\n",
       "      <th>Ridge</th>\n",
       "      <td>504428.701196</td>\n",
       "      <td>0.000427</td>\n",
       "      <td>54750.412045</td>\n",
       "    </tr>\n",
       "    <tr>\n",
       "      <th>Lasso</th>\n",
       "      <td>504481.349978</td>\n",
       "      <td>0.000218</td>\n",
       "      <td>55160.488813</td>\n",
       "    </tr>\n",
       "    <tr>\n",
       "      <th>LinearRegression</th>\n",
       "      <td>504482.130092</td>\n",
       "      <td>0.000215</td>\n",
       "      <td>55156.090009</td>\n",
       "    </tr>\n",
       "    <tr>\n",
       "      <th>KNeighborsRegressor</th>\n",
       "      <td>514014.797119</td>\n",
       "      <td>-0.037926</td>\n",
       "      <td>42166.980510</td>\n",
       "    </tr>\n",
       "    <tr>\n",
       "      <th>GradientBoostingRegressor</th>\n",
       "      <td>593395.920712</td>\n",
       "      <td>-0.383261</td>\n",
       "      <td>65250.490861</td>\n",
       "    </tr>\n",
       "    <tr>\n",
       "      <th>ExtraTreeRegressor</th>\n",
       "      <td>620893.592834</td>\n",
       "      <td>-0.514431</td>\n",
       "      <td>49693.004640</td>\n",
       "    </tr>\n",
       "  </tbody>\n",
       "</table>\n",
       "</div>"
      ],
      "text/plain": [
       "                           mean_squared_error  r2_score  mean_absolute_error\n",
       "ElasticNet                      503529.061048  0.003989         43045.112529\n",
       "Ridge                           504428.701196  0.000427         54750.412045\n",
       "Lasso                           504481.349978  0.000218         55160.488813\n",
       "LinearRegression                504482.130092  0.000215         55156.090009\n",
       "KNeighborsRegressor             514014.797119 -0.037926         42166.980510\n",
       "GradientBoostingRegressor       593395.920712 -0.383261         65250.490861\n",
       "ExtraTreeRegressor              620893.592834 -0.514431         49693.004640"
      ]
     },
     "execution_count": 64,
     "metadata": {},
     "output_type": "execute_result"
    }
   ],
   "source": [
    "regression(x,y)"
   ]
  },
  {
   "cell_type": "markdown",
   "id": "bbf234a3",
   "metadata": {},
   "source": [
    "Deep Learning"
   ]
  },
  {
   "cell_type": "code",
   "execution_count": 56,
   "id": "ee0312fb",
   "metadata": {},
   "outputs": [
    {
     "name": "stdout",
     "output_type": "stream",
     "text": [
      "Requirement already satisfied: h5py in c:\\users\\seyma\\anaconda3\\lib\\site-packages (3.6.0)\n",
      "Requirement already satisfied: numpy>=1.14.5 in c:\\users\\seyma\\anaconda3\\lib\\site-packages (from h5py) (1.20.0)\n"
     ]
    }
   ],
   "source": [
    "!pip install h5py"
   ]
  },
  {
   "cell_type": "code",
   "execution_count": 57,
   "id": "1616bc9c",
   "metadata": {},
   "outputs": [
    {
     "name": "stdout",
     "output_type": "stream",
     "text": [
      "Requirement already satisfied: typing-extensions in c:\\users\\seyma\\appdata\\roaming\\python\\python39\\site-packages (4.4.0)\n"
     ]
    }
   ],
   "source": [
    "!pip install typing-extensions"
   ]
  },
  {
   "cell_type": "code",
   "execution_count": 58,
   "id": "d679bc1f",
   "metadata": {},
   "outputs": [
    {
     "name": "stdout",
     "output_type": "stream",
     "text": [
      "Requirement already satisfied: wheel in c:\\users\\seyma\\anaconda3\\lib\\site-packages (0.37.1)\n"
     ]
    }
   ],
   "source": [
    "!pip install wheel"
   ]
  },
  {
   "cell_type": "code",
   "execution_count": 59,
   "id": "bd2415f6",
   "metadata": {
    "scrolled": true
   },
   "outputs": [
    {
     "name": "stdout",
     "output_type": "stream",
     "text": [
      "Requirement already satisfied: pycaret in c:\\users\\seyma\\appdata\\roaming\\python\\python39\\site-packages (2.2.2)Note: you may need to restart the kernel to use updated packages.\n",
      "Requirement already satisfied: cufflinks>=0.17.0 in c:\\users\\seyma\\appdata\\roaming\\python\\python39\\site-packages (from pycaret) (0.17.3)\n",
      "Requirement already satisfied: pandas in c:\\users\\seyma\\anaconda3\\lib\\site-packages (from pycaret) (1.4.2)\n",
      "Requirement already satisfied: pyLDAvis in c:\\users\\seyma\\appdata\\roaming\\python\\python39\\site-packages (from pycaret) (3.3.1)\n",
      "Requirement already satisfied: mlxtend in c:\\users\\seyma\\appdata\\roaming\\python\\python39\\site-packages (from pycaret) (0.21.0)\n",
      "Requirement already satisfied: pandas-profiling>=2.8.0 in c:\\users\\seyma\\appdata\\roaming\\python\\python39\\site-packages (from pycaret) (3.6.2)\n",
      "Requirement already satisfied: scikit-plot in c:\\users\\seyma\\appdata\\roaming\\python\\python39\\site-packages (from pycaret) (0.3.7)\n",
      "Requirement already satisfied: yellowbrick>=1.0.1 in c:\\users\\seyma\\appdata\\roaming\\python\\python39\\site-packages (from pycaret) (1.5)\n",
      "Requirement already satisfied: xgboost>=1.1.0 in c:\\users\\seyma\\anaconda3\\lib\\site-packages (from pycaret) (1.6.2)\n",
      "Requirement already satisfied: pyod in c:\\users\\seyma\\appdata\\roaming\\python\\python39\\site-packages (from pycaret) (1.0.7)\n",
      "Requirement already satisfied: nltk in c:\\users\\seyma\\anaconda3\\lib\\site-packages (from pycaret) (3.7)\n",
      "Requirement already satisfied: joblib in c:\\users\\seyma\\anaconda3\\lib\\site-packages (from pycaret) (1.2.0)\n",
      "Requirement already satisfied: spacy in c:\\users\\seyma\\appdata\\roaming\\python\\python39\\site-packages (from pycaret) (3.5.0)\n",
      "\n",
      "Requirement already satisfied: scikit-learn>=0.23.2 in c:\\users\\seyma\\anaconda3\\lib\\site-packages (from pycaret) (1.2.0)\n",
      "Requirement already satisfied: textblob in c:\\users\\seyma\\anaconda3\\lib\\site-packages (from pycaret) (0.17.1)\n",
      "Requirement already satisfied: IPython in c:\\users\\seyma\\anaconda3\\lib\\site-packages (from pycaret) (8.2.0)\n",
      "Requirement already satisfied: mlflow in c:\\users\\seyma\\appdata\\roaming\\python\\python39\\site-packages (from pycaret) (2.1.1)\n",
      "Requirement already satisfied: umap-learn in c:\\users\\seyma\\appdata\\roaming\\python\\python39\\site-packages (from pycaret) (0.5.3)\n",
      "Requirement already satisfied: plotly>=4.4.1 in c:\\users\\seyma\\anaconda3\\lib\\site-packages (from pycaret) (5.6.0)\n",
      "Requirement already satisfied: kmodes>=0.10.1 in c:\\users\\seyma\\appdata\\roaming\\python\\python39\\site-packages (from pycaret) (0.12.2)\n",
      "Requirement already satisfied: catboost>=0.23.2 in c:\\users\\seyma\\appdata\\roaming\\python\\python39\\site-packages (from pycaret) (1.1.1)\n",
      "Requirement already satisfied: ipywidgets in c:\\users\\seyma\\anaconda3\\lib\\site-packages (from pycaret) (7.6.5)\n",
      "Requirement already satisfied: wordcloud in c:\\users\\seyma\\anaconda3\\lib\\site-packages (from pycaret) (1.8.2.2)\n",
      "Requirement already satisfied: matplotlib in c:\\users\\seyma\\anaconda3\\lib\\site-packages (from pycaret) (3.5.1)\n",
      "Requirement already satisfied: gensim in c:\\users\\seyma\\anaconda3\\lib\\site-packages (from pycaret) (4.1.2)\n",
      "Requirement already satisfied: imbalanced-learn>=0.7.0 in c:\\users\\seyma\\anaconda3\\lib\\site-packages (from pycaret) (0.10.1)\n",
      "Requirement already satisfied: numpy>=1.17 in c:\\users\\seyma\\anaconda3\\lib\\site-packages (from pycaret) (1.20.0)\n",
      "Requirement already satisfied: lightgbm>=2.3.1 in c:\\users\\seyma\\appdata\\roaming\\python\\python39\\site-packages (from pycaret) (3.3.4)\n",
      "Requirement already satisfied: seaborn in c:\\users\\seyma\\anaconda3\\lib\\site-packages (from pycaret) (0.11.2)\n",
      "Requirement already satisfied: six in c:\\users\\seyma\\anaconda3\\lib\\site-packages (from catboost>=0.23.2->pycaret) (1.16.0)\n",
      "Requirement already satisfied: scipy in c:\\users\\seyma\\anaconda3\\lib\\site-packages (from catboost>=0.23.2->pycaret) (1.7.3)\n",
      "Requirement already satisfied: graphviz in c:\\users\\seyma\\appdata\\roaming\\python\\python39\\site-packages (from catboost>=0.23.2->pycaret) (0.20.1)\n",
      "Requirement already satisfied: setuptools>=34.4.1 in c:\\users\\seyma\\anaconda3\\lib\\site-packages (from cufflinks>=0.17.0->pycaret) (61.2.0)\n",
      "Requirement already satisfied: colorlover>=0.2.1 in c:\\users\\seyma\\appdata\\roaming\\python\\python39\\site-packages (from cufflinks>=0.17.0->pycaret) (0.3.0)\n",
      "Requirement already satisfied: threadpoolctl>=2.0.0 in c:\\users\\seyma\\anaconda3\\lib\\site-packages (from imbalanced-learn>=0.7.0->pycaret) (2.2.0)\n",
      "Requirement already satisfied: pickleshare in c:\\users\\seyma\\anaconda3\\lib\\site-packages (from IPython->pycaret) (0.7.5)\n",
      "Requirement already satisfied: stack-data in c:\\users\\seyma\\anaconda3\\lib\\site-packages (from IPython->pycaret) (0.2.0)\n",
      "Requirement already satisfied: decorator in c:\\users\\seyma\\anaconda3\\lib\\site-packages (from IPython->pycaret) (5.1.1)\n",
      "Requirement already satisfied: prompt-toolkit!=3.0.0,!=3.0.1,<3.1.0,>=2.0.0 in c:\\users\\seyma\\anaconda3\\lib\\site-packages (from IPython->pycaret) (3.0.20)\n",
      "Requirement already satisfied: jedi>=0.16 in c:\\users\\seyma\\anaconda3\\lib\\site-packages (from IPython->pycaret) (0.18.1)\n",
      "Requirement already satisfied: pygments>=2.4.0 in c:\\users\\seyma\\anaconda3\\lib\\site-packages (from IPython->pycaret) (2.11.2)\n",
      "Requirement already satisfied: matplotlib-inline in c:\\users\\seyma\\anaconda3\\lib\\site-packages (from IPython->pycaret) (0.1.2)\n",
      "Requirement already satisfied: colorama in c:\\users\\seyma\\appdata\\roaming\\python\\python39\\site-packages (from IPython->pycaret) (0.4.6)\n",
      "Requirement already satisfied: traitlets>=5 in c:\\users\\seyma\\anaconda3\\lib\\site-packages (from IPython->pycaret) (5.1.1)\n",
      "Requirement already satisfied: backcall in c:\\users\\seyma\\anaconda3\\lib\\site-packages (from IPython->pycaret) (0.2.0)\n",
      "Requirement already satisfied: ipython-genutils~=0.2.0 in c:\\users\\seyma\\anaconda3\\lib\\site-packages (from ipywidgets->pycaret) (0.2.0)\n",
      "Requirement already satisfied: nbformat>=4.2.0 in c:\\users\\seyma\\anaconda3\\lib\\site-packages (from ipywidgets->pycaret) (5.3.0)\n",
      "Requirement already satisfied: ipykernel>=4.5.1 in c:\\users\\seyma\\anaconda3\\lib\\site-packages (from ipywidgets->pycaret) (6.9.1)\n",
      "Requirement already satisfied: jupyterlab-widgets>=1.0.0 in c:\\users\\seyma\\anaconda3\\lib\\site-packages (from ipywidgets->pycaret) (1.0.0)\n",
      "Requirement already satisfied: widgetsnbextension~=3.5.0 in c:\\users\\seyma\\anaconda3\\lib\\site-packages (from ipywidgets->pycaret) (3.5.2)\n",
      "Requirement already satisfied: nest-asyncio in c:\\users\\seyma\\anaconda3\\lib\\site-packages (from ipykernel>=4.5.1->ipywidgets->pycaret) (1.5.5)\n",
      "Requirement already satisfied: debugpy<2.0,>=1.0.0 in c:\\users\\seyma\\anaconda3\\lib\\site-packages (from ipykernel>=4.5.1->ipywidgets->pycaret) (1.5.1)\n",
      "Requirement already satisfied: jupyter-client<8.0 in c:\\users\\seyma\\anaconda3\\lib\\site-packages (from ipykernel>=4.5.1->ipywidgets->pycaret) (6.1.12)\n",
      "Requirement already satisfied: tornado<7.0,>=4.2 in c:\\users\\seyma\\anaconda3\\lib\\site-packages (from ipykernel>=4.5.1->ipywidgets->pycaret) (6.1)\n",
      "Requirement already satisfied: parso<0.9.0,>=0.8.0 in c:\\users\\seyma\\anaconda3\\lib\\site-packages (from jedi>=0.16->IPython->pycaret) (0.8.3)\n",
      "Requirement already satisfied: python-dateutil>=2.1 in c:\\users\\seyma\\anaconda3\\lib\\site-packages (from jupyter-client<8.0->ipykernel>=4.5.1->ipywidgets->pycaret) (2.8.2)\n",
      "Requirement already satisfied: pyzmq>=13 in c:\\users\\seyma\\anaconda3\\lib\\site-packages (from jupyter-client<8.0->ipykernel>=4.5.1->ipywidgets->pycaret) (22.3.0)\n",
      "Requirement already satisfied: jupyter-core>=4.6.0 in c:\\users\\seyma\\anaconda3\\lib\\site-packages (from jupyter-client<8.0->ipykernel>=4.5.1->ipywidgets->pycaret) (4.9.2)\n",
      "Requirement already satisfied: pywin32>=1.0 in c:\\users\\seyma\\appdata\\roaming\\python\\python39\\site-packages (from jupyter-core>=4.6.0->jupyter-client<8.0->ipykernel>=4.5.1->ipywidgets->pycaret) (305)\n",
      "Requirement already satisfied: wheel in c:\\users\\seyma\\anaconda3\\lib\\site-packages (from lightgbm>=2.3.1->pycaret) (0.37.1)\n",
      "Requirement already satisfied: fastjsonschema in c:\\users\\seyma\\anaconda3\\lib\\site-packages (from nbformat>=4.2.0->ipywidgets->pycaret) (2.15.1)\n",
      "Requirement already satisfied: jsonschema>=2.6 in c:\\users\\seyma\\anaconda3\\lib\\site-packages (from nbformat>=4.2.0->ipywidgets->pycaret) (4.4.0)\n",
      "Requirement already satisfied: attrs>=17.4.0 in c:\\users\\seyma\\anaconda3\\lib\\site-packages (from jsonschema>=2.6->nbformat>=4.2.0->ipywidgets->pycaret) (21.4.0)\n",
      "Requirement already satisfied: pyrsistent!=0.17.0,!=0.17.1,!=0.17.2,>=0.14.0 in c:\\users\\seyma\\anaconda3\\lib\\site-packages (from jsonschema>=2.6->nbformat>=4.2.0->ipywidgets->pycaret) (0.18.0)\n",
      "Requirement already satisfied: pytz>=2020.1 in c:\\users\\seyma\\anaconda3\\lib\\site-packages (from pandas->pycaret) (2021.3)\n",
      "Requirement already satisfied: PyYAML<6.1,>=5.0.0 in c:\\users\\seyma\\anaconda3\\lib\\site-packages (from pandas-profiling>=2.8.0->pycaret) (6.0)\n",
      "Requirement already satisfied: statsmodels<0.14,>=0.13.2 in c:\\users\\seyma\\anaconda3\\lib\\site-packages (from pandas-profiling>=2.8.0->pycaret) (0.13.2)\n",
      "Requirement already satisfied: requests<2.29,>=2.24.0 in c:\\users\\seyma\\anaconda3\\lib\\site-packages (from pandas-profiling>=2.8.0->pycaret) (2.27.1)\n",
      "Requirement already satisfied: jinja2<3.2,>=2.11.1 in c:\\users\\seyma\\appdata\\roaming\\python\\python39\\site-packages (from pandas-profiling>=2.8.0->pycaret) (3.1.2)\n",
      "Requirement already satisfied: htmlmin==0.1.12 in c:\\users\\seyma\\appdata\\roaming\\python\\python39\\site-packages (from pandas-profiling>=2.8.0->pycaret) (0.1.12)\n",
      "Requirement already satisfied: phik<0.13,>=0.11.1 in c:\\users\\seyma\\appdata\\roaming\\python\\python39\\site-packages (from pandas-profiling>=2.8.0->pycaret) (0.12.3)\n",
      "Requirement already satisfied: pydantic<1.11,>=1.8.1 in c:\\users\\seyma\\appdata\\roaming\\python\\python39\\site-packages (from pandas-profiling>=2.8.0->pycaret) (1.10.4)\n",
      "Requirement already satisfied: tqdm<4.65,>=4.48.2 in c:\\users\\seyma\\anaconda3\\lib\\site-packages (from pandas-profiling>=2.8.0->pycaret) (4.64.0)\n",
      "Requirement already satisfied: multimethod<1.10,>=1.4 in c:\\users\\seyma\\appdata\\roaming\\python\\python39\\site-packages (from pandas-profiling>=2.8.0->pycaret) (1.9.1)\n",
      "Requirement already satisfied: visions[type_image_path]==0.7.5 in c:\\users\\seyma\\appdata\\roaming\\python\\python39\\site-packages (from pandas-profiling>=2.8.0->pycaret) (0.7.5)\n",
      "Requirement already satisfied: typeguard<2.14,>=2.13.2 in c:\\users\\seyma\\appdata\\roaming\\python\\python39\\site-packages (from pandas-profiling>=2.8.0->pycaret) (2.13.3)\n",
      "Requirement already satisfied: networkx>=2.4 in c:\\users\\seyma\\anaconda3\\lib\\site-packages (from visions[type_image_path]==0.7.5->pandas-profiling>=2.8.0->pycaret) (2.7.1)\n",
      "Requirement already satisfied: tangled-up-in-unicode>=0.0.4 in c:\\users\\seyma\\appdata\\roaming\\python\\python39\\site-packages (from visions[type_image_path]==0.7.5->pandas-profiling>=2.8.0->pycaret) (0.2.0)\n",
      "Requirement already satisfied: Pillow in c:\\users\\seyma\\anaconda3\\lib\\site-packages (from visions[type_image_path]==0.7.5->pandas-profiling>=2.8.0->pycaret) (9.0.1)\n",
      "Requirement already satisfied: imagehash in c:\\users\\seyma\\appdata\\roaming\\python\\python39\\site-packages (from visions[type_image_path]==0.7.5->pandas-profiling>=2.8.0->pycaret) (4.3.1)\n",
      "Requirement already satisfied: MarkupSafe>=2.0 in c:\\users\\seyma\\anaconda3\\lib\\site-packages (from jinja2<3.2,>=2.11.1->pandas-profiling>=2.8.0->pycaret) (2.0.1)\n",
      "Requirement already satisfied: fonttools>=4.22.0 in c:\\users\\seyma\\anaconda3\\lib\\site-packages (from matplotlib->pycaret) (4.25.0)\n",
      "Requirement already satisfied: pyparsing>=2.2.1 in c:\\users\\seyma\\anaconda3\\lib\\site-packages (from matplotlib->pycaret) (3.0.4)\n",
      "Requirement already satisfied: cycler>=0.10 in c:\\users\\seyma\\anaconda3\\lib\\site-packages (from matplotlib->pycaret) (0.11.0)\n",
      "Requirement already satisfied: packaging>=20.0 in c:\\users\\seyma\\anaconda3\\lib\\site-packages (from matplotlib->pycaret) (21.3)\n",
      "Requirement already satisfied: kiwisolver>=1.0.1 in c:\\users\\seyma\\anaconda3\\lib\\site-packages (from matplotlib->pycaret) (1.3.2)\n",
      "Requirement already satisfied: tenacity>=6.2.0 in c:\\users\\seyma\\anaconda3\\lib\\site-packages (from plotly>=4.4.1->pycaret) (8.0.1)\n",
      "Requirement already satisfied: wcwidth in c:\\users\\seyma\\anaconda3\\lib\\site-packages (from prompt-toolkit!=3.0.0,!=3.0.1,<3.1.0,>=2.0.0->IPython->pycaret) (0.2.5)\n",
      "Requirement already satisfied: typing-extensions>=4.2.0 in c:\\users\\seyma\\appdata\\roaming\\python\\python39\\site-packages (from pydantic<1.11,>=1.8.1->pandas-profiling>=2.8.0->pycaret) (4.4.0)\n",
      "Requirement already satisfied: certifi>=2017.4.17 in c:\\users\\seyma\\anaconda3\\lib\\site-packages (from requests<2.29,>=2.24.0->pandas-profiling>=2.8.0->pycaret) (2021.10.8)\n",
      "Requirement already satisfied: charset-normalizer~=2.0.0 in c:\\users\\seyma\\anaconda3\\lib\\site-packages (from requests<2.29,>=2.24.0->pandas-profiling>=2.8.0->pycaret) (2.0.4)\n",
      "Requirement already satisfied: idna<4,>=2.5 in c:\\users\\seyma\\anaconda3\\lib\\site-packages (from requests<2.29,>=2.24.0->pandas-profiling>=2.8.0->pycaret) (3.3)\n",
      "Requirement already satisfied: urllib3<1.27,>=1.21.1 in c:\\users\\seyma\\anaconda3\\lib\\site-packages (from requests<2.29,>=2.24.0->pandas-profiling>=2.8.0->pycaret) (1.26.9)\n",
      "Requirement already satisfied: patsy>=0.5.2 in c:\\users\\seyma\\anaconda3\\lib\\site-packages (from statsmodels<0.14,>=0.13.2->pandas-profiling>=2.8.0->pycaret) (0.5.2)\n",
      "Requirement already satisfied: notebook>=4.4.1 in c:\\users\\seyma\\anaconda3\\lib\\site-packages (from widgetsnbextension~=3.5.0->ipywidgets->pycaret) (6.4.8)\n",
      "Requirement already satisfied: argon2-cffi in c:\\users\\seyma\\anaconda3\\lib\\site-packages (from notebook>=4.4.1->widgetsnbextension~=3.5.0->ipywidgets->pycaret) (21.3.0)\n",
      "Requirement already satisfied: prometheus-client in c:\\users\\seyma\\anaconda3\\lib\\site-packages (from notebook>=4.4.1->widgetsnbextension~=3.5.0->ipywidgets->pycaret) (0.13.1)\n",
      "Requirement already satisfied: terminado>=0.8.3 in c:\\users\\seyma\\anaconda3\\lib\\site-packages (from notebook>=4.4.1->widgetsnbextension~=3.5.0->ipywidgets->pycaret) (0.13.1)\n",
      "Requirement already satisfied: Send2Trash>=1.8.0 in c:\\users\\seyma\\anaconda3\\lib\\site-packages (from notebook>=4.4.1->widgetsnbextension~=3.5.0->ipywidgets->pycaret) (1.8.0)\n",
      "Requirement already satisfied: nbconvert in c:\\users\\seyma\\anaconda3\\lib\\site-packages (from notebook>=4.4.1->widgetsnbextension~=3.5.0->ipywidgets->pycaret) (6.4.4)\n",
      "Requirement already satisfied: pywinpty>=1.1.0 in c:\\users\\seyma\\anaconda3\\lib\\site-packages (from terminado>=0.8.3->notebook>=4.4.1->widgetsnbextension~=3.5.0->ipywidgets->pycaret) (2.0.2)\n",
      "Requirement already satisfied: argon2-cffi-bindings in c:\\users\\seyma\\anaconda3\\lib\\site-packages (from argon2-cffi->notebook>=4.4.1->widgetsnbextension~=3.5.0->ipywidgets->pycaret) (21.2.0)\n",
      "Requirement already satisfied: cffi>=1.0.1 in c:\\users\\seyma\\anaconda3\\lib\\site-packages (from argon2-cffi-bindings->argon2-cffi->notebook>=4.4.1->widgetsnbextension~=3.5.0->ipywidgets->pycaret) (1.15.0)\n",
      "Requirement already satisfied: pycparser in c:\\users\\seyma\\anaconda3\\lib\\site-packages (from cffi>=1.0.1->argon2-cffi-bindings->argon2-cffi->notebook>=4.4.1->widgetsnbextension~=3.5.0->ipywidgets->pycaret) (2.21)\n",
      "Requirement already satisfied: smart-open>=1.8.1 in c:\\users\\seyma\\appdata\\roaming\\python\\python39\\site-packages (from gensim->pycaret) (6.3.0)\n",
      "Requirement already satisfied: PyWavelets in c:\\users\\seyma\\anaconda3\\lib\\site-packages (from imagehash->visions[type_image_path]==0.7.5->pandas-profiling>=2.8.0->pycaret) (1.3.0)\n",
      "Requirement already satisfied: shap<1,>=0.40 in c:\\users\\seyma\\appdata\\roaming\\python\\python39\\site-packages (from mlflow->pycaret) (0.41.0)\n",
      "Requirement already satisfied: sqlalchemy<2,>=1.4.0 in c:\\users\\seyma\\anaconda3\\lib\\site-packages (from mlflow->pycaret) (1.4.32)\n",
      "Requirement already satisfied: entrypoints<1 in c:\\users\\seyma\\anaconda3\\lib\\site-packages (from mlflow->pycaret) (0.4)\n",
      "Requirement already satisfied: databricks-cli<1,>=0.8.7 in c:\\users\\seyma\\appdata\\roaming\\python\\python39\\site-packages (from mlflow->pycaret) (0.17.4)\n",
      "Requirement already satisfied: protobuf<5,>=3.12.0 in c:\\users\\seyma\\anaconda3\\lib\\site-packages (from mlflow->pycaret) (3.19.1)\n",
      "Requirement already satisfied: waitress<3 in c:\\users\\seyma\\appdata\\roaming\\python\\python39\\site-packages (from mlflow->pycaret) (2.1.2)\n",
      "Requirement already satisfied: importlib-metadata!=4.7.0,<6,>=3.7.0 in c:\\users\\seyma\\anaconda3\\lib\\site-packages (from mlflow->pycaret) (4.11.3)\n",
      "Requirement already satisfied: click<9,>=7.0 in c:\\users\\seyma\\anaconda3\\lib\\site-packages (from mlflow->pycaret) (8.0.4)\n",
      "Requirement already satisfied: pyarrow<11,>=4.0.0 in c:\\users\\seyma\\appdata\\roaming\\python\\python39\\site-packages (from mlflow->pycaret) (10.0.1)\n",
      "Requirement already satisfied: cloudpickle<3 in c:\\users\\seyma\\anaconda3\\lib\\site-packages (from mlflow->pycaret) (2.0.0)\n",
      "Requirement already satisfied: Flask<3 in c:\\users\\seyma\\anaconda3\\lib\\site-packages (from mlflow->pycaret) (1.1.2)\n",
      "Requirement already satisfied: sqlparse<1,>=0.4.0 in c:\\users\\seyma\\appdata\\roaming\\python\\python39\\site-packages (from mlflow->pycaret) (0.4.3)\n",
      "Requirement already satisfied: gitpython<4,>=2.1.0 in c:\\users\\seyma\\appdata\\roaming\\python\\python39\\site-packages (from mlflow->pycaret) (3.1.30)\n",
      "Requirement already satisfied: alembic<2 in c:\\users\\seyma\\appdata\\roaming\\python\\python39\\site-packages (from mlflow->pycaret) (1.9.2)\n",
      "Requirement already satisfied: querystring-parser<2 in c:\\users\\seyma\\appdata\\roaming\\python\\python39\\site-packages (from mlflow->pycaret) (1.2.4)\n",
      "Requirement already satisfied: markdown<4,>=3.3 in c:\\users\\seyma\\anaconda3\\lib\\site-packages (from mlflow->pycaret) (3.3.4)\n",
      "Requirement already satisfied: docker<7,>=4.0.0 in c:\\users\\seyma\\appdata\\roaming\\python\\python39\\site-packages (from mlflow->pycaret) (6.0.1)\n",
      "Requirement already satisfied: Mako in c:\\users\\seyma\\appdata\\roaming\\python\\python39\\site-packages (from alembic<2->mlflow->pycaret) (1.2.4)\n",
      "Requirement already satisfied: oauthlib>=3.1.0 in c:\\users\\seyma\\anaconda3\\lib\\site-packages (from databricks-cli<1,>=0.8.7->mlflow->pycaret) (3.2.1)\n",
      "Requirement already satisfied: pyjwt>=1.7.0 in c:\\users\\seyma\\anaconda3\\lib\\site-packages (from databricks-cli<1,>=0.8.7->mlflow->pycaret) (2.4.0)\n",
      "Requirement already satisfied: tabulate>=0.7.7 in c:\\users\\seyma\\anaconda3\\lib\\site-packages (from databricks-cli<1,>=0.8.7->mlflow->pycaret) (0.8.9)\n",
      "Requirement already satisfied: websocket-client>=0.32.0 in c:\\users\\seyma\\anaconda3\\lib\\site-packages (from docker<7,>=4.0.0->mlflow->pycaret) (0.58.0)\n",
      "Requirement already satisfied: Werkzeug>=0.15 in c:\\users\\seyma\\anaconda3\\lib\\site-packages (from Flask<3->mlflow->pycaret) (2.0.3)\n",
      "Requirement already satisfied: itsdangerous>=0.24 in c:\\users\\seyma\\anaconda3\\lib\\site-packages (from Flask<3->mlflow->pycaret) (2.0.1)\n",
      "Requirement already satisfied: gitdb<5,>=4.0.1 in c:\\users\\seyma\\appdata\\roaming\\python\\python39\\site-packages (from gitpython<4,>=2.1.0->mlflow->pycaret) (4.0.10)\n",
      "Requirement already satisfied: smmap<6,>=3.0.1 in c:\\users\\seyma\\appdata\\roaming\\python\\python39\\site-packages (from gitdb<5,>=4.0.1->gitpython<4,>=2.1.0->mlflow->pycaret) (5.0.0)\n",
      "Requirement already satisfied: zipp>=0.5 in c:\\users\\seyma\\anaconda3\\lib\\site-packages (from importlib-metadata!=4.7.0,<6,>=3.7.0->mlflow->pycaret) (3.7.0)\n",
      "Requirement already satisfied: numba in c:\\users\\seyma\\anaconda3\\lib\\site-packages (from shap<1,>=0.40->mlflow->pycaret) (0.55.1)\n",
      "Requirement already satisfied: slicer==0.0.7 in c:\\users\\seyma\\appdata\\roaming\\python\\python39\\site-packages (from shap<1,>=0.40->mlflow->pycaret) (0.0.7)\n",
      "Requirement already satisfied: greenlet!=0.4.17 in c:\\users\\seyma\\anaconda3\\lib\\site-packages (from sqlalchemy<2,>=1.4.0->mlflow->pycaret) (1.1.1)\n",
      "Requirement already satisfied: defusedxml in c:\\users\\seyma\\anaconda3\\lib\\site-packages (from nbconvert->notebook>=4.4.1->widgetsnbextension~=3.5.0->ipywidgets->pycaret) (0.7.1)\n",
      "Requirement already satisfied: beautifulsoup4 in c:\\users\\seyma\\anaconda3\\lib\\site-packages (from nbconvert->notebook>=4.4.1->widgetsnbextension~=3.5.0->ipywidgets->pycaret) (4.11.1)\n",
      "Requirement already satisfied: mistune<2,>=0.8.1 in c:\\users\\seyma\\anaconda3\\lib\\site-packages (from nbconvert->notebook>=4.4.1->widgetsnbextension~=3.5.0->ipywidgets->pycaret) (0.8.4)\n",
      "Requirement already satisfied: nbclient<0.6.0,>=0.5.0 in c:\\users\\seyma\\anaconda3\\lib\\site-packages (from nbconvert->notebook>=4.4.1->widgetsnbextension~=3.5.0->ipywidgets->pycaret) (0.5.13)\n",
      "Requirement already satisfied: testpath in c:\\users\\seyma\\anaconda3\\lib\\site-packages (from nbconvert->notebook>=4.4.1->widgetsnbextension~=3.5.0->ipywidgets->pycaret) (0.5.0)\n",
      "Requirement already satisfied: jupyterlab-pygments in c:\\users\\seyma\\anaconda3\\lib\\site-packages (from nbconvert->notebook>=4.4.1->widgetsnbextension~=3.5.0->ipywidgets->pycaret) (0.1.2)\n",
      "Requirement already satisfied: bleach in c:\\users\\seyma\\anaconda3\\lib\\site-packages (from nbconvert->notebook>=4.4.1->widgetsnbextension~=3.5.0->ipywidgets->pycaret) (4.1.0)\n",
      "Requirement already satisfied: pandocfilters>=1.4.1 in c:\\users\\seyma\\anaconda3\\lib\\site-packages (from nbconvert->notebook>=4.4.1->widgetsnbextension~=3.5.0->ipywidgets->pycaret) (1.5.0)\n",
      "Requirement already satisfied: soupsieve>1.2 in c:\\users\\seyma\\anaconda3\\lib\\site-packages (from beautifulsoup4->nbconvert->notebook>=4.4.1->widgetsnbextension~=3.5.0->ipywidgets->pycaret) (2.3.1)\n",
      "Requirement already satisfied: webencodings in c:\\users\\seyma\\anaconda3\\lib\\site-packages (from bleach->nbconvert->notebook>=4.4.1->widgetsnbextension~=3.5.0->ipywidgets->pycaret) (0.5.1)\n",
      "Requirement already satisfied: regex>=2021.8.3 in c:\\users\\seyma\\anaconda3\\lib\\site-packages (from nltk->pycaret) (2022.3.15)\n",
      "Requirement already satisfied: llvmlite<0.39,>=0.38.0rc1 in c:\\users\\seyma\\anaconda3\\lib\\site-packages (from numba->shap<1,>=0.40->mlflow->pycaret) (0.38.0)\n",
      "Requirement already satisfied: funcy in c:\\users\\seyma\\appdata\\roaming\\python\\python39\\site-packages (from pyLDAvis->pycaret) (1.17)\n",
      "Requirement already satisfied: sklearn in c:\\users\\seyma\\appdata\\roaming\\python\\python39\\site-packages (from pyLDAvis->pycaret) (0.0.post1)\n",
      "Requirement already satisfied: numexpr in c:\\users\\seyma\\anaconda3\\lib\\site-packages (from pyLDAvis->pycaret) (2.8.1)\n",
      "Requirement already satisfied: future in c:\\users\\seyma\\anaconda3\\lib\\site-packages (from pyLDAvis->pycaret) (0.18.2)\n",
      "Requirement already satisfied: pathy>=0.10.0 in c:\\users\\seyma\\appdata\\roaming\\python\\python39\\site-packages (from spacy->pycaret) (0.10.1)\n",
      "Requirement already satisfied: preshed<3.1.0,>=3.0.2 in c:\\users\\seyma\\appdata\\roaming\\python\\python39\\site-packages (from spacy->pycaret) (3.0.8)\n",
      "Requirement already satisfied: typer<0.8.0,>=0.3.0 in c:\\users\\seyma\\appdata\\roaming\\python\\python39\\site-packages (from spacy->pycaret) (0.7.0)\n",
      "Requirement already satisfied: spacy-loggers<2.0.0,>=1.0.0 in c:\\users\\seyma\\appdata\\roaming\\python\\python39\\site-packages (from spacy->pycaret) (1.0.4)\n",
      "Requirement already satisfied: cymem<2.1.0,>=2.0.2 in c:\\users\\seyma\\appdata\\roaming\\python\\python39\\site-packages (from spacy->pycaret) (2.0.7)\n",
      "Requirement already satisfied: catalogue<2.1.0,>=2.0.6 in c:\\users\\seyma\\appdata\\roaming\\python\\python39\\site-packages (from spacy->pycaret) (2.0.8)\n",
      "Requirement already satisfied: langcodes<4.0.0,>=3.2.0 in c:\\users\\seyma\\appdata\\roaming\\python\\python39\\site-packages (from spacy->pycaret) (3.3.0)\n",
      "Requirement already satisfied: murmurhash<1.1.0,>=0.28.0 in c:\\users\\seyma\\appdata\\roaming\\python\\python39\\site-packages (from spacy->pycaret) (1.0.9)\n",
      "Requirement already satisfied: spacy-legacy<3.1.0,>=3.0.11 in c:\\users\\seyma\\appdata\\roaming\\python\\python39\\site-packages (from spacy->pycaret) (3.0.11)\n",
      "Requirement already satisfied: thinc<8.2.0,>=8.1.0 in c:\\users\\seyma\\appdata\\roaming\\python\\python39\\site-packages (from spacy->pycaret) (8.1.7)\n",
      "Requirement already satisfied: wasabi<1.2.0,>=0.9.1 in c:\\users\\seyma\\appdata\\roaming\\python\\python39\\site-packages (from spacy->pycaret) (1.1.1)\n",
      "Requirement already satisfied: srsly<3.0.0,>=2.4.3 in c:\\users\\seyma\\appdata\\roaming\\python\\python39\\site-packages (from spacy->pycaret) (2.4.5)\n",
      "Requirement already satisfied: blis<0.8.0,>=0.7.8 in c:\\users\\seyma\\appdata\\roaming\\python\\python39\\site-packages (from thinc<8.2.0,>=8.1.0->spacy->pycaret) (0.7.9)\n",
      "Requirement already satisfied: confection<1.0.0,>=0.0.1 in c:\\users\\seyma\\appdata\\roaming\\python\\python39\\site-packages (from thinc<8.2.0,>=8.1.0->spacy->pycaret) (0.0.4)\n",
      "Requirement already satisfied: executing in c:\\users\\seyma\\anaconda3\\lib\\site-packages (from stack-data->IPython->pycaret) (0.8.3)\n",
      "Requirement already satisfied: pure-eval in c:\\users\\seyma\\anaconda3\\lib\\site-packages (from stack-data->IPython->pycaret) (0.2.2)\n",
      "Requirement already satisfied: asttokens in c:\\users\\seyma\\anaconda3\\lib\\site-packages (from stack-data->IPython->pycaret) (2.0.5)\n",
      "Requirement already satisfied: pynndescent>=0.5 in c:\\users\\seyma\\appdata\\roaming\\python\\python39\\site-packages (from umap-learn->pycaret) (0.5.8)\n"
     ]
    }
   ],
   "source": [
    "pip install pycaret"
   ]
  },
  {
   "cell_type": "code",
   "execution_count": 60,
   "id": "ac885e8e",
   "metadata": {},
   "outputs": [
    {
     "name": "stdout",
     "output_type": "stream",
     "text": [
      "Collecting numpy==1.20Note: you may need to restart the kernel to use updated packages.\n"
     ]
    },
    {
     "name": "stderr",
     "output_type": "stream",
     "text": [
      "ERROR: Could not install packages due to an OSError: [WinError 5] Erişim engellendi: 'C:\\\\Users\\\\Seyma\\\\anaconda3\\\\Lib\\\\site-packages\\\\~~mpy\\\\.libs\\\\libopenblas.4SP5SUA7CBGXUEOC35YP2ASOICYYEQZZ.gfortran-win_amd64.dll'\n",
      "Consider using the `--user` option or check the permissions.\n",
      "\n"
     ]
    },
    {
     "name": "stdout",
     "output_type": "stream",
     "text": [
      "\n",
      "  Using cached numpy-1.20.0-cp39-cp39-win_amd64.whl (13.7 MB)\n",
      "Installing collected packages: numpy\n",
      "  Attempting uninstall: numpy\n",
      "    Found existing installation: numpy 1.20.0\n",
      "    Uninstalling numpy-1.20.0:\n",
      "      Successfully uninstalled numpy-1.20.0\n"
     ]
    }
   ],
   "source": [
    "pip install --force-reinstall numpy==1.20"
   ]
  },
  {
   "cell_type": "code",
   "execution_count": 61,
   "id": "b4faac78",
   "metadata": {},
   "outputs": [],
   "source": [
    "from pycaret.regression import *"
   ]
  },
  {
   "cell_type": "code",
   "execution_count": 62,
   "id": "ca57d49f",
   "metadata": {},
   "outputs": [
    {
     "data": {
      "application/vnd.jupyter.widget-view+json": {
       "model_id": "01e18ddf5f4a497b8ea58e5d2dc52732",
       "version_major": 2,
       "version_minor": 0
      },
      "text/plain": [
       "IntProgress(value=0, description='Processing: ', max=3)"
      ]
     },
     "metadata": {},
     "output_type": "display_data"
    },
    {
     "data": {
      "text/html": [
       "<div>\n",
       "<style scoped>\n",
       "    .dataframe tbody tr th:only-of-type {\n",
       "        vertical-align: middle;\n",
       "    }\n",
       "\n",
       "    .dataframe tbody tr th {\n",
       "        vertical-align: top;\n",
       "    }\n",
       "\n",
       "    .dataframe thead th {\n",
       "        text-align: right;\n",
       "    }\n",
       "</style>\n",
       "<table border=\"1\" class=\"dataframe\">\n",
       "  <thead>\n",
       "    <tr style=\"text-align: right;\">\n",
       "      <th></th>\n",
       "      <th></th>\n",
       "      <th></th>\n",
       "    </tr>\n",
       "    <tr>\n",
       "      <th></th>\n",
       "      <th></th>\n",
       "      <th></th>\n",
       "    </tr>\n",
       "  </thead>\n",
       "  <tbody>\n",
       "    <tr>\n",
       "      <th>Initiated</th>\n",
       "      <td>. . . . . . . . . . . . . . . . . .</td>\n",
       "      <td>01:37:33</td>\n",
       "    </tr>\n",
       "    <tr>\n",
       "      <th>Status</th>\n",
       "      <td>. . . . . . . . . . . . . . . . . .</td>\n",
       "      <td>Preparing Data for Modeling</td>\n",
       "    </tr>\n",
       "  </tbody>\n",
       "</table>\n",
       "</div>"
      ],
      "text/plain": [
       "                                                                           \n",
       "                                                                           \n",
       "Initiated  . . . . . . . . . . . . . . . . . .                     01:37:33\n",
       "Status     . . . . . . . . . . . . . . . . . .  Preparing Data for Modeling"
      ]
     },
     "metadata": {},
     "output_type": "display_data"
    },
    {
     "ename": "ValueError",
     "evalue": "Setting a random_state has no effect since shuffle is False. You should leave random_state to its default (None), or set shuffle=True.",
     "output_type": "error",
     "traceback": [
      "\u001b[1;31m---------------------------------------------------------------------------\u001b[0m",
      "\u001b[1;31mValueError\u001b[0m                                Traceback (most recent call last)",
      "Input \u001b[1;32mIn [62]\u001b[0m, in \u001b[0;36m<cell line: 1>\u001b[1;34m()\u001b[0m\n\u001b[1;32m----> 1\u001b[0m \u001b[43msetup\u001b[49m\u001b[43m(\u001b[49m\u001b[43mdata\u001b[49m\u001b[38;5;241;43m=\u001b[39;49m\u001b[43mdf\u001b[49m\u001b[43m,\u001b[49m\u001b[43m \u001b[49m\u001b[43mtarget\u001b[49m\u001b[38;5;241;43m=\u001b[39;49m\u001b[38;5;124;43m\"\u001b[39;49m\u001b[38;5;124;43mPrice\u001b[39;49m\u001b[38;5;124;43m\"\u001b[39;49m\u001b[43m)\u001b[49m\n",
      "File \u001b[1;32m~\\AppData\\Roaming\\Python\\Python39\\site-packages\\pycaret\\regression.py:571\u001b[0m, in \u001b[0;36msetup\u001b[1;34m(data, target, train_size, test_data, preprocess, imputation_type, iterative_imputation_iters, categorical_features, categorical_imputation, categorical_iterative_imputer, ordinal_features, high_cardinality_features, high_cardinality_method, numeric_features, numeric_imputation, numeric_iterative_imputer, date_features, ignore_features, normalize, normalize_method, transformation, transformation_method, handle_unknown_categorical, unknown_categorical_method, pca, pca_method, pca_components, ignore_low_variance, combine_rare_levels, rare_level_threshold, bin_numeric_features, remove_outliers, outliers_threshold, remove_multicollinearity, multicollinearity_threshold, remove_perfect_collinearity, create_clusters, cluster_iter, polynomial_features, polynomial_degree, trigonometry_features, polynomial_threshold, group_features, group_names, feature_selection, feature_selection_threshold, feature_selection_method, feature_interaction, feature_ratio, interaction_threshold, transform_target, transform_target_method, data_split_shuffle, data_split_stratify, fold_strategy, fold, fold_shuffle, fold_groups, n_jobs, use_gpu, custom_pipeline, html, session_id, log_experiment, experiment_name, log_plots, log_profile, log_data, silent, verbose, profile, profile_kwargs)\u001b[0m\n\u001b[0;32m    568\u001b[0m \u001b[38;5;28;01mif\u001b[39;00m log_plots \u001b[38;5;241m==\u001b[39m \u001b[38;5;28;01mTrue\u001b[39;00m:\n\u001b[0;32m    569\u001b[0m     log_plots \u001b[38;5;241m=\u001b[39m [\u001b[38;5;124m\"\u001b[39m\u001b[38;5;124mresiduals\u001b[39m\u001b[38;5;124m\"\u001b[39m, \u001b[38;5;124m\"\u001b[39m\u001b[38;5;124merror\u001b[39m\u001b[38;5;124m\"\u001b[39m, \u001b[38;5;124m\"\u001b[39m\u001b[38;5;124mfeature\u001b[39m\u001b[38;5;124m\"\u001b[39m]\n\u001b[1;32m--> 571\u001b[0m \u001b[38;5;28;01mreturn\u001b[39;00m \u001b[43mpycaret\u001b[49m\u001b[38;5;241;43m.\u001b[39;49m\u001b[43minternal\u001b[49m\u001b[38;5;241;43m.\u001b[39;49m\u001b[43mtabular\u001b[49m\u001b[38;5;241;43m.\u001b[39;49m\u001b[43msetup\u001b[49m\u001b[43m(\u001b[49m\n\u001b[0;32m    572\u001b[0m \u001b[43m    \u001b[49m\u001b[43mml_usecase\u001b[49m\u001b[38;5;241;43m=\u001b[39;49m\u001b[38;5;124;43m\"\u001b[39;49m\u001b[38;5;124;43mregression\u001b[39;49m\u001b[38;5;124;43m\"\u001b[39;49m\u001b[43m,\u001b[49m\n\u001b[0;32m    573\u001b[0m \u001b[43m    \u001b[49m\u001b[43mavailable_plots\u001b[49m\u001b[38;5;241;43m=\u001b[39;49m\u001b[43mavailable_plots\u001b[49m\u001b[43m,\u001b[49m\n\u001b[0;32m    574\u001b[0m \u001b[43m    \u001b[49m\u001b[43mdata\u001b[49m\u001b[38;5;241;43m=\u001b[39;49m\u001b[43mdata\u001b[49m\u001b[43m,\u001b[49m\n\u001b[0;32m    575\u001b[0m \u001b[43m    \u001b[49m\u001b[43mtarget\u001b[49m\u001b[38;5;241;43m=\u001b[39;49m\u001b[43mtarget\u001b[49m\u001b[43m,\u001b[49m\n\u001b[0;32m    576\u001b[0m \u001b[43m    \u001b[49m\u001b[43mtrain_size\u001b[49m\u001b[38;5;241;43m=\u001b[39;49m\u001b[43mtrain_size\u001b[49m\u001b[43m,\u001b[49m\n\u001b[0;32m    577\u001b[0m \u001b[43m    \u001b[49m\u001b[43mtest_data\u001b[49m\u001b[38;5;241;43m=\u001b[39;49m\u001b[43mtest_data\u001b[49m\u001b[43m,\u001b[49m\n\u001b[0;32m    578\u001b[0m \u001b[43m    \u001b[49m\u001b[43mpreprocess\u001b[49m\u001b[38;5;241;43m=\u001b[39;49m\u001b[43mpreprocess\u001b[49m\u001b[43m,\u001b[49m\n\u001b[0;32m    579\u001b[0m \u001b[43m    \u001b[49m\u001b[43mimputation_type\u001b[49m\u001b[38;5;241;43m=\u001b[39;49m\u001b[43mimputation_type\u001b[49m\u001b[43m,\u001b[49m\n\u001b[0;32m    580\u001b[0m \u001b[43m    \u001b[49m\u001b[43miterative_imputation_iters\u001b[49m\u001b[38;5;241;43m=\u001b[39;49m\u001b[43miterative_imputation_iters\u001b[49m\u001b[43m,\u001b[49m\n\u001b[0;32m    581\u001b[0m \u001b[43m    \u001b[49m\u001b[43mcategorical_features\u001b[49m\u001b[38;5;241;43m=\u001b[39;49m\u001b[43mcategorical_features\u001b[49m\u001b[43m,\u001b[49m\n\u001b[0;32m    582\u001b[0m \u001b[43m    \u001b[49m\u001b[43mcategorical_imputation\u001b[49m\u001b[38;5;241;43m=\u001b[39;49m\u001b[43mcategorical_imputation\u001b[49m\u001b[43m,\u001b[49m\n\u001b[0;32m    583\u001b[0m \u001b[43m    \u001b[49m\u001b[43mcategorical_iterative_imputer\u001b[49m\u001b[38;5;241;43m=\u001b[39;49m\u001b[43mcategorical_iterative_imputer\u001b[49m\u001b[43m,\u001b[49m\n\u001b[0;32m    584\u001b[0m \u001b[43m    \u001b[49m\u001b[43mordinal_features\u001b[49m\u001b[38;5;241;43m=\u001b[39;49m\u001b[43mordinal_features\u001b[49m\u001b[43m,\u001b[49m\n\u001b[0;32m    585\u001b[0m \u001b[43m    \u001b[49m\u001b[43mhigh_cardinality_features\u001b[49m\u001b[38;5;241;43m=\u001b[39;49m\u001b[43mhigh_cardinality_features\u001b[49m\u001b[43m,\u001b[49m\n\u001b[0;32m    586\u001b[0m \u001b[43m    \u001b[49m\u001b[43mhigh_cardinality_method\u001b[49m\u001b[38;5;241;43m=\u001b[39;49m\u001b[43mhigh_cardinality_method\u001b[49m\u001b[43m,\u001b[49m\n\u001b[0;32m    587\u001b[0m \u001b[43m    \u001b[49m\u001b[43mnumeric_features\u001b[49m\u001b[38;5;241;43m=\u001b[39;49m\u001b[43mnumeric_features\u001b[49m\u001b[43m,\u001b[49m\n\u001b[0;32m    588\u001b[0m \u001b[43m    \u001b[49m\u001b[43mnumeric_imputation\u001b[49m\u001b[38;5;241;43m=\u001b[39;49m\u001b[43mnumeric_imputation\u001b[49m\u001b[43m,\u001b[49m\n\u001b[0;32m    589\u001b[0m \u001b[43m    \u001b[49m\u001b[43mnumeric_iterative_imputer\u001b[49m\u001b[38;5;241;43m=\u001b[39;49m\u001b[43mnumeric_iterative_imputer\u001b[49m\u001b[43m,\u001b[49m\n\u001b[0;32m    590\u001b[0m \u001b[43m    \u001b[49m\u001b[43mdate_features\u001b[49m\u001b[38;5;241;43m=\u001b[39;49m\u001b[43mdate_features\u001b[49m\u001b[43m,\u001b[49m\n\u001b[0;32m    591\u001b[0m \u001b[43m    \u001b[49m\u001b[43mignore_features\u001b[49m\u001b[38;5;241;43m=\u001b[39;49m\u001b[43mignore_features\u001b[49m\u001b[43m,\u001b[49m\n\u001b[0;32m    592\u001b[0m \u001b[43m    \u001b[49m\u001b[43mnormalize\u001b[49m\u001b[38;5;241;43m=\u001b[39;49m\u001b[43mnormalize\u001b[49m\u001b[43m,\u001b[49m\n\u001b[0;32m    593\u001b[0m \u001b[43m    \u001b[49m\u001b[43mnormalize_method\u001b[49m\u001b[38;5;241;43m=\u001b[39;49m\u001b[43mnormalize_method\u001b[49m\u001b[43m,\u001b[49m\n\u001b[0;32m    594\u001b[0m \u001b[43m    \u001b[49m\u001b[43mtransformation\u001b[49m\u001b[38;5;241;43m=\u001b[39;49m\u001b[43mtransformation\u001b[49m\u001b[43m,\u001b[49m\n\u001b[0;32m    595\u001b[0m \u001b[43m    \u001b[49m\u001b[43mtransformation_method\u001b[49m\u001b[38;5;241;43m=\u001b[39;49m\u001b[43mtransformation_method\u001b[49m\u001b[43m,\u001b[49m\n\u001b[0;32m    596\u001b[0m \u001b[43m    \u001b[49m\u001b[43mhandle_unknown_categorical\u001b[49m\u001b[38;5;241;43m=\u001b[39;49m\u001b[43mhandle_unknown_categorical\u001b[49m\u001b[43m,\u001b[49m\n\u001b[0;32m    597\u001b[0m \u001b[43m    \u001b[49m\u001b[43munknown_categorical_method\u001b[49m\u001b[38;5;241;43m=\u001b[39;49m\u001b[43munknown_categorical_method\u001b[49m\u001b[43m,\u001b[49m\n\u001b[0;32m    598\u001b[0m \u001b[43m    \u001b[49m\u001b[43mpca\u001b[49m\u001b[38;5;241;43m=\u001b[39;49m\u001b[43mpca\u001b[49m\u001b[43m,\u001b[49m\n\u001b[0;32m    599\u001b[0m \u001b[43m    \u001b[49m\u001b[43mpca_method\u001b[49m\u001b[38;5;241;43m=\u001b[39;49m\u001b[43mpca_method\u001b[49m\u001b[43m,\u001b[49m\n\u001b[0;32m    600\u001b[0m \u001b[43m    \u001b[49m\u001b[43mpca_components\u001b[49m\u001b[38;5;241;43m=\u001b[39;49m\u001b[43mpca_components\u001b[49m\u001b[43m,\u001b[49m\n\u001b[0;32m    601\u001b[0m \u001b[43m    \u001b[49m\u001b[43mignore_low_variance\u001b[49m\u001b[38;5;241;43m=\u001b[39;49m\u001b[43mignore_low_variance\u001b[49m\u001b[43m,\u001b[49m\n\u001b[0;32m    602\u001b[0m \u001b[43m    \u001b[49m\u001b[43mcombine_rare_levels\u001b[49m\u001b[38;5;241;43m=\u001b[39;49m\u001b[43mcombine_rare_levels\u001b[49m\u001b[43m,\u001b[49m\n\u001b[0;32m    603\u001b[0m \u001b[43m    \u001b[49m\u001b[43mrare_level_threshold\u001b[49m\u001b[38;5;241;43m=\u001b[39;49m\u001b[43mrare_level_threshold\u001b[49m\u001b[43m,\u001b[49m\n\u001b[0;32m    604\u001b[0m \u001b[43m    \u001b[49m\u001b[43mbin_numeric_features\u001b[49m\u001b[38;5;241;43m=\u001b[39;49m\u001b[43mbin_numeric_features\u001b[49m\u001b[43m,\u001b[49m\n\u001b[0;32m    605\u001b[0m \u001b[43m    \u001b[49m\u001b[43mremove_outliers\u001b[49m\u001b[38;5;241;43m=\u001b[39;49m\u001b[43mremove_outliers\u001b[49m\u001b[43m,\u001b[49m\n\u001b[0;32m    606\u001b[0m \u001b[43m    \u001b[49m\u001b[43moutliers_threshold\u001b[49m\u001b[38;5;241;43m=\u001b[39;49m\u001b[43moutliers_threshold\u001b[49m\u001b[43m,\u001b[49m\n\u001b[0;32m    607\u001b[0m \u001b[43m    \u001b[49m\u001b[43mremove_multicollinearity\u001b[49m\u001b[38;5;241;43m=\u001b[39;49m\u001b[43mremove_multicollinearity\u001b[49m\u001b[43m,\u001b[49m\n\u001b[0;32m    608\u001b[0m \u001b[43m    \u001b[49m\u001b[43mmulticollinearity_threshold\u001b[49m\u001b[38;5;241;43m=\u001b[39;49m\u001b[43mmulticollinearity_threshold\u001b[49m\u001b[43m,\u001b[49m\n\u001b[0;32m    609\u001b[0m \u001b[43m    \u001b[49m\u001b[43mremove_perfect_collinearity\u001b[49m\u001b[38;5;241;43m=\u001b[39;49m\u001b[43mremove_perfect_collinearity\u001b[49m\u001b[43m,\u001b[49m\n\u001b[0;32m    610\u001b[0m \u001b[43m    \u001b[49m\u001b[43mcreate_clusters\u001b[49m\u001b[38;5;241;43m=\u001b[39;49m\u001b[43mcreate_clusters\u001b[49m\u001b[43m,\u001b[49m\n\u001b[0;32m    611\u001b[0m \u001b[43m    \u001b[49m\u001b[43mcluster_iter\u001b[49m\u001b[38;5;241;43m=\u001b[39;49m\u001b[43mcluster_iter\u001b[49m\u001b[43m,\u001b[49m\n\u001b[0;32m    612\u001b[0m \u001b[43m    \u001b[49m\u001b[43mpolynomial_features\u001b[49m\u001b[38;5;241;43m=\u001b[39;49m\u001b[43mpolynomial_features\u001b[49m\u001b[43m,\u001b[49m\n\u001b[0;32m    613\u001b[0m \u001b[43m    \u001b[49m\u001b[43mpolynomial_degree\u001b[49m\u001b[38;5;241;43m=\u001b[39;49m\u001b[43mpolynomial_degree\u001b[49m\u001b[43m,\u001b[49m\n\u001b[0;32m    614\u001b[0m \u001b[43m    \u001b[49m\u001b[43mtrigonometry_features\u001b[49m\u001b[38;5;241;43m=\u001b[39;49m\u001b[43mtrigonometry_features\u001b[49m\u001b[43m,\u001b[49m\n\u001b[0;32m    615\u001b[0m \u001b[43m    \u001b[49m\u001b[43mpolynomial_threshold\u001b[49m\u001b[38;5;241;43m=\u001b[39;49m\u001b[43mpolynomial_threshold\u001b[49m\u001b[43m,\u001b[49m\n\u001b[0;32m    616\u001b[0m \u001b[43m    \u001b[49m\u001b[43mgroup_features\u001b[49m\u001b[38;5;241;43m=\u001b[39;49m\u001b[43mgroup_features\u001b[49m\u001b[43m,\u001b[49m\n\u001b[0;32m    617\u001b[0m \u001b[43m    \u001b[49m\u001b[43mgroup_names\u001b[49m\u001b[38;5;241;43m=\u001b[39;49m\u001b[43mgroup_names\u001b[49m\u001b[43m,\u001b[49m\n\u001b[0;32m    618\u001b[0m \u001b[43m    \u001b[49m\u001b[43mfeature_selection\u001b[49m\u001b[38;5;241;43m=\u001b[39;49m\u001b[43mfeature_selection\u001b[49m\u001b[43m,\u001b[49m\n\u001b[0;32m    619\u001b[0m \u001b[43m    \u001b[49m\u001b[43mfeature_selection_threshold\u001b[49m\u001b[38;5;241;43m=\u001b[39;49m\u001b[43mfeature_selection_threshold\u001b[49m\u001b[43m,\u001b[49m\n\u001b[0;32m    620\u001b[0m \u001b[43m    \u001b[49m\u001b[43mfeature_selection_method\u001b[49m\u001b[38;5;241;43m=\u001b[39;49m\u001b[43mfeature_selection_method\u001b[49m\u001b[43m,\u001b[49m\n\u001b[0;32m    621\u001b[0m \u001b[43m    \u001b[49m\u001b[43mfeature_interaction\u001b[49m\u001b[38;5;241;43m=\u001b[39;49m\u001b[43mfeature_interaction\u001b[49m\u001b[43m,\u001b[49m\n\u001b[0;32m    622\u001b[0m \u001b[43m    \u001b[49m\u001b[43mfeature_ratio\u001b[49m\u001b[38;5;241;43m=\u001b[39;49m\u001b[43mfeature_ratio\u001b[49m\u001b[43m,\u001b[49m\n\u001b[0;32m    623\u001b[0m \u001b[43m    \u001b[49m\u001b[43minteraction_threshold\u001b[49m\u001b[38;5;241;43m=\u001b[39;49m\u001b[43minteraction_threshold\u001b[49m\u001b[43m,\u001b[49m\n\u001b[0;32m    624\u001b[0m \u001b[43m    \u001b[49m\u001b[43mtransform_target\u001b[49m\u001b[38;5;241;43m=\u001b[39;49m\u001b[43mtransform_target\u001b[49m\u001b[43m,\u001b[49m\n\u001b[0;32m    625\u001b[0m \u001b[43m    \u001b[49m\u001b[43mtransform_target_method\u001b[49m\u001b[38;5;241;43m=\u001b[39;49m\u001b[43mtransform_target_method\u001b[49m\u001b[43m,\u001b[49m\n\u001b[0;32m    626\u001b[0m \u001b[43m    \u001b[49m\u001b[43mdata_split_shuffle\u001b[49m\u001b[38;5;241;43m=\u001b[39;49m\u001b[43mdata_split_shuffle\u001b[49m\u001b[43m,\u001b[49m\n\u001b[0;32m    627\u001b[0m \u001b[43m    \u001b[49m\u001b[43mdata_split_stratify\u001b[49m\u001b[38;5;241;43m=\u001b[39;49m\u001b[43mdata_split_stratify\u001b[49m\u001b[43m,\u001b[49m\n\u001b[0;32m    628\u001b[0m \u001b[43m    \u001b[49m\u001b[43mfold_strategy\u001b[49m\u001b[38;5;241;43m=\u001b[39;49m\u001b[43mfold_strategy\u001b[49m\u001b[43m,\u001b[49m\n\u001b[0;32m    629\u001b[0m \u001b[43m    \u001b[49m\u001b[43mfold\u001b[49m\u001b[38;5;241;43m=\u001b[39;49m\u001b[43mfold\u001b[49m\u001b[43m,\u001b[49m\n\u001b[0;32m    630\u001b[0m \u001b[43m    \u001b[49m\u001b[43mfold_shuffle\u001b[49m\u001b[38;5;241;43m=\u001b[39;49m\u001b[43mfold_shuffle\u001b[49m\u001b[43m,\u001b[49m\n\u001b[0;32m    631\u001b[0m \u001b[43m    \u001b[49m\u001b[43mfold_groups\u001b[49m\u001b[38;5;241;43m=\u001b[39;49m\u001b[43mfold_groups\u001b[49m\u001b[43m,\u001b[49m\n\u001b[0;32m    632\u001b[0m \u001b[43m    \u001b[49m\u001b[43mn_jobs\u001b[49m\u001b[38;5;241;43m=\u001b[39;49m\u001b[43mn_jobs\u001b[49m\u001b[43m,\u001b[49m\n\u001b[0;32m    633\u001b[0m \u001b[43m    \u001b[49m\u001b[43muse_gpu\u001b[49m\u001b[38;5;241;43m=\u001b[39;49m\u001b[43muse_gpu\u001b[49m\u001b[43m,\u001b[49m\n\u001b[0;32m    634\u001b[0m \u001b[43m    \u001b[49m\u001b[43mcustom_pipeline\u001b[49m\u001b[38;5;241;43m=\u001b[39;49m\u001b[43mcustom_pipeline\u001b[49m\u001b[43m,\u001b[49m\n\u001b[0;32m    635\u001b[0m \u001b[43m    \u001b[49m\u001b[43mhtml\u001b[49m\u001b[38;5;241;43m=\u001b[39;49m\u001b[43mhtml\u001b[49m\u001b[43m,\u001b[49m\n\u001b[0;32m    636\u001b[0m \u001b[43m    \u001b[49m\u001b[43msession_id\u001b[49m\u001b[38;5;241;43m=\u001b[39;49m\u001b[43msession_id\u001b[49m\u001b[43m,\u001b[49m\n\u001b[0;32m    637\u001b[0m \u001b[43m    \u001b[49m\u001b[43mlog_experiment\u001b[49m\u001b[38;5;241;43m=\u001b[39;49m\u001b[43mlog_experiment\u001b[49m\u001b[43m,\u001b[49m\n\u001b[0;32m    638\u001b[0m \u001b[43m    \u001b[49m\u001b[43mexperiment_name\u001b[49m\u001b[38;5;241;43m=\u001b[39;49m\u001b[43mexperiment_name\u001b[49m\u001b[43m,\u001b[49m\n\u001b[0;32m    639\u001b[0m \u001b[43m    \u001b[49m\u001b[43mlog_plots\u001b[49m\u001b[38;5;241;43m=\u001b[39;49m\u001b[43mlog_plots\u001b[49m\u001b[43m,\u001b[49m\n\u001b[0;32m    640\u001b[0m \u001b[43m    \u001b[49m\u001b[43mlog_profile\u001b[49m\u001b[38;5;241;43m=\u001b[39;49m\u001b[43mlog_profile\u001b[49m\u001b[43m,\u001b[49m\n\u001b[0;32m    641\u001b[0m \u001b[43m    \u001b[49m\u001b[43mlog_data\u001b[49m\u001b[38;5;241;43m=\u001b[39;49m\u001b[43mlog_data\u001b[49m\u001b[43m,\u001b[49m\n\u001b[0;32m    642\u001b[0m \u001b[43m    \u001b[49m\u001b[43msilent\u001b[49m\u001b[38;5;241;43m=\u001b[39;49m\u001b[43msilent\u001b[49m\u001b[43m,\u001b[49m\n\u001b[0;32m    643\u001b[0m \u001b[43m    \u001b[49m\u001b[43mverbose\u001b[49m\u001b[38;5;241;43m=\u001b[39;49m\u001b[43mverbose\u001b[49m\u001b[43m,\u001b[49m\n\u001b[0;32m    644\u001b[0m \u001b[43m    \u001b[49m\u001b[43mprofile\u001b[49m\u001b[38;5;241;43m=\u001b[39;49m\u001b[43mprofile\u001b[49m\u001b[43m,\u001b[49m\n\u001b[0;32m    645\u001b[0m \u001b[43m    \u001b[49m\u001b[43mprofile_kwargs\u001b[49m\u001b[38;5;241;43m=\u001b[39;49m\u001b[43mprofile_kwargs\u001b[49m\u001b[43m,\u001b[49m\n\u001b[0;32m    646\u001b[0m \u001b[43m\u001b[49m\u001b[43m)\u001b[49m\n",
      "File \u001b[1;32m~\\AppData\\Roaming\\Python\\Python39\\site-packages\\pycaret\\internal\\tabular.py:1210\u001b[0m, in \u001b[0;36msetup\u001b[1;34m(data, target, ml_usecase, available_plots, train_size, test_data, preprocess, imputation_type, iterative_imputation_iters, categorical_features, categorical_imputation, categorical_iterative_imputer, ordinal_features, high_cardinality_features, high_cardinality_method, numeric_features, numeric_imputation, numeric_iterative_imputer, date_features, ignore_features, normalize, normalize_method, transformation, transformation_method, handle_unknown_categorical, unknown_categorical_method, pca, pca_method, pca_components, ignore_low_variance, combine_rare_levels, rare_level_threshold, bin_numeric_features, remove_outliers, outliers_threshold, remove_multicollinearity, multicollinearity_threshold, remove_perfect_collinearity, create_clusters, cluster_iter, polynomial_features, polynomial_degree, trigonometry_features, polynomial_threshold, group_features, group_names, feature_selection, feature_selection_threshold, feature_selection_method, feature_interaction, feature_ratio, interaction_threshold, fix_imbalance, fix_imbalance_method, transform_target, transform_target_method, data_split_shuffle, data_split_stratify, fold_strategy, fold, fold_shuffle, fold_groups, n_jobs, use_gpu, custom_pipeline, html, session_id, log_experiment, experiment_name, log_plots, log_profile, log_data, silent, verbose, profile, profile_kwargs, display)\u001b[0m\n\u001b[0;32m   1202\u001b[0m \u001b[38;5;28;01mfrom\u001b[39;00m \u001b[38;5;21;01msklearn\u001b[39;00m\u001b[38;5;21;01m.\u001b[39;00m\u001b[38;5;21;01mmodel_selection\u001b[39;00m \u001b[38;5;28;01mimport\u001b[39;00m (\n\u001b[0;32m   1203\u001b[0m     StratifiedKFold,\n\u001b[0;32m   1204\u001b[0m     KFold,\n\u001b[0;32m   1205\u001b[0m     GroupKFold,\n\u001b[0;32m   1206\u001b[0m     TimeSeriesSplit,\n\u001b[0;32m   1207\u001b[0m )\n\u001b[0;32m   1209\u001b[0m \u001b[38;5;28;01mif\u001b[39;00m fold_strategy \u001b[38;5;241m==\u001b[39m \u001b[38;5;124m\"\u001b[39m\u001b[38;5;124mkfold\u001b[39m\u001b[38;5;124m\"\u001b[39m:\n\u001b[1;32m-> 1210\u001b[0m     fold_generator \u001b[38;5;241m=\u001b[39m \u001b[43mKFold\u001b[49m\u001b[43m(\u001b[49m\n\u001b[0;32m   1211\u001b[0m \u001b[43m        \u001b[49m\u001b[43mfold_param\u001b[49m\u001b[43m,\u001b[49m\u001b[43m \u001b[49m\u001b[43mrandom_state\u001b[49m\u001b[38;5;241;43m=\u001b[39;49m\u001b[43mseed\u001b[49m\u001b[43m,\u001b[49m\u001b[43m \u001b[49m\u001b[43mshuffle\u001b[49m\u001b[38;5;241;43m=\u001b[39;49m\u001b[43mfold_shuffle_param\u001b[49m\n\u001b[0;32m   1212\u001b[0m \u001b[43m    \u001b[49m\u001b[43m)\u001b[49m\n\u001b[0;32m   1213\u001b[0m \u001b[38;5;28;01melif\u001b[39;00m fold_strategy \u001b[38;5;241m==\u001b[39m \u001b[38;5;124m\"\u001b[39m\u001b[38;5;124mstratifiedkfold\u001b[39m\u001b[38;5;124m\"\u001b[39m:\n\u001b[0;32m   1214\u001b[0m     fold_generator \u001b[38;5;241m=\u001b[39m StratifiedKFold(\n\u001b[0;32m   1215\u001b[0m         fold_param, random_state\u001b[38;5;241m=\u001b[39mseed, shuffle\u001b[38;5;241m=\u001b[39mfold_shuffle_param\n\u001b[0;32m   1216\u001b[0m     )\n",
      "File \u001b[1;32m~\\anaconda3\\lib\\site-packages\\sklearn\\model_selection\\_split.py:451\u001b[0m, in \u001b[0;36mKFold.__init__\u001b[1;34m(self, n_splits, shuffle, random_state)\u001b[0m\n\u001b[0;32m    450\u001b[0m \u001b[38;5;28;01mdef\u001b[39;00m \u001b[38;5;21m__init__\u001b[39m(\u001b[38;5;28mself\u001b[39m, n_splits\u001b[38;5;241m=\u001b[39m\u001b[38;5;241m5\u001b[39m, \u001b[38;5;241m*\u001b[39m, shuffle\u001b[38;5;241m=\u001b[39m\u001b[38;5;28;01mFalse\u001b[39;00m, random_state\u001b[38;5;241m=\u001b[39m\u001b[38;5;28;01mNone\u001b[39;00m):\n\u001b[1;32m--> 451\u001b[0m     \u001b[38;5;28;43msuper\u001b[39;49m\u001b[43m(\u001b[49m\u001b[43m)\u001b[49m\u001b[38;5;241;43m.\u001b[39;49m\u001b[38;5;21;43m__init__\u001b[39;49m\u001b[43m(\u001b[49m\u001b[43mn_splits\u001b[49m\u001b[38;5;241;43m=\u001b[39;49m\u001b[43mn_splits\u001b[49m\u001b[43m,\u001b[49m\u001b[43m \u001b[49m\u001b[43mshuffle\u001b[49m\u001b[38;5;241;43m=\u001b[39;49m\u001b[43mshuffle\u001b[49m\u001b[43m,\u001b[49m\u001b[43m \u001b[49m\u001b[43mrandom_state\u001b[49m\u001b[38;5;241;43m=\u001b[39;49m\u001b[43mrandom_state\u001b[49m\u001b[43m)\u001b[49m\n",
      "File \u001b[1;32m~\\anaconda3\\lib\\site-packages\\sklearn\\model_selection\\_split.py:308\u001b[0m, in \u001b[0;36m_BaseKFold.__init__\u001b[1;34m(self, n_splits, shuffle, random_state)\u001b[0m\n\u001b[0;32m    305\u001b[0m     \u001b[38;5;28;01mraise\u001b[39;00m \u001b[38;5;167;01mTypeError\u001b[39;00m(\u001b[38;5;124m\"\u001b[39m\u001b[38;5;124mshuffle must be True or False; got \u001b[39m\u001b[38;5;132;01m{0}\u001b[39;00m\u001b[38;5;124m\"\u001b[39m\u001b[38;5;241m.\u001b[39mformat(shuffle))\n\u001b[0;32m    307\u001b[0m \u001b[38;5;28;01mif\u001b[39;00m \u001b[38;5;129;01mnot\u001b[39;00m shuffle \u001b[38;5;129;01mand\u001b[39;00m random_state \u001b[38;5;129;01mis\u001b[39;00m \u001b[38;5;129;01mnot\u001b[39;00m \u001b[38;5;28;01mNone\u001b[39;00m:  \u001b[38;5;66;03m# None is the default\u001b[39;00m\n\u001b[1;32m--> 308\u001b[0m     \u001b[38;5;28;01mraise\u001b[39;00m \u001b[38;5;167;01mValueError\u001b[39;00m(\n\u001b[0;32m    309\u001b[0m         \u001b[38;5;124m\"\u001b[39m\u001b[38;5;124mSetting a random_state has no effect since shuffle is \u001b[39m\u001b[38;5;124m\"\u001b[39m\n\u001b[0;32m    310\u001b[0m         \u001b[38;5;124m\"\u001b[39m\u001b[38;5;124mFalse. You should leave \u001b[39m\u001b[38;5;124m\"\u001b[39m\n\u001b[0;32m    311\u001b[0m         \u001b[38;5;124m\"\u001b[39m\u001b[38;5;124mrandom_state to its default (None), or set shuffle=True.\u001b[39m\u001b[38;5;124m\"\u001b[39m,\n\u001b[0;32m    312\u001b[0m     )\n\u001b[0;32m    314\u001b[0m \u001b[38;5;28mself\u001b[39m\u001b[38;5;241m.\u001b[39mn_splits \u001b[38;5;241m=\u001b[39m n_splits\n\u001b[0;32m    315\u001b[0m \u001b[38;5;28mself\u001b[39m\u001b[38;5;241m.\u001b[39mshuffle \u001b[38;5;241m=\u001b[39m shuffle\n",
      "\u001b[1;31mValueError\u001b[0m: Setting a random_state has no effect since shuffle is False. You should leave random_state to its default (None), or set shuffle=True."
     ]
    }
   ],
   "source": [
    "setup(data=df, target=\"Price\")"
   ]
  },
  {
   "cell_type": "code",
   "execution_count": null,
   "id": "8777d41d",
   "metadata": {},
   "outputs": [],
   "source": [
    "best_model=compare_models()"
   ]
  },
  {
   "cell_type": "code",
   "execution_count": null,
   "id": "399f4523",
   "metadata": {},
   "outputs": [],
   "source": []
  },
  {
   "cell_type": "code",
   "execution_count": null,
   "id": "b8192ce4",
   "metadata": {},
   "outputs": [],
   "source": []
  },
  {
   "cell_type": "code",
   "execution_count": null,
   "id": "d70dc1f1",
   "metadata": {},
   "outputs": [],
   "source": []
  },
  {
   "cell_type": "code",
   "execution_count": null,
   "id": "2eb6a87d",
   "metadata": {},
   "outputs": [],
   "source": []
  },
  {
   "cell_type": "code",
   "execution_count": null,
   "id": "0c6e1adf",
   "metadata": {},
   "outputs": [],
   "source": []
  },
  {
   "cell_type": "code",
   "execution_count": null,
   "id": "764346d2",
   "metadata": {},
   "outputs": [],
   "source": []
  },
  {
   "cell_type": "code",
   "execution_count": null,
   "id": "5ee50174",
   "metadata": {},
   "outputs": [],
   "source": []
  },
  {
   "cell_type": "code",
   "execution_count": null,
   "id": "8dbba85b",
   "metadata": {},
   "outputs": [],
   "source": []
  },
  {
   "cell_type": "code",
   "execution_count": null,
   "id": "82185ebf",
   "metadata": {},
   "outputs": [],
   "source": []
  },
  {
   "cell_type": "code",
   "execution_count": null,
   "id": "fbfaadc5",
   "metadata": {},
   "outputs": [],
   "source": []
  },
  {
   "cell_type": "code",
   "execution_count": null,
   "id": "c68028f7",
   "metadata": {},
   "outputs": [],
   "source": []
  },
  {
   "cell_type": "code",
   "execution_count": null,
   "id": "f560a222",
   "metadata": {},
   "outputs": [],
   "source": []
  },
  {
   "cell_type": "code",
   "execution_count": null,
   "id": "8e0fe6be",
   "metadata": {},
   "outputs": [],
   "source": []
  },
  {
   "cell_type": "code",
   "execution_count": null,
   "id": "6e00249f",
   "metadata": {},
   "outputs": [],
   "source": []
  },
  {
   "cell_type": "code",
   "execution_count": null,
   "id": "2ebb5ec2",
   "metadata": {},
   "outputs": [],
   "source": []
  },
  {
   "cell_type": "code",
   "execution_count": null,
   "id": "8138bdf8",
   "metadata": {},
   "outputs": [],
   "source": []
  },
  {
   "cell_type": "code",
   "execution_count": null,
   "id": "6b189187",
   "metadata": {},
   "outputs": [],
   "source": []
  }
 ],
 "metadata": {
  "kernelspec": {
   "display_name": "Python 3 (ipykernel)",
   "language": "python",
   "name": "python3"
  },
  "language_info": {
   "codemirror_mode": {
    "name": "ipython",
    "version": 3
   },
   "file_extension": ".py",
   "mimetype": "text/x-python",
   "name": "python",
   "nbconvert_exporter": "python",
   "pygments_lexer": "ipython3",
   "version": "3.9.12"
  }
 },
 "nbformat": 4,
 "nbformat_minor": 5
}
