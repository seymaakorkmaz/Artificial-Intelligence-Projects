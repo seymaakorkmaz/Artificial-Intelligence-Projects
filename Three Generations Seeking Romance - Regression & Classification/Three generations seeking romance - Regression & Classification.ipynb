{
 "cells": [
  {
   "cell_type": "code",
   "execution_count": 124,
   "id": "cbbd7638",
   "metadata": {},
   "outputs": [],
   "source": [
    "import pandas as pd\n",
    "import numpy as np\n",
    "import matplotlib.pyplot as plt\n",
    "import seaborn as sns\n",
    "import warnings\n",
    "from datetime import datetime\n",
    "warnings.filterwarnings(\"ignore\")\n",
    "pd.set_option(\"display.max_columns\",100)"
   ]
  },
  {
   "cell_type": "raw",
   "id": "c8a834f1",
   "metadata": {},
   "source": [
    "Regression"
   ]
  },
  {
   "cell_type": "code",
   "execution_count": 125,
   "id": "8b8df952",
   "metadata": {},
   "outputs": [],
   "source": [
    "from sklearn.linear_model import LinearRegression\n",
    "from sklearn.linear_model import Ridge,Lasso\n",
    "from sklearn.linear_model import ElasticNet\n",
    "from sklearn.tree import ExtraTreeRegressor\n",
    "from sklearn.ensemble import GradientBoostingRegressor\n",
    "from sklearn.neighbors import KNeighborsRegressor\n",
    "\n",
    "from sklearn.model_selection import train_test_split\n",
    "\n",
    "from sklearn.metrics import mean_squared_error,r2_score,mean_absolute_error\n"
   ]
  },
  {
   "cell_type": "raw",
   "id": "3bc8a696",
   "metadata": {},
   "source": [
    "Deep Learning"
   ]
  },
  {
   "cell_type": "code",
   "execution_count": 126,
   "id": "7a447e78",
   "metadata": {},
   "outputs": [],
   "source": [
    "from tensorflow.keras.models import Sequential\n",
    "from tensorflow.keras.layers import Dense, Activation\n",
    "from tensorflow.keras.optimizers import Adam\n",
    "from sklearn.model_selection import train_test_split\n",
    "from sklearn.metrics import  r2_score, mean_squared_error, mean_absolute_error\n",
    "from sklearn.preprocessing import MinMaxScaler"
   ]
  },
  {
   "cell_type": "raw",
   "id": "eb95ed00",
   "metadata": {},
   "source": [
    "Classification"
   ]
  },
  {
   "cell_type": "code",
   "execution_count": 127,
   "id": "9d8a1204",
   "metadata": {},
   "outputs": [],
   "source": [
    "from sklearn.naive_bayes import GaussianNB\n",
    "from sklearn.naive_bayes import BernoulliNB\n",
    "from sklearn.svm import SVC\n",
    "from sklearn.neighbors import KNeighborsClassifier\n",
    "from sklearn.tree import DecisionTreeClassifier\n",
    "from sklearn.ensemble import RandomForestClassifier\n",
    "from sklearn.linear_model import LogisticRegression\n",
    "from xgboost import XGBClassifier  \n",
    "from sklearn.metrics import accuracy_score,precision_score,recall_score,f1_score\n",
    "from sklearn.metrics import confusion_matrix,classification_report"
   ]
  },
  {
   "cell_type": "code",
   "execution_count": 128,
   "id": "2c0a728b",
   "metadata": {},
   "outputs": [],
   "source": [
    "df = pd.read_csv(\"profiles.csv\")"
   ]
  },
  {
   "cell_type": "code",
   "execution_count": 129,
   "id": "19245aab",
   "metadata": {},
   "outputs": [
    {
     "data": {
      "text/html": [
       "<div>\n",
       "<style scoped>\n",
       "    .dataframe tbody tr th:only-of-type {\n",
       "        vertical-align: middle;\n",
       "    }\n",
       "\n",
       "    .dataframe tbody tr th {\n",
       "        vertical-align: top;\n",
       "    }\n",
       "\n",
       "    .dataframe thead th {\n",
       "        text-align: right;\n",
       "    }\n",
       "</style>\n",
       "<table border=\"1\" class=\"dataframe\">\n",
       "  <thead>\n",
       "    <tr style=\"text-align: right;\">\n",
       "      <th></th>\n",
       "      <th>age</th>\n",
       "      <th>body_type</th>\n",
       "      <th>diet</th>\n",
       "      <th>drinks</th>\n",
       "      <th>drugs</th>\n",
       "      <th>education</th>\n",
       "      <th>essay0</th>\n",
       "      <th>essay1</th>\n",
       "      <th>essay2</th>\n",
       "      <th>essay3</th>\n",
       "      <th>essay4</th>\n",
       "      <th>essay5</th>\n",
       "      <th>essay6</th>\n",
       "      <th>essay7</th>\n",
       "      <th>essay8</th>\n",
       "      <th>essay9</th>\n",
       "      <th>ethnicity</th>\n",
       "      <th>height</th>\n",
       "      <th>income</th>\n",
       "      <th>job</th>\n",
       "      <th>last_online</th>\n",
       "      <th>location</th>\n",
       "      <th>offspring</th>\n",
       "      <th>orientation</th>\n",
       "      <th>pets</th>\n",
       "      <th>religion</th>\n",
       "      <th>sex</th>\n",
       "      <th>sign</th>\n",
       "      <th>smokes</th>\n",
       "      <th>speaks</th>\n",
       "      <th>status</th>\n",
       "    </tr>\n",
       "  </thead>\n",
       "  <tbody>\n",
       "    <tr>\n",
       "      <th>0</th>\n",
       "      <td>22.0</td>\n",
       "      <td>a little extra</td>\n",
       "      <td>strictly anything</td>\n",
       "      <td>socially</td>\n",
       "      <td>never</td>\n",
       "      <td>working on college/university</td>\n",
       "      <td>about me:&lt;br /&gt;\\n&lt;br /&gt;\\ni would love to think...</td>\n",
       "      <td>currently working as an international agent fo...</td>\n",
       "      <td>making people laugh.&lt;br /&gt;\\nranting about a go...</td>\n",
       "      <td>the way i look. i am a six foot half asian, ha...</td>\n",
       "      <td>books:&lt;br /&gt;\\nabsurdistan, the republic, of mi...</td>\n",
       "      <td>food.&lt;br /&gt;\\nwater.&lt;br /&gt;\\ncell phone.&lt;br /&gt;\\n...</td>\n",
       "      <td>duality and humorous things</td>\n",
       "      <td>trying to find someone to hang out with. i am ...</td>\n",
       "      <td>i am new to california and looking for someone...</td>\n",
       "      <td>you want to be swept off your feet!&lt;br /&gt;\\nyou...</td>\n",
       "      <td>asian, white</td>\n",
       "      <td>75.0</td>\n",
       "      <td>-1.0</td>\n",
       "      <td>transportation</td>\n",
       "      <td>2012-06-28-20-30</td>\n",
       "      <td>south san francisco, california</td>\n",
       "      <td>doesn&amp;rsquo;t have kids, but might want them</td>\n",
       "      <td>straight</td>\n",
       "      <td>likes dogs and likes cats</td>\n",
       "      <td>agnosticism and very serious about it</td>\n",
       "      <td>m</td>\n",
       "      <td>gemini</td>\n",
       "      <td>sometimes</td>\n",
       "      <td>english</td>\n",
       "      <td>single</td>\n",
       "    </tr>\n",
       "    <tr>\n",
       "      <th>1</th>\n",
       "      <td>35.0</td>\n",
       "      <td>average</td>\n",
       "      <td>mostly other</td>\n",
       "      <td>often</td>\n",
       "      <td>sometimes</td>\n",
       "      <td>working on space camp</td>\n",
       "      <td>i am a chef: this is what that means.&lt;br /&gt;\\n1...</td>\n",
       "      <td>dedicating everyday to being an unbelievable b...</td>\n",
       "      <td>being silly. having ridiculous amonts of fun w...</td>\n",
       "      <td>NaN</td>\n",
       "      <td>i am die hard christopher moore fan. i don't r...</td>\n",
       "      <td>delicious porkness in all of its glories.&lt;br /...</td>\n",
       "      <td>NaN</td>\n",
       "      <td>NaN</td>\n",
       "      <td>i am very open and will share just about anyth...</td>\n",
       "      <td>NaN</td>\n",
       "      <td>white</td>\n",
       "      <td>70.0</td>\n",
       "      <td>80000.0</td>\n",
       "      <td>hospitality / travel</td>\n",
       "      <td>2012-06-29-21-41</td>\n",
       "      <td>oakland, california</td>\n",
       "      <td>doesn&amp;rsquo;t have kids, but might want them</td>\n",
       "      <td>straight</td>\n",
       "      <td>likes dogs and likes cats</td>\n",
       "      <td>agnosticism but not too serious about it</td>\n",
       "      <td>m</td>\n",
       "      <td>cancer</td>\n",
       "      <td>no</td>\n",
       "      <td>english (fluently), spanish (poorly), french (...</td>\n",
       "      <td>single</td>\n",
       "    </tr>\n",
       "    <tr>\n",
       "      <th>2</th>\n",
       "      <td>38.0</td>\n",
       "      <td>thin</td>\n",
       "      <td>anything</td>\n",
       "      <td>socially</td>\n",
       "      <td>NaN</td>\n",
       "      <td>graduated from masters program</td>\n",
       "      <td>i'm not ashamed of much, but writing public te...</td>\n",
       "      <td>i make nerdy software for musicians, artists, ...</td>\n",
       "      <td>improvising in different contexts. alternating...</td>\n",
       "      <td>my large jaw and large glasses are the physica...</td>\n",
       "      <td>okay this is where the cultural matrix gets so...</td>\n",
       "      <td>movement&lt;br /&gt;\\nconversation&lt;br /&gt;\\ncreation&lt;b...</td>\n",
       "      <td>NaN</td>\n",
       "      <td>viewing. listening. dancing. talking. drinking...</td>\n",
       "      <td>when i was five years old, i was known as \"the...</td>\n",
       "      <td>you are bright, open, intense, silly, ironic, ...</td>\n",
       "      <td>NaN</td>\n",
       "      <td>68.0</td>\n",
       "      <td>-1.0</td>\n",
       "      <td>NaN</td>\n",
       "      <td>2012-06-27-09-10</td>\n",
       "      <td>san francisco, california</td>\n",
       "      <td>NaN</td>\n",
       "      <td>straight</td>\n",
       "      <td>has cats</td>\n",
       "      <td>NaN</td>\n",
       "      <td>m</td>\n",
       "      <td>pisces but it doesn&amp;rsquo;t matter</td>\n",
       "      <td>no</td>\n",
       "      <td>english, french, c++</td>\n",
       "      <td>available</td>\n",
       "    </tr>\n",
       "    <tr>\n",
       "      <th>3</th>\n",
       "      <td>23.0</td>\n",
       "      <td>thin</td>\n",
       "      <td>vegetarian</td>\n",
       "      <td>socially</td>\n",
       "      <td>NaN</td>\n",
       "      <td>working on college/university</td>\n",
       "      <td>i work in a library and go to school. . .</td>\n",
       "      <td>reading things written by old dead people</td>\n",
       "      <td>playing synthesizers and organizing books acco...</td>\n",
       "      <td>socially awkward but i do my best</td>\n",
       "      <td>bataille, celine, beckett. . .&lt;br /&gt;\\nlynch, j...</td>\n",
       "      <td>NaN</td>\n",
       "      <td>cats and german philosophy</td>\n",
       "      <td>NaN</td>\n",
       "      <td>NaN</td>\n",
       "      <td>you feel so inclined.</td>\n",
       "      <td>white</td>\n",
       "      <td>71.0</td>\n",
       "      <td>20000.0</td>\n",
       "      <td>student</td>\n",
       "      <td>2012-06-28-14-22</td>\n",
       "      <td>berkeley, california</td>\n",
       "      <td>doesn&amp;rsquo;t want kids</td>\n",
       "      <td>straight</td>\n",
       "      <td>likes cats</td>\n",
       "      <td>NaN</td>\n",
       "      <td>m</td>\n",
       "      <td>pisces</td>\n",
       "      <td>no</td>\n",
       "      <td>english, german (poorly)</td>\n",
       "      <td>single</td>\n",
       "    </tr>\n",
       "    <tr>\n",
       "      <th>4</th>\n",
       "      <td>29.0</td>\n",
       "      <td>athletic</td>\n",
       "      <td>NaN</td>\n",
       "      <td>socially</td>\n",
       "      <td>never</td>\n",
       "      <td>graduated from college/university</td>\n",
       "      <td>hey how's it going? currently vague on the pro...</td>\n",
       "      <td>work work work work + play</td>\n",
       "      <td>creating imagery to look at:&lt;br /&gt;\\nhttp://bag...</td>\n",
       "      <td>i smile a lot and my inquisitive nature</td>\n",
       "      <td>music: bands, rappers, musicians&lt;br /&gt;\\nat the...</td>\n",
       "      <td>NaN</td>\n",
       "      <td>NaN</td>\n",
       "      <td>NaN</td>\n",
       "      <td>NaN</td>\n",
       "      <td>NaN</td>\n",
       "      <td>asian, black, other</td>\n",
       "      <td>66.0</td>\n",
       "      <td>-1.0</td>\n",
       "      <td>artistic / musical / writer</td>\n",
       "      <td>2012-06-27-21-26</td>\n",
       "      <td>san francisco, california</td>\n",
       "      <td>NaN</td>\n",
       "      <td>straight</td>\n",
       "      <td>likes dogs and likes cats</td>\n",
       "      <td>NaN</td>\n",
       "      <td>m</td>\n",
       "      <td>aquarius</td>\n",
       "      <td>no</td>\n",
       "      <td>english</td>\n",
       "      <td>single</td>\n",
       "    </tr>\n",
       "    <tr>\n",
       "      <th>...</th>\n",
       "      <td>...</td>\n",
       "      <td>...</td>\n",
       "      <td>...</td>\n",
       "      <td>...</td>\n",
       "      <td>...</td>\n",
       "      <td>...</td>\n",
       "      <td>...</td>\n",
       "      <td>...</td>\n",
       "      <td>...</td>\n",
       "      <td>...</td>\n",
       "      <td>...</td>\n",
       "      <td>...</td>\n",
       "      <td>...</td>\n",
       "      <td>...</td>\n",
       "      <td>...</td>\n",
       "      <td>...</td>\n",
       "      <td>...</td>\n",
       "      <td>...</td>\n",
       "      <td>...</td>\n",
       "      <td>...</td>\n",
       "      <td>...</td>\n",
       "      <td>...</td>\n",
       "      <td>...</td>\n",
       "      <td>...</td>\n",
       "      <td>...</td>\n",
       "      <td>...</td>\n",
       "      <td>...</td>\n",
       "      <td>...</td>\n",
       "      <td>...</td>\n",
       "      <td>...</td>\n",
       "      <td>...</td>\n",
       "    </tr>\n",
       "    <tr>\n",
       "      <th>60547</th>\n",
       "      <td>NaN</td>\n",
       "      <td>NaN</td>\n",
       "      <td>NaN</td>\n",
       "      <td>NaN</td>\n",
       "      <td>NaN</td>\n",
       "      <td>NaN</td>\n",
       "      <td>NaN</td>\n",
       "      <td>NaN</td>\n",
       "      <td>NaN</td>\n",
       "      <td>NaN</td>\n",
       "      <td>NaN</td>\n",
       "      <td>NaN</td>\n",
       "      <td>NaN</td>\n",
       "      <td>NaN</td>\n",
       "      <td>NaN</td>\n",
       "      <td>NaN</td>\n",
       "      <td>NaN</td>\n",
       "      <td>NaN</td>\n",
       "      <td>NaN</td>\n",
       "      <td>NaN</td>\n",
       "      <td>NaN</td>\n",
       "      <td>NaN</td>\n",
       "      <td>NaN</td>\n",
       "      <td>NaN</td>\n",
       "      <td>NaN</td>\n",
       "      <td>NaN</td>\n",
       "      <td>NaN</td>\n",
       "      <td>NaN</td>\n",
       "      <td>NaN</td>\n",
       "      <td>NaN</td>\n",
       "      <td>NaN</td>\n",
       "    </tr>\n",
       "    <tr>\n",
       "      <th>60548</th>\n",
       "      <td>NaN</td>\n",
       "      <td>NaN</td>\n",
       "      <td>NaN</td>\n",
       "      <td>NaN</td>\n",
       "      <td>NaN</td>\n",
       "      <td>NaN</td>\n",
       "      <td>NaN</td>\n",
       "      <td>NaN</td>\n",
       "      <td>NaN</td>\n",
       "      <td>NaN</td>\n",
       "      <td>NaN</td>\n",
       "      <td>NaN</td>\n",
       "      <td>NaN</td>\n",
       "      <td>NaN</td>\n",
       "      <td>NaN</td>\n",
       "      <td>NaN</td>\n",
       "      <td>NaN</td>\n",
       "      <td>NaN</td>\n",
       "      <td>NaN</td>\n",
       "      <td>NaN</td>\n",
       "      <td>NaN</td>\n",
       "      <td>NaN</td>\n",
       "      <td>NaN</td>\n",
       "      <td>NaN</td>\n",
       "      <td>NaN</td>\n",
       "      <td>NaN</td>\n",
       "      <td>NaN</td>\n",
       "      <td>NaN</td>\n",
       "      <td>NaN</td>\n",
       "      <td>NaN</td>\n",
       "      <td>NaN</td>\n",
       "    </tr>\n",
       "    <tr>\n",
       "      <th>60549</th>\n",
       "      <td>NaN</td>\n",
       "      <td>NaN</td>\n",
       "      <td>NaN</td>\n",
       "      <td>NaN</td>\n",
       "      <td>NaN</td>\n",
       "      <td>NaN</td>\n",
       "      <td>NaN</td>\n",
       "      <td>NaN</td>\n",
       "      <td>NaN</td>\n",
       "      <td>NaN</td>\n",
       "      <td>NaN</td>\n",
       "      <td>NaN</td>\n",
       "      <td>NaN</td>\n",
       "      <td>NaN</td>\n",
       "      <td>NaN</td>\n",
       "      <td>NaN</td>\n",
       "      <td>NaN</td>\n",
       "      <td>NaN</td>\n",
       "      <td>NaN</td>\n",
       "      <td>NaN</td>\n",
       "      <td>NaN</td>\n",
       "      <td>NaN</td>\n",
       "      <td>NaN</td>\n",
       "      <td>NaN</td>\n",
       "      <td>NaN</td>\n",
       "      <td>NaN</td>\n",
       "      <td>NaN</td>\n",
       "      <td>NaN</td>\n",
       "      <td>NaN</td>\n",
       "      <td>NaN</td>\n",
       "      <td>NaN</td>\n",
       "    </tr>\n",
       "    <tr>\n",
       "      <th>60550</th>\n",
       "      <td>NaN</td>\n",
       "      <td>NaN</td>\n",
       "      <td>NaN</td>\n",
       "      <td>NaN</td>\n",
       "      <td>NaN</td>\n",
       "      <td>NaN</td>\n",
       "      <td>NaN</td>\n",
       "      <td>NaN</td>\n",
       "      <td>NaN</td>\n",
       "      <td>NaN</td>\n",
       "      <td>NaN</td>\n",
       "      <td>NaN</td>\n",
       "      <td>NaN</td>\n",
       "      <td>NaN</td>\n",
       "      <td>NaN</td>\n",
       "      <td>NaN</td>\n",
       "      <td>NaN</td>\n",
       "      <td>NaN</td>\n",
       "      <td>NaN</td>\n",
       "      <td>NaN</td>\n",
       "      <td>NaN</td>\n",
       "      <td>NaN</td>\n",
       "      <td>NaN</td>\n",
       "      <td>NaN</td>\n",
       "      <td>NaN</td>\n",
       "      <td>NaN</td>\n",
       "      <td>NaN</td>\n",
       "      <td>NaN</td>\n",
       "      <td>NaN</td>\n",
       "      <td>NaN</td>\n",
       "      <td>NaN</td>\n",
       "    </tr>\n",
       "    <tr>\n",
       "      <th>60551</th>\n",
       "      <td>NaN</td>\n",
       "      <td>NaN</td>\n",
       "      <td>NaN</td>\n",
       "      <td>NaN</td>\n",
       "      <td>NaN</td>\n",
       "      <td>NaN</td>\n",
       "      <td>NaN</td>\n",
       "      <td>NaN</td>\n",
       "      <td>NaN</td>\n",
       "      <td>NaN</td>\n",
       "      <td>NaN</td>\n",
       "      <td>NaN</td>\n",
       "      <td>NaN</td>\n",
       "      <td>NaN</td>\n",
       "      <td>NaN</td>\n",
       "      <td>NaN</td>\n",
       "      <td>NaN</td>\n",
       "      <td>NaN</td>\n",
       "      <td>NaN</td>\n",
       "      <td>NaN</td>\n",
       "      <td>NaN</td>\n",
       "      <td>NaN</td>\n",
       "      <td>NaN</td>\n",
       "      <td>NaN</td>\n",
       "      <td>NaN</td>\n",
       "      <td>NaN</td>\n",
       "      <td>NaN</td>\n",
       "      <td>NaN</td>\n",
       "      <td>NaN</td>\n",
       "      <td>NaN</td>\n",
       "      <td>NaN</td>\n",
       "    </tr>\n",
       "  </tbody>\n",
       "</table>\n",
       "<p>60552 rows × 31 columns</p>\n",
       "</div>"
      ],
      "text/plain": [
       "        age       body_type               diet    drinks      drugs  \\\n",
       "0      22.0  a little extra  strictly anything  socially      never   \n",
       "1      35.0         average       mostly other     often  sometimes   \n",
       "2      38.0            thin           anything  socially        NaN   \n",
       "3      23.0            thin         vegetarian  socially        NaN   \n",
       "4      29.0        athletic                NaN  socially      never   \n",
       "...     ...             ...                ...       ...        ...   \n",
       "60547   NaN             NaN                NaN       NaN        NaN   \n",
       "60548   NaN             NaN                NaN       NaN        NaN   \n",
       "60549   NaN             NaN                NaN       NaN        NaN   \n",
       "60550   NaN             NaN                NaN       NaN        NaN   \n",
       "60551   NaN             NaN                NaN       NaN        NaN   \n",
       "\n",
       "                               education  \\\n",
       "0          working on college/university   \n",
       "1                  working on space camp   \n",
       "2         graduated from masters program   \n",
       "3          working on college/university   \n",
       "4      graduated from college/university   \n",
       "...                                  ...   \n",
       "60547                                NaN   \n",
       "60548                                NaN   \n",
       "60549                                NaN   \n",
       "60550                                NaN   \n",
       "60551                                NaN   \n",
       "\n",
       "                                                  essay0  \\\n",
       "0      about me:<br />\\n<br />\\ni would love to think...   \n",
       "1      i am a chef: this is what that means.<br />\\n1...   \n",
       "2      i'm not ashamed of much, but writing public te...   \n",
       "3              i work in a library and go to school. . .   \n",
       "4      hey how's it going? currently vague on the pro...   \n",
       "...                                                  ...   \n",
       "60547                                                NaN   \n",
       "60548                                                NaN   \n",
       "60549                                                NaN   \n",
       "60550                                                NaN   \n",
       "60551                                                NaN   \n",
       "\n",
       "                                                  essay1  \\\n",
       "0      currently working as an international agent fo...   \n",
       "1      dedicating everyday to being an unbelievable b...   \n",
       "2      i make nerdy software for musicians, artists, ...   \n",
       "3              reading things written by old dead people   \n",
       "4                             work work work work + play   \n",
       "...                                                  ...   \n",
       "60547                                                NaN   \n",
       "60548                                                NaN   \n",
       "60549                                                NaN   \n",
       "60550                                                NaN   \n",
       "60551                                                NaN   \n",
       "\n",
       "                                                  essay2  \\\n",
       "0      making people laugh.<br />\\nranting about a go...   \n",
       "1      being silly. having ridiculous amonts of fun w...   \n",
       "2      improvising in different contexts. alternating...   \n",
       "3      playing synthesizers and organizing books acco...   \n",
       "4      creating imagery to look at:<br />\\nhttp://bag...   \n",
       "...                                                  ...   \n",
       "60547                                                NaN   \n",
       "60548                                                NaN   \n",
       "60549                                                NaN   \n",
       "60550                                                NaN   \n",
       "60551                                                NaN   \n",
       "\n",
       "                                                  essay3  \\\n",
       "0      the way i look. i am a six foot half asian, ha...   \n",
       "1                                                    NaN   \n",
       "2      my large jaw and large glasses are the physica...   \n",
       "3                      socially awkward but i do my best   \n",
       "4                i smile a lot and my inquisitive nature   \n",
       "...                                                  ...   \n",
       "60547                                                NaN   \n",
       "60548                                                NaN   \n",
       "60549                                                NaN   \n",
       "60550                                                NaN   \n",
       "60551                                                NaN   \n",
       "\n",
       "                                                  essay4  \\\n",
       "0      books:<br />\\nabsurdistan, the republic, of mi...   \n",
       "1      i am die hard christopher moore fan. i don't r...   \n",
       "2      okay this is where the cultural matrix gets so...   \n",
       "3      bataille, celine, beckett. . .<br />\\nlynch, j...   \n",
       "4      music: bands, rappers, musicians<br />\\nat the...   \n",
       "...                                                  ...   \n",
       "60547                                                NaN   \n",
       "60548                                                NaN   \n",
       "60549                                                NaN   \n",
       "60550                                                NaN   \n",
       "60551                                                NaN   \n",
       "\n",
       "                                                  essay5  \\\n",
       "0      food.<br />\\nwater.<br />\\ncell phone.<br />\\n...   \n",
       "1      delicious porkness in all of its glories.<br /...   \n",
       "2      movement<br />\\nconversation<br />\\ncreation<b...   \n",
       "3                                                    NaN   \n",
       "4                                                    NaN   \n",
       "...                                                  ...   \n",
       "60547                                                NaN   \n",
       "60548                                                NaN   \n",
       "60549                                                NaN   \n",
       "60550                                                NaN   \n",
       "60551                                                NaN   \n",
       "\n",
       "                            essay6  \\\n",
       "0      duality and humorous things   \n",
       "1                              NaN   \n",
       "2                              NaN   \n",
       "3       cats and german philosophy   \n",
       "4                              NaN   \n",
       "...                            ...   \n",
       "60547                          NaN   \n",
       "60548                          NaN   \n",
       "60549                          NaN   \n",
       "60550                          NaN   \n",
       "60551                          NaN   \n",
       "\n",
       "                                                  essay7  \\\n",
       "0      trying to find someone to hang out with. i am ...   \n",
       "1                                                    NaN   \n",
       "2      viewing. listening. dancing. talking. drinking...   \n",
       "3                                                    NaN   \n",
       "4                                                    NaN   \n",
       "...                                                  ...   \n",
       "60547                                                NaN   \n",
       "60548                                                NaN   \n",
       "60549                                                NaN   \n",
       "60550                                                NaN   \n",
       "60551                                                NaN   \n",
       "\n",
       "                                                  essay8  \\\n",
       "0      i am new to california and looking for someone...   \n",
       "1      i am very open and will share just about anyth...   \n",
       "2      when i was five years old, i was known as \"the...   \n",
       "3                                                    NaN   \n",
       "4                                                    NaN   \n",
       "...                                                  ...   \n",
       "60547                                                NaN   \n",
       "60548                                                NaN   \n",
       "60549                                                NaN   \n",
       "60550                                                NaN   \n",
       "60551                                                NaN   \n",
       "\n",
       "                                                  essay9            ethnicity  \\\n",
       "0      you want to be swept off your feet!<br />\\nyou...         asian, white   \n",
       "1                                                    NaN                white   \n",
       "2      you are bright, open, intense, silly, ironic, ...                  NaN   \n",
       "3                                  you feel so inclined.                white   \n",
       "4                                                    NaN  asian, black, other   \n",
       "...                                                  ...                  ...   \n",
       "60547                                                NaN                  NaN   \n",
       "60548                                                NaN                  NaN   \n",
       "60549                                                NaN                  NaN   \n",
       "60550                                                NaN                  NaN   \n",
       "60551                                                NaN                  NaN   \n",
       "\n",
       "       height   income                          job       last_online  \\\n",
       "0        75.0     -1.0               transportation  2012-06-28-20-30   \n",
       "1        70.0  80000.0         hospitality / travel  2012-06-29-21-41   \n",
       "2        68.0     -1.0                          NaN  2012-06-27-09-10   \n",
       "3        71.0  20000.0                      student  2012-06-28-14-22   \n",
       "4        66.0     -1.0  artistic / musical / writer  2012-06-27-21-26   \n",
       "...       ...      ...                          ...               ...   \n",
       "60547     NaN      NaN                          NaN               NaN   \n",
       "60548     NaN      NaN                          NaN               NaN   \n",
       "60549     NaN      NaN                          NaN               NaN   \n",
       "60550     NaN      NaN                          NaN               NaN   \n",
       "60551     NaN      NaN                          NaN               NaN   \n",
       "\n",
       "                              location  \\\n",
       "0      south san francisco, california   \n",
       "1                  oakland, california   \n",
       "2            san francisco, california   \n",
       "3                 berkeley, california   \n",
       "4            san francisco, california   \n",
       "...                                ...   \n",
       "60547                              NaN   \n",
       "60548                              NaN   \n",
       "60549                              NaN   \n",
       "60550                              NaN   \n",
       "60551                              NaN   \n",
       "\n",
       "                                          offspring orientation  \\\n",
       "0      doesn&rsquo;t have kids, but might want them    straight   \n",
       "1      doesn&rsquo;t have kids, but might want them    straight   \n",
       "2                                               NaN    straight   \n",
       "3                           doesn&rsquo;t want kids    straight   \n",
       "4                                               NaN    straight   \n",
       "...                                             ...         ...   \n",
       "60547                                           NaN         NaN   \n",
       "60548                                           NaN         NaN   \n",
       "60549                                           NaN         NaN   \n",
       "60550                                           NaN         NaN   \n",
       "60551                                           NaN         NaN   \n",
       "\n",
       "                            pets                                  religion  \\\n",
       "0      likes dogs and likes cats     agnosticism and very serious about it   \n",
       "1      likes dogs and likes cats  agnosticism but not too serious about it   \n",
       "2                       has cats                                       NaN   \n",
       "3                     likes cats                                       NaN   \n",
       "4      likes dogs and likes cats                                       NaN   \n",
       "...                          ...                                       ...   \n",
       "60547                        NaN                                       NaN   \n",
       "60548                        NaN                                       NaN   \n",
       "60549                        NaN                                       NaN   \n",
       "60550                        NaN                                       NaN   \n",
       "60551                        NaN                                       NaN   \n",
       "\n",
       "       sex                                sign     smokes  \\\n",
       "0        m                              gemini  sometimes   \n",
       "1        m                              cancer         no   \n",
       "2        m  pisces but it doesn&rsquo;t matter         no   \n",
       "3        m                              pisces         no   \n",
       "4        m                            aquarius         no   \n",
       "...    ...                                 ...        ...   \n",
       "60547  NaN                                 NaN        NaN   \n",
       "60548  NaN                                 NaN        NaN   \n",
       "60549  NaN                                 NaN        NaN   \n",
       "60550  NaN                                 NaN        NaN   \n",
       "60551  NaN                                 NaN        NaN   \n",
       "\n",
       "                                                  speaks     status  \n",
       "0                                                english     single  \n",
       "1      english (fluently), spanish (poorly), french (...     single  \n",
       "2                                   english, french, c++  available  \n",
       "3                               english, german (poorly)     single  \n",
       "4                                                english     single  \n",
       "...                                                  ...        ...  \n",
       "60547                                                NaN        NaN  \n",
       "60548                                                NaN        NaN  \n",
       "60549                                                NaN        NaN  \n",
       "60550                                                NaN        NaN  \n",
       "60551                                                NaN        NaN  \n",
       "\n",
       "[60552 rows x 31 columns]"
      ]
     },
     "execution_count": 129,
     "metadata": {},
     "output_type": "execute_result"
    }
   ],
   "source": [
    "df"
   ]
  },
  {
   "cell_type": "code",
   "execution_count": 130,
   "id": "37d63331",
   "metadata": {},
   "outputs": [
    {
     "name": "stdout",
     "output_type": "stream",
     "text": [
      "<class 'pandas.core.frame.DataFrame'>\n",
      "RangeIndex: 60552 entries, 0 to 60551\n",
      "Data columns (total 31 columns):\n",
      " #   Column       Non-Null Count  Dtype  \n",
      "---  ------       --------------  -----  \n",
      " 0   age          9514 non-null   float64\n",
      " 1   body_type    8666 non-null   object \n",
      " 2   diet         5761 non-null   object \n",
      " 3   drinks       9012 non-null   object \n",
      " 4   drugs        7215 non-null   object \n",
      " 5   education    8459 non-null   object \n",
      " 6   essay0       8667 non-null   object \n",
      " 7   essay1       8347 non-null   object \n",
      " 8   essay2       8049 non-null   object \n",
      " 9   essay3       7690 non-null   object \n",
      " 10  essay4       7879 non-null   object \n",
      " 11  essay5       7814 non-null   object \n",
      " 12  essay6       7352 non-null   object \n",
      " 13  essay7       7553 non-null   object \n",
      " 14  essay8       6361 non-null   object \n",
      " 15  essay9       7554 non-null   object \n",
      " 16  ethnicity    8565 non-null   object \n",
      " 17  height       9514 non-null   float64\n",
      " 18  income       9514 non-null   float64\n",
      " 19  job          8183 non-null   object \n",
      " 20  last_online  9514 non-null   object \n",
      " 21  location     9514 non-null   object \n",
      " 22  offspring    3886 non-null   object \n",
      " 23  orientation  9514 non-null   object \n",
      " 24  pets         6352 non-null   object \n",
      " 25  religion     6261 non-null   object \n",
      " 26  sex          9514 non-null   object \n",
      " 27  sign         7776 non-null   object \n",
      " 28  smokes       8596 non-null   object \n",
      " 29  speaks       9508 non-null   object \n",
      " 30  status       9514 non-null   object \n",
      "dtypes: float64(3), object(28)\n",
      "memory usage: 14.3+ MB\n"
     ]
    }
   ],
   "source": [
    "df.info()"
   ]
  },
  {
   "cell_type": "code",
   "execution_count": 131,
   "id": "ad905d3c",
   "metadata": {},
   "outputs": [
    {
     "data": {
      "text/plain": [
       "age            51038\n",
       "body_type      51886\n",
       "diet           54791\n",
       "drinks         51540\n",
       "drugs          53337\n",
       "education      52093\n",
       "essay0         51885\n",
       "essay1         52205\n",
       "essay2         52503\n",
       "essay3         52862\n",
       "essay4         52673\n",
       "essay5         52738\n",
       "essay6         53200\n",
       "essay7         52999\n",
       "essay8         54191\n",
       "essay9         52998\n",
       "ethnicity      51987\n",
       "height         51038\n",
       "income         51038\n",
       "job            52369\n",
       "last_online    51038\n",
       "location       51038\n",
       "offspring      56666\n",
       "orientation    51038\n",
       "pets           54200\n",
       "religion       54291\n",
       "sex            51038\n",
       "sign           52776\n",
       "smokes         51956\n",
       "speaks         51044\n",
       "status         51038\n",
       "dtype: int64"
      ]
     },
     "execution_count": 131,
     "metadata": {},
     "output_type": "execute_result"
    }
   ],
   "source": [
    "df.isnull().sum()"
   ]
  },
  {
   "cell_type": "code",
   "execution_count": 132,
   "id": "f49ac055",
   "metadata": {},
   "outputs": [
    {
     "data": {
      "text/plain": [
       "(60552, 31)"
      ]
     },
     "execution_count": 132,
     "metadata": {},
     "output_type": "execute_result"
    }
   ],
   "source": [
    "df.shape"
   ]
  },
  {
   "cell_type": "code",
   "execution_count": 133,
   "id": "791294ea",
   "metadata": {},
   "outputs": [],
   "source": [
    "#repeated lines deleted\n",
    "df=df.drop_duplicates()[:9514]"
   ]
  },
  {
   "cell_type": "code",
   "execution_count": 134,
   "id": "dd2180c4",
   "metadata": {},
   "outputs": [],
   "source": [
    "# The columns named essay were deleted because they were mostly null\n",
    "for i in df:\n",
    "    if (\"essay\" in i):\n",
    "        df.drop(i,axis=1,inplace=True)"
   ]
  },
  {
   "cell_type": "code",
   "execution_count": 135,
   "id": "077703a7",
   "metadata": {},
   "outputs": [
    {
     "name": "stdout",
     "output_type": "stream",
     "text": [
      "<class 'pandas.core.frame.DataFrame'>\n",
      "Int64Index: 9514 entries, 0 to 9513\n",
      "Data columns (total 21 columns):\n",
      " #   Column       Non-Null Count  Dtype  \n",
      "---  ------       --------------  -----  \n",
      " 0   age          9514 non-null   float64\n",
      " 1   body_type    8666 non-null   object \n",
      " 2   diet         5761 non-null   object \n",
      " 3   drinks       9012 non-null   object \n",
      " 4   drugs        7215 non-null   object \n",
      " 5   education    8459 non-null   object \n",
      " 6   ethnicity    8565 non-null   object \n",
      " 7   height       9514 non-null   float64\n",
      " 8   income       9514 non-null   float64\n",
      " 9   job          8183 non-null   object \n",
      " 10  last_online  9514 non-null   object \n",
      " 11  location     9514 non-null   object \n",
      " 12  offspring    3886 non-null   object \n",
      " 13  orientation  9514 non-null   object \n",
      " 14  pets         6352 non-null   object \n",
      " 15  religion     6261 non-null   object \n",
      " 16  sex          9514 non-null   object \n",
      " 17  sign         7776 non-null   object \n",
      " 18  smokes       8596 non-null   object \n",
      " 19  speaks       9508 non-null   object \n",
      " 20  status       9514 non-null   object \n",
      "dtypes: float64(3), object(18)\n",
      "memory usage: 1.6+ MB\n"
     ]
    }
   ],
   "source": [
    "df.info()"
   ]
  },
  {
   "cell_type": "raw",
   "id": "ccb18b60",
   "metadata": {},
   "source": [
    "Edited data in columns"
   ]
  },
  {
   "cell_type": "raw",
   "id": "cc0cb3c3",
   "metadata": {},
   "source": [
    "Data in columns are mapped"
   ]
  },
  {
   "cell_type": "code",
   "execution_count": 136,
   "id": "e5459406",
   "metadata": {},
   "outputs": [],
   "source": [
    "df[\"drinks\"] = df[\"drinks\"].map({\"not at all\":0, \"rarely\":1, \"socially\":2, \"often\":3, \"very often\":4, \"desperately\":5})\n",
    "df[\"drugs\"] = df[\"drugs\"].map({\"never\":0, \"sometimes\":1, \"often\":2})\n",
    "df[\"smokes\"] = df[\"smokes\"].map({\"no\":0, \"trying to quit\":1, \"sometimes\":2, \"when drinking\":3, \"yes\":4})"
   ]
  },
  {
   "cell_type": "code",
   "execution_count": 137,
   "id": "3974aa82",
   "metadata": {},
   "outputs": [
    {
     "data": {
      "text/plain": [
       "array(['a little extra', 'average', 'thin', 'athletic', 'fit', nan,\n",
       "       'skinny', 'curvy', 'full figured', 'jacked', 'rather not say',\n",
       "       'used up', 'overweight'], dtype=object)"
      ]
     },
     "execution_count": 137,
     "metadata": {},
     "output_type": "execute_result"
    }
   ],
   "source": [
    "df.body_type.unique()"
   ]
  },
  {
   "cell_type": "code",
   "execution_count": 138,
   "id": "9ee747e0",
   "metadata": {},
   "outputs": [],
   "source": [
    "df['body_type']=df['body_type'].map({'fit':'sporty',\n",
    "                                     'athletic':'sporty',\n",
    "                                     'thin':'sporty',\n",
    "                                     'skinny':'sporty',\n",
    "                                    'average':'average',\n",
    "                                    'curvy':'curvy', \n",
    "                                     'a little extra':'curvy',\n",
    "                                     'full figured':'curvy',\n",
    "                                    'overweight':'bad',\n",
    "                                     'jacked':'bad',\n",
    "                                     'used up':'bad',\n",
    "                                     'rather not say':'bad'})"
   ]
  },
  {
   "cell_type": "code",
   "execution_count": 139,
   "id": "59f11481",
   "metadata": {},
   "outputs": [
    {
     "data": {
      "text/plain": [
       "array(['curvy', 'average', 'sporty', nan, 'bad'], dtype=object)"
      ]
     },
     "execution_count": 139,
     "metadata": {},
     "output_type": "execute_result"
    }
   ],
   "source": [
    "df['body_type'].unique()"
   ]
  },
  {
   "cell_type": "code",
   "execution_count": 140,
   "id": "d5ad30c0",
   "metadata": {},
   "outputs": [
    {
     "data": {
      "text/plain": [
       "<AxesSubplot:>"
      ]
     },
     "execution_count": 140,
     "metadata": {},
     "output_type": "execute_result"
    },
    {
     "data": {
      "image/png": "[encoded data removed]",
      "text/plain": [
       "<Figure size 432x288 with 1 Axes>"
      ]
     },
     "metadata": {
      "needs_background": "light"
     },
     "output_type": "display_data"
    }
   ],
   "source": [
    "df.body_type.value_counts().plot.bar()"
   ]
  },
  {
   "cell_type": "code",
   "execution_count": 141,
   "id": "56c77129",
   "metadata": {},
   "outputs": [
    {
     "data": {
      "text/plain": [
       "array(['strictly anything', 'mostly other', 'anything', 'vegetarian', nan,\n",
       "       'mostly anything', 'mostly vegetarian', 'strictly vegan',\n",
       "       'strictly vegetarian', 'mostly vegan', 'strictly other',\n",
       "       'mostly halal', 'other', 'vegan', 'mostly kosher',\n",
       "       'strictly halal', 'halal', 'strictly kosher', 'kosher'],\n",
       "      dtype=object)"
      ]
     },
     "execution_count": 141,
     "metadata": {},
     "output_type": "execute_result"
    }
   ],
   "source": [
    "df.diet.unique()"
   ]
  },
  {
   "cell_type": "raw",
   "id": "75c9b743",
   "metadata": {},
   "source": [
    "Data in columns are grouped "
   ]
  },
  {
   "cell_type": "code",
   "execution_count": 142,
   "id": "e410e39e",
   "metadata": {},
   "outputs": [
    {
     "data": {
      "text/plain": [
       "<AxesSubplot:>"
      ]
     },
     "execution_count": 142,
     "metadata": {},
     "output_type": "execute_result"
    },
    {
     "data": {
      "image/png": "[encoded data removed]",
      "text/plain": [
       "<Figure size 432x288 with 1 Axes>"
      ]
     },
     "metadata": {
      "needs_background": "light"
     },
     "output_type": "display_data"
    }
   ],
   "source": [
    "#modtsly strictly ifadelerini kaldirdik\n",
    "status={\"mostly\":\"\",\"strictly\":\"\"}\n",
    "df[\"diet\"].replace(status,regex=True,inplace=True)\n",
    "df[\"diet\"]=df[\"diet\"].str.strip()\n",
    "df[\"diet\"].value_counts().plot.bar()"
   ]
  },
  {
   "cell_type": "code",
   "execution_count": 143,
   "id": "7cf14002",
   "metadata": {},
   "outputs": [
    {
     "data": {
      "text/plain": [
       "array(['anything', 'other', 'vegetarian', nan, 'vegan', 'halal', 'kosher'],\n",
       "      dtype=object)"
      ]
     },
     "execution_count": 143,
     "metadata": {},
     "output_type": "execute_result"
    }
   ],
   "source": [
    "df.diet.unique()"
   ]
  },
  {
   "cell_type": "code",
   "execution_count": 144,
   "id": "40a4e41d",
   "metadata": {},
   "outputs": [],
   "source": [
    "df[\"number_of_fluent_languages\"]=df.speaks.str.count(\"fluently\")\n",
    "df[\"number_of_fluent_languages\"].replace(0,1,regex=True,inplace=True)\n",
    "df[\"number_of_poorly_languages\"]=df.speaks.str.count(\"poorly\")\n",
    "df.drop(\"speaks\",axis=1,inplace=True)"
   ]
  },
  {
   "cell_type": "code",
   "execution_count": 145,
   "id": "823eb862",
   "metadata": {},
   "outputs": [
    {
     "data": {
      "text/plain": [
       "array(['working on college/university', 'working on space camp',\n",
       "       'graduated from masters program',\n",
       "       'graduated from college/university', 'working on two-year college',\n",
       "       nan, 'graduated from high school', 'working on masters program',\n",
       "       'graduated from space camp', 'college/university',\n",
       "       'dropped out of space camp', 'graduated from ph.d program',\n",
       "       'graduated from law school', 'working on ph.d program',\n",
       "       'two-year college', 'graduated from two-year college',\n",
       "       'working on med school', 'dropped out of college/university',\n",
       "       'space camp', 'graduated from med school',\n",
       "       'dropped out of high school', 'working on high school',\n",
       "       'masters program', 'dropped out of ph.d program',\n",
       "       'dropped out of two-year college', 'dropped out of med school',\n",
       "       'high school', 'working on law school', 'law school',\n",
       "       'dropped out of masters program', 'ph.d program',\n",
       "       'dropped out of law school'], dtype=object)"
      ]
     },
     "execution_count": 145,
     "metadata": {},
     "output_type": "execute_result"
    }
   ],
   "source": [
    "df.education.unique()"
   ]
  },
  {
   "cell_type": "code",
   "execution_count": 146,
   "id": "c9e84412",
   "metadata": {},
   "outputs": [
    {
     "data": {
      "text/plain": [
       "<AxesSubplot:>"
      ]
     },
     "execution_count": 146,
     "metadata": {},
     "output_type": "execute_result"
    },
    {
     "data": {
      "image/png": "[encoded data removed]",
      "text/plain": [
       "<Figure size 432x288 with 1 Axes>"
      ]
     },
     "metadata": {
      "needs_background": "light"
     },
     "output_type": "display_data"
    }
   ],
   "source": [
    "edu = {'working':'student','graduated from':'graduated','dropped out':'dropped'}\n",
    "edu2 = {'college/university':'graduated','two-year':'graduated','space':'graduated','masters':'graduated','high':'graduated','ph.d':'graduated','law':'graduated'}\n",
    "df[\"education\"].replace(edu,inplace=True)\n",
    "df[\"education\"]=df[\"education\"].str.split().str[0]\n",
    "df['education'].replace(edu2,inplace=True)\n",
    "df[\"education\"].value_counts().plot.bar()"
   ]
  },
  {
   "cell_type": "code",
   "execution_count": 147,
   "id": "1e836402",
   "metadata": {},
   "outputs": [
    {
     "data": {
      "text/plain": [
       "array(['working', 'graduated', nan, 'dropped'], dtype=object)"
      ]
     },
     "execution_count": 147,
     "metadata": {},
     "output_type": "execute_result"
    }
   ],
   "source": [
    "df.education.unique()"
   ]
  },
  {
   "cell_type": "code",
   "execution_count": 148,
   "id": "d0f79a31",
   "metadata": {},
   "outputs": [
    {
     "data": {
      "image/png": "[encoded data removed]",
      "text/plain": [
       "<Figure size 432x288 with 1 Axes>"
      ]
     },
     "metadata": {
      "needs_background": "light"
     },
     "output_type": "display_data"
    }
   ],
   "source": [
    "df.education.value_counts().plot.bar(color='purple');"
   ]
  },
  {
   "cell_type": "code",
   "execution_count": 149,
   "id": "754e3a36",
   "metadata": {},
   "outputs": [
    {
     "data": {
      "text/plain": [
       "0       2012-06-28-20-30\n",
       "1       2012-06-29-21-41\n",
       "2       2012-06-27-09-10\n",
       "3       2012-06-28-14-22\n",
       "4       2012-06-27-21-26\n",
       "              ...       \n",
       "9509    2012-06-30-02-49\n",
       "9510    2012-04-05-21-46\n",
       "9511    2012-04-28-12-42\n",
       "9512    2012-03-01-15-17\n",
       "9513    2012-06-14-15-14\n",
       "Name: last_online, Length: 9514, dtype: object"
      ]
     },
     "execution_count": 149,
     "metadata": {},
     "output_type": "execute_result"
    }
   ],
   "source": [
    "df.last_online"
   ]
  },
  {
   "cell_type": "code",
   "execution_count": 150,
   "id": "bbe1f677",
   "metadata": {},
   "outputs": [
    {
     "data": {
      "text/plain": [
       "<AxesSubplot:xlabel='last_online_year', ylabel='count'>"
      ]
     },
     "execution_count": 150,
     "metadata": {},
     "output_type": "execute_result"
    },
    {
     "data": {
      "image/png": "[encoded data removed]",
      "text/plain": [
       "<Figure size 432x288 with 1 Axes>"
      ]
     },
     "metadata": {
      "needs_background": "light"
     },
     "output_type": "display_data"
    }
   ],
   "source": [
    "df[\"last_online_year\"]=2021-(df['last_online'].str[:4]).astype(int)\n",
    "df[\"last_online_month\"]=(df['last_online'].str[5:7]).astype(int)\n",
    "df.drop('last_online',axis=1)\n",
    "sns.countplot(\"last_online_year\",hue=\"last_online_month\",data=df)"
   ]
  },
  {
   "cell_type": "code",
   "execution_count": 151,
   "id": "0b7babcc",
   "metadata": {},
   "outputs": [
    {
     "data": {
      "text/plain": [
       "<AxesSubplot:>"
      ]
     },
     "execution_count": 151,
     "metadata": {},
     "output_type": "execute_result"
    },
    {
     "data": {
      "image/png": "[encoded data removed]",
      "text/plain": [
       "<Figure size 1080x360 with 1 Axes>"
      ]
     },
     "metadata": {
      "needs_background": "light"
     },
     "output_type": "display_data"
    }
   ],
   "source": [
    "df.location=df.location.str.split(\",\").str[0]\n",
    "plt.figure(figsize=(15,5))\n",
    "df.location.value_counts().plot.bar()"
   ]
  },
  {
   "cell_type": "code",
   "execution_count": 152,
   "id": "520cc076",
   "metadata": {},
   "outputs": [
    {
     "data": {
      "text/plain": [
       "<AxesSubplot:>"
      ]
     },
     "execution_count": 152,
     "metadata": {},
     "output_type": "execute_result"
    },
    {
     "data": {
      "image/png": "[encoded data removed]",
      "text/plain": [
       "<Figure size 432x288 with 1 Axes>"
      ]
     },
     "metadata": {
      "needs_background": "light"
     },
     "output_type": "display_data"
    }
   ],
   "source": [
    "offsprings=[]\n",
    "for i in df.offspring.fillna(\"unknown\").str.replace(\"[^\\w\\s]\",\"\"):\n",
    "    if \"doesnrsquot\" in i:\n",
    "        offsprings.append(\"0\")\n",
    "    elif \"unknown\" in i:\n",
    "        offsprings.append(\"0\")\n",
    "    else:\n",
    "        offsprings.append(\"1\")\n",
    "        \n",
    "df[\"offspring\"]=offsprings\n",
    "df[\"offspring\"]=df[\"offspring\"].astype(int)\n",
    "df[\"offspring\"].value_counts().plot.bar()"
   ]
  },
  {
   "cell_type": "code",
   "execution_count": 153,
   "id": "4f75d401",
   "metadata": {},
   "outputs": [
    {
     "data": {
      "text/plain": [
       "<AxesSubplot:>"
      ]
     },
     "execution_count": 153,
     "metadata": {},
     "output_type": "execute_result"
    },
    {
     "data": {
      "image/png": "[encoded data removed]",
      "text/plain": [
       "<Figure size 432x288 with 1 Axes>"
      ]
     },
     "metadata": {
      "needs_background": "light"
     },
     "output_type": "display_data"
    }
   ],
   "source": [
    "df.orientation.value_counts().plot.bar()"
   ]
  },
  {
   "cell_type": "code",
   "execution_count": 154,
   "id": "89fffd4a",
   "metadata": {},
   "outputs": [
    {
     "data": {
      "text/plain": [
       "0          agnosticism and very serious about it\n",
       "1       agnosticism but not too serious about it\n",
       "2                                            NaN\n",
       "3                                            NaN\n",
       "4                                            NaN\n",
       "                          ...                   \n",
       "9509                                christianity\n",
       "9510                                     atheism\n",
       "9511               atheism and laughing about it\n",
       "9512                                         NaN\n",
       "9513                                         NaN\n",
       "Name: religion, Length: 9514, dtype: object"
      ]
     },
     "execution_count": 154,
     "metadata": {},
     "output_type": "execute_result"
    }
   ],
   "source": [
    "df.religion"
   ]
  },
  {
   "cell_type": "code",
   "execution_count": 155,
   "id": "6243b6c4",
   "metadata": {},
   "outputs": [
    {
     "data": {
      "text/plain": [
       "<AxesSubplot:>"
      ]
     },
     "execution_count": 155,
     "metadata": {},
     "output_type": "execute_result"
    },
    {
     "data": {
      "image/png": "[encoded data removed]",
      "text/plain": [
       "<Figure size 432x288 with 1 Axes>"
      ]
     },
     "metadata": {
      "needs_background": "light"
     },
     "output_type": "display_data"
    }
   ],
   "source": [
    "df[\"religion\"]=df[\"religion\"].str.split().str[0]\n",
    "df[\"religion\"].value_counts().plot.bar()"
   ]
  },
  {
   "cell_type": "code",
   "execution_count": 156,
   "id": "77400109",
   "metadata": {},
   "outputs": [
    {
     "data": {
      "text/plain": [
       "0                                         gemini\n",
       "1                                         cancer\n",
       "2             pisces but it doesn&rsquo;t matter\n",
       "3                                         pisces\n",
       "4                                       aquarius\n",
       "                          ...                   \n",
       "9509     aries and it&rsquo;s fun to think about\n",
       "9510         scorpio but it doesn&rsquo;t matter\n",
       "9511       leo and it&rsquo;s fun to think about\n",
       "9512                                       aries\n",
       "9513    pisces and it&rsquo;s fun to think about\n",
       "Name: sign, Length: 9514, dtype: object"
      ]
     },
     "execution_count": 156,
     "metadata": {},
     "output_type": "execute_result"
    }
   ],
   "source": [
    "df.sign"
   ]
  },
  {
   "cell_type": "code",
   "execution_count": 157,
   "id": "5648271b",
   "metadata": {},
   "outputs": [
    {
     "data": {
      "text/plain": [
       "<AxesSubplot:>"
      ]
     },
     "execution_count": 157,
     "metadata": {},
     "output_type": "execute_result"
    },
    {
     "data": {
      "image/png": "[encoded data removed]",
      "text/plain": [
       "<Figure size 432x288 with 1 Axes>"
      ]
     },
     "metadata": {
      "needs_background": "light"
     },
     "output_type": "display_data"
    }
   ],
   "source": [
    "df[\"sign\"]=df[\"sign\"].str.split().str[0]\n",
    "df[\"sign\"].value_counts().plot.bar()"
   ]
  },
  {
   "cell_type": "code",
   "execution_count": 158,
   "id": "0725c36a",
   "metadata": {},
   "outputs": [],
   "source": [
    "for column in df.select_dtypes(include=np.number):\n",
    "    df[column].fillna(df[column].median(),inplace=True) #number tipinde olan sutunlari ortalama deger ile dolduruyoruz"
   ]
  },
  {
   "cell_type": "code",
   "execution_count": 159,
   "id": "ae8e9a7b",
   "metadata": {},
   "outputs": [],
   "source": [
    "for column in df.select_dtypes(include=np.object):\n",
    "    df[column].fillna(df[column].mode()[0],inplace=True) #object türünden olan ifadeler en çok tekrar eden ile dolduruypruz"
   ]
  },
  {
   "cell_type": "code",
   "execution_count": 160,
   "id": "94429dac",
   "metadata": {},
   "outputs": [
    {
     "data": {
      "text/plain": [
       "0       22.0\n",
       "1       35.0\n",
       "2       38.0\n",
       "3       23.0\n",
       "4       29.0\n",
       "        ... \n",
       "9509    28.0\n",
       "9510    31.0\n",
       "9511    34.0\n",
       "9512    29.0\n",
       "9513    49.0\n",
       "Name: age, Length: 9514, dtype: float64"
      ]
     },
     "execution_count": 160,
     "metadata": {},
     "output_type": "execute_result"
    }
   ],
   "source": [
    "df.age"
   ]
  },
  {
   "cell_type": "code",
   "execution_count": 161,
   "id": "cb0fdb78",
   "metadata": {},
   "outputs": [],
   "source": [
    "epoch=[]\n",
    "for i in df[\"age\"].values:\n",
    "    if (i>=18) and (i<=32):\n",
    "        epoch.append(\"Millennial\")\n",
    "    elif (i>=33) and (i<=47):\n",
    "        epoch.append(\"Gen X-er\")\n",
    "    elif (48>=33) and (i<=70):\n",
    "        epoch.append(\"Boomers\")\n",
    "    else:\n",
    "        epoch.append(\"Unkown\")\n",
    "\n",
    "df[\"epoch\"]=epoch"
   ]
  },
  {
   "cell_type": "code",
   "execution_count": 162,
   "id": "1578d1e7",
   "metadata": {},
   "outputs": [
    {
     "data": {
      "text/plain": [
       "<AxesSubplot:>"
      ]
     },
     "execution_count": 162,
     "metadata": {},
     "output_type": "execute_result"
    },
    {
     "data": {
      "image/png": "[encoded data removed]",
      "text/plain": [
       "<Figure size 432x288 with 1 Axes>"
      ]
     },
     "metadata": {
      "needs_background": "light"
     },
     "output_type": "display_data"
    }
   ],
   "source": [
    "df[\"epoch\"].replace(\"Unkown\",\"Boomers\",regex=True,inplace=True)\n",
    "df[\"epoch\"].value_counts().plot.bar()"
   ]
  },
  {
   "cell_type": "code",
   "execution_count": 163,
   "id": "16d7e021",
   "metadata": {},
   "outputs": [],
   "source": [
    "df[\"epoch\"]= df[\"epoch\"].map({\"Millennial\":0,\"Gen X-er\":1,\"Boomers\":2})"
   ]
  },
  {
   "cell_type": "code",
   "execution_count": 164,
   "id": "d573c110",
   "metadata": {},
   "outputs": [],
   "source": [
    "df['age']=df['age'].astype(int)"
   ]
  },
  {
   "cell_type": "code",
   "execution_count": 165,
   "id": "02f3c852",
   "metadata": {},
   "outputs": [],
   "source": [
    "for col in ('body_type','diet','sex','status','orientation','education'):\n",
    "    df[col] = df[col].astype('category')"
   ]
  },
  {
   "cell_type": "code",
   "execution_count": 166,
   "id": "0fa5e1e5",
   "metadata": {},
   "outputs": [
    {
     "data": {
      "text/plain": [
       "<bound method DataFrame.corr of       age body_type        diet  drinks  drugs  education  \\\n",
       "0      22     curvy    anything     2.0    0.0    working   \n",
       "1      35   average       other     3.0    1.0    working   \n",
       "2      38    sporty    anything     2.0    0.0  graduated   \n",
       "3      23    sporty  vegetarian     2.0    0.0    working   \n",
       "4      29    sporty    anything     2.0    0.0  graduated   \n",
       "...   ...       ...         ...     ...    ...        ...   \n",
       "9509   28    sporty    anything     2.0    0.0    working   \n",
       "9510   31    sporty    anything     2.0    1.0  graduated   \n",
       "9511   34   average    anything     2.0    0.0    dropped   \n",
       "9512   29    sporty    anything     1.0    0.0  graduated   \n",
       "9513   49       bad    anything     1.0    0.0  graduated   \n",
       "\n",
       "                ethnicity  height   income                          job  \\\n",
       "0            asian, white    75.0     -1.0               transportation   \n",
       "1                   white    70.0  80000.0         hospitality / travel   \n",
       "2                   white    68.0     -1.0                        other   \n",
       "3                   white    71.0  20000.0                      student   \n",
       "4     asian, black, other    66.0     -1.0  artistic / musical / writer   \n",
       "...                   ...     ...      ...                          ...   \n",
       "9509                white    73.0  60000.0            medicine / health   \n",
       "9510                white    72.0     -1.0         hospitality / travel   \n",
       "9511                white    71.0     -1.0         hospitality / travel   \n",
       "9512                white    70.0     -1.0                        other   \n",
       "9513                white    64.0     -1.0               rather not say   \n",
       "\n",
       "           last_online             location  offspring orientation  \\\n",
       "0     2012-06-28-20-30  south san francisco          0    straight   \n",
       "1     2012-06-29-21-41              oakland          0    straight   \n",
       "2     2012-06-27-09-10        san francisco          0    straight   \n",
       "3     2012-06-28-14-22             berkeley          0    straight   \n",
       "4     2012-06-27-21-26        san francisco          0    straight   \n",
       "...                ...                  ...        ...         ...   \n",
       "9509  2012-06-30-02-49        san francisco          0    straight   \n",
       "9510  2012-04-05-21-46        san francisco          0         gay   \n",
       "9511  2012-04-28-12-42        san francisco          0         gay   \n",
       "9512  2012-03-01-15-17        san francisco          0         gay   \n",
       "9513  2012-06-14-15-14        castro valley          0    straight   \n",
       "\n",
       "                           pets      religion sex      sign  smokes  \\\n",
       "0     likes dogs and likes cats   agnosticism   m    gemini     2.0   \n",
       "1     likes dogs and likes cats   agnosticism   m    cancer     0.0   \n",
       "2                      has cats   agnosticism   m    pisces     0.0   \n",
       "3                    likes cats   agnosticism   m    pisces     0.0   \n",
       "4     likes dogs and likes cats   agnosticism   m  aquarius     0.0   \n",
       "...                         ...           ...  ..       ...     ...   \n",
       "9509  likes dogs and likes cats  christianity   m     aries     0.0   \n",
       "9510  likes dogs and likes cats       atheism   m   scorpio     2.0   \n",
       "9511    likes dogs and has cats       atheism   m       leo     3.0   \n",
       "9512    likes dogs and has cats   agnosticism   m     aries     0.0   \n",
       "9513  likes dogs and likes cats   agnosticism   f    pisces     0.0   \n",
       "\n",
       "         status  number_of_fluent_languages  number_of_poorly_languages  \\\n",
       "0        single                         1.0                         0.0   \n",
       "1        single                         1.0                         2.0   \n",
       "2     available                         1.0                         0.0   \n",
       "3        single                         1.0                         1.0   \n",
       "4        single                         1.0                         0.0   \n",
       "...         ...                         ...                         ...   \n",
       "9509     single                         1.0                         0.0   \n",
       "9510     single                         1.0                         0.0   \n",
       "9511     single                         1.0                         0.0   \n",
       "9512     single                         1.0                         1.0   \n",
       "9513     single                         1.0                         0.0   \n",
       "\n",
       "      last_online_year  last_online_month  epoch  \n",
       "0                    9                  6      0  \n",
       "1                    9                  6      1  \n",
       "2                    9                  6      1  \n",
       "3                    9                  6      0  \n",
       "4                    9                  6      0  \n",
       "...                ...                ...    ...  \n",
       "9509                 9                  6      0  \n",
       "9510                 9                  4      0  \n",
       "9511                 9                  4      1  \n",
       "9512                 9                  3      0  \n",
       "9513                 9                  6      2  \n",
       "\n",
       "[9514 rows x 25 columns]>"
      ]
     },
     "execution_count": 166,
     "metadata": {},
     "output_type": "execute_result"
    }
   ],
   "source": [
    "df.corr"
   ]
  },
  {
   "cell_type": "code",
   "execution_count": 167,
   "id": "94c750ab",
   "metadata": {},
   "outputs": [
    {
     "data": {
      "text/plain": [
       "<AxesSubplot:>"
      ]
     },
     "execution_count": 167,
     "metadata": {},
     "output_type": "execute_result"
    },
    {
     "data": {
      "image/png": "[encoded data removed]",
      "text/plain": [
       "<Figure size 432x288 with 2 Axes>"
      ]
     },
     "metadata": {
      "needs_background": "light"
     },
     "output_type": "display_data"
    }
   ],
   "source": [
    "sns.heatmap(df.corr(),annot=True)"
   ]
  },
  {
   "cell_type": "code",
   "execution_count": 168,
   "id": "b39b9429",
   "metadata": {},
   "outputs": [
    {
     "data": {
      "text/plain": [
       "age                           0\n",
       "body_type                     0\n",
       "diet                          0\n",
       "drinks                        0\n",
       "drugs                         0\n",
       "education                     0\n",
       "ethnicity                     0\n",
       "height                        0\n",
       "income                        0\n",
       "job                           0\n",
       "last_online                   0\n",
       "location                      0\n",
       "offspring                     0\n",
       "orientation                   0\n",
       "pets                          0\n",
       "religion                      0\n",
       "sex                           0\n",
       "sign                          0\n",
       "smokes                        0\n",
       "status                        0\n",
       "number_of_fluent_languages    0\n",
       "number_of_poorly_languages    0\n",
       "last_online_year              0\n",
       "last_online_month             0\n",
       "epoch                         0\n",
       "dtype: int64"
      ]
     },
     "execution_count": 168,
     "metadata": {},
     "output_type": "execute_result"
    }
   ],
   "source": [
    "df.isnull().sum()"
   ]
  },
  {
   "cell_type": "markdown",
   "id": "001c406a",
   "metadata": {},
   "source": [
    "## Can your date guess your age?"
   ]
  },
  {
   "cell_type": "code",
   "execution_count": 169,
   "id": "24770a28",
   "metadata": {},
   "outputs": [],
   "source": [
    "df2=pd.get_dummies(df,drop_first=True)"
   ]
  },
  {
   "cell_type": "code",
   "execution_count": 170,
   "id": "3d1037c0",
   "metadata": {},
   "outputs": [
    {
     "data": {
      "text/plain": [
       "(9514, 7042)"
      ]
     },
     "execution_count": 170,
     "metadata": {},
     "output_type": "execute_result"
    }
   ],
   "source": [
    "df2.shape"
   ]
  },
  {
   "cell_type": "code",
   "execution_count": 171,
   "id": "0af55c37",
   "metadata": {},
   "outputs": [],
   "source": [
    "x,y=df2.drop(\"age\",axis=1),df2[[\"age\"]]"
   ]
  },
  {
   "cell_type": "raw",
   "id": "d3e98da4",
   "metadata": {},
   "source": [
    "Regression Function"
   ]
  },
  {
   "cell_type": "code",
   "execution_count": 172,
   "id": "8be54e6b",
   "metadata": {},
   "outputs": [],
   "source": [
    "def regression_funct(x,y):\n",
    "    from sklearn.linear_model import LinearRegression\n",
    "    from sklearn.linear_model import Ridge,Lasso\n",
    "    from sklearn.linear_model import ElasticNet\n",
    "    from sklearn.tree import ExtraTreeRegressor\n",
    "    from sklearn.ensemble import GradientBoostingRegressor\n",
    "    from sklearn.neighbors import KNeighborsRegressor\n",
    "    \n",
    "    from sklearn.model_selection import train_test_split\n",
    "\n",
    "    from sklearn.metrics import mean_squared_error,r2_score,mean_absolute_error\n",
    "    \n",
    "    \n",
    "    x_train,x_test,y_train,y_test=train_test_split(x,y,test_size=0.2,random_state=42)\n",
    "\n",
    "    L=LinearRegression()\n",
    "    R=Ridge()\n",
    "    Lass=Lasso()\n",
    "    E=ElasticNet()\n",
    "    ExTree=ExtraTreeRegressor()\n",
    "    GBR=GradientBoostingRegressor()\n",
    "    KN=KNeighborsRegressor()\n",
    "    \n",
    "    algos=[L,R,Lass,E,ExTree,GBR,KN]\n",
    "    algo_names=['LinearRegression','Ridge','Lasso','ElasticNet','ExtraTreeRegressor','GradientBoostingRegressor','KNeighborsRegressor']\n",
    "    r_squared=[]\n",
    "    rmse=[]\n",
    "    mae=[]\n",
    "    \n",
    "    result=pd.DataFrame(columns=['R_Squared','RMSE','MAE'],index=algo_names)\n",
    "    \n",
    "    for item in algos:\n",
    "        item.fit(x_train,y_train)\n",
    "        item.predict(x_test)\n",
    "        r_squared.append(r2_score(y_test,item.predict(x_test)))\n",
    "        rmse.append((mean_squared_error(y_test,item.predict(x_test)))**.5)\n",
    "        mae.append(mean_absolute_error(y_test,item.predict(x_test)))\n",
    "        \n",
    "    result.R_Squared=r_squared\n",
    "    result.RMSE=rmse\n",
    "    result.MAE=mae\n",
    "        \n",
    "    return result.sort_values('R_Squared',ascending=False)"
   ]
  },
  {
   "cell_type": "code",
   "execution_count": 173,
   "id": "ec00ec74",
   "metadata": {},
   "outputs": [
    {
     "data": {
      "text/html": [
       "<div>\n",
       "<style scoped>\n",
       "    .dataframe tbody tr th:only-of-type {\n",
       "        vertical-align: middle;\n",
       "    }\n",
       "\n",
       "    .dataframe tbody tr th {\n",
       "        vertical-align: top;\n",
       "    }\n",
       "\n",
       "    .dataframe thead th {\n",
       "        text-align: right;\n",
       "    }\n",
       "</style>\n",
       "<table border=\"1\" class=\"dataframe\">\n",
       "  <thead>\n",
       "    <tr style=\"text-align: right;\">\n",
       "      <th></th>\n",
       "      <th>R_Squared</th>\n",
       "      <th>RMSE</th>\n",
       "      <th>MAE</th>\n",
       "    </tr>\n",
       "  </thead>\n",
       "  <tbody>\n",
       "    <tr>\n",
       "      <th>GradientBoostingRegressor</th>\n",
       "      <td>8.584366e-01</td>\n",
       "      <td>3.586918e+00</td>\n",
       "      <td>2.919634</td>\n",
       "    </tr>\n",
       "    <tr>\n",
       "      <th>Ridge</th>\n",
       "      <td>8.262137e-01</td>\n",
       "      <td>3.974237e+00</td>\n",
       "      <td>3.149011</td>\n",
       "    </tr>\n",
       "    <tr>\n",
       "      <th>Lasso</th>\n",
       "      <td>7.919368e-01</td>\n",
       "      <td>4.348542e+00</td>\n",
       "      <td>3.330000</td>\n",
       "    </tr>\n",
       "    <tr>\n",
       "      <th>ExtraTreeRegressor</th>\n",
       "      <td>7.509281e-01</td>\n",
       "      <td>4.757824e+00</td>\n",
       "      <td>3.717288</td>\n",
       "    </tr>\n",
       "    <tr>\n",
       "      <th>KNeighborsRegressor</th>\n",
       "      <td>5.668742e-01</td>\n",
       "      <td>6.274123e+00</td>\n",
       "      <td>4.528429</td>\n",
       "    </tr>\n",
       "    <tr>\n",
       "      <th>ElasticNet</th>\n",
       "      <td>5.354550e-01</td>\n",
       "      <td>6.497704e+00</td>\n",
       "      <td>4.665899</td>\n",
       "    </tr>\n",
       "    <tr>\n",
       "      <th>LinearRegression</th>\n",
       "      <td>-1.924773e+10</td>\n",
       "      <td>1.322622e+06</td>\n",
       "      <td>762042.319160</td>\n",
       "    </tr>\n",
       "  </tbody>\n",
       "</table>\n",
       "</div>"
      ],
      "text/plain": [
       "                              R_Squared          RMSE            MAE\n",
       "GradientBoostingRegressor  8.584366e-01  3.586918e+00       2.919634\n",
       "Ridge                      8.262137e-01  3.974237e+00       3.149011\n",
       "Lasso                      7.919368e-01  4.348542e+00       3.330000\n",
       "ExtraTreeRegressor         7.509281e-01  4.757824e+00       3.717288\n",
       "KNeighborsRegressor        5.668742e-01  6.274123e+00       4.528429\n",
       "ElasticNet                 5.354550e-01  6.497704e+00       4.665899\n",
       "LinearRegression          -1.924773e+10  1.322622e+06  762042.319160"
      ]
     },
     "execution_count": 173,
     "metadata": {},
     "output_type": "execute_result"
    }
   ],
   "source": [
    "regression_funct(x,y)"
   ]
  },
  {
   "cell_type": "raw",
   "id": "40fc7156",
   "metadata": {},
   "source": [
    "Classification Function"
   ]
  },
  {
   "cell_type": "code",
   "execution_count": 174,
   "id": "15ef159a",
   "metadata": {},
   "outputs": [],
   "source": [
    "def classification_funct(x,y):\n",
    "    from sklearn.naive_bayes import GaussianNB\n",
    "    from sklearn.naive_bayes import BernoulliNB\n",
    "    from sklearn.svm import SVC\n",
    "    from sklearn.neighbors import KNeighborsClassifier\n",
    "    from sklearn.tree import DecisionTreeClassifier\n",
    "    from sklearn.ensemble import RandomForestClassifier\n",
    "    from sklearn.linear_model import LogisticRegression\n",
    "    from xgboost import XGBClassifier #yüklemek için !pip install xgboost kullandım\n",
    "    \n",
    "    from sklearn.metrics import accuracy_score,precision_score,recall_score,f1_score\n",
    "    from sklearn.metrics import confusion_matrix,classification_report\n",
    "       \n",
    "    x_train,x_test,y_train,y_test=train_test_split(x,y,test_size=0.2,random_state=42)\n",
    "\n",
    "    g=GaussianNB()\n",
    "    b=BernoulliNB()\n",
    "    KN=KNeighborsClassifier()\n",
    "    SVC=SVC() \n",
    "    D=DecisionTreeClassifier()\n",
    "    R=RandomForestClassifier()\n",
    "    Log=LogisticRegression()\n",
    "    XGB=XGBClassifier()\n",
    "    \n",
    "    algos=[g,b,KN,SVC,D,R,Log,XGB]\n",
    "    algo_names=['GaussianNB','BernoulliNB','KNeighborsClassifier','SVC','DecisionTreeClassifier','RandomForestClassifier','LogisticRegression','XGBClassifier']\n",
    "   \n",
    "    accuracy_scored=[]\n",
    "\n",
    "    \n",
    "    for item in algos:\n",
    "        item.fit(x_train,y_train)\n",
    "        item.predict(x_test)\n",
    "        \n",
    "        accuracy_scored.append(accuracy_score(y_test,item.predict(x_test)))\n",
    "       \n",
    "    result=pd.DataFrame(columns=['accuracy_score'],index=algo_names)\n",
    "    result['accuracy_score']=accuracy_scored\n",
    "    return result.sort_values('accuracy_score',ascending=False)"
   ]
  },
  {
   "cell_type": "code",
   "execution_count": 175,
   "id": "f5a52662",
   "metadata": {},
   "outputs": [],
   "source": [
    "y=df[[\"epoch\"]]"
   ]
  },
  {
   "cell_type": "code",
   "execution_count": 176,
   "id": "3be4eaf1",
   "metadata": {},
   "outputs": [],
   "source": [
    "df_class=df.drop(\"epoch\",axis=1)\n",
    "x=pd.get_dummies(df_class,drop_first=True)"
   ]
  },
  {
   "cell_type": "code",
   "execution_count": 177,
   "id": "20281984",
   "metadata": {},
   "outputs": [
    {
     "data": {
      "text/html": [
       "<div>\n",
       "<style scoped>\n",
       "    .dataframe tbody tr th:only-of-type {\n",
       "        vertical-align: middle;\n",
       "    }\n",
       "\n",
       "    .dataframe tbody tr th {\n",
       "        vertical-align: top;\n",
       "    }\n",
       "\n",
       "    .dataframe thead th {\n",
       "        text-align: right;\n",
       "    }\n",
       "</style>\n",
       "<table border=\"1\" class=\"dataframe\">\n",
       "  <thead>\n",
       "    <tr style=\"text-align: right;\">\n",
       "      <th></th>\n",
       "      <th>accuracy_score</th>\n",
       "    </tr>\n",
       "  </thead>\n",
       "  <tbody>\n",
       "    <tr>\n",
       "      <th>DecisionTreeClassifier</th>\n",
       "      <td>1.000000</td>\n",
       "    </tr>\n",
       "    <tr>\n",
       "      <th>XGBClassifier</th>\n",
       "      <td>1.000000</td>\n",
       "    </tr>\n",
       "    <tr>\n",
       "      <th>KNeighborsClassifier</th>\n",
       "      <td>0.987388</td>\n",
       "    </tr>\n",
       "    <tr>\n",
       "      <th>GaussianNB</th>\n",
       "      <td>0.963741</td>\n",
       "    </tr>\n",
       "    <tr>\n",
       "      <th>RandomForestClassifier</th>\n",
       "      <td>0.944298</td>\n",
       "    </tr>\n",
       "    <tr>\n",
       "      <th>LogisticRegression</th>\n",
       "      <td>0.866527</td>\n",
       "    </tr>\n",
       "    <tr>\n",
       "      <th>BernoulliNB</th>\n",
       "      <td>0.672622</td>\n",
       "    </tr>\n",
       "    <tr>\n",
       "      <th>SVC</th>\n",
       "      <td>0.647399</td>\n",
       "    </tr>\n",
       "  </tbody>\n",
       "</table>\n",
       "</div>"
      ],
      "text/plain": [
       "                        accuracy_score\n",
       "DecisionTreeClassifier        1.000000\n",
       "XGBClassifier                 1.000000\n",
       "KNeighborsClassifier          0.987388\n",
       "GaussianNB                    0.963741\n",
       "RandomForestClassifier        0.944298\n",
       "LogisticRegression            0.866527\n",
       "BernoulliNB                   0.672622\n",
       "SVC                           0.647399"
      ]
     },
     "execution_count": 177,
     "metadata": {},
     "output_type": "execute_result"
    }
   ],
   "source": [
    "classification_funct(x,y)"
   ]
  },
  {
   "cell_type": "raw",
   "id": "b76427b0",
   "metadata": {},
   "source": [
    "Let's remove the age column and look at the actual result"
   ]
  },
  {
   "cell_type": "code",
   "execution_count": 178,
   "id": "0cbfd65c",
   "metadata": {},
   "outputs": [],
   "source": [
    "df_class=df.drop([\"epoch\",\"age\"],axis=1)\n",
    "x=pd.get_dummies(df_class,drop_first=True)"
   ]
  },
  {
   "cell_type": "code",
   "execution_count": 179,
   "id": "01dd915c",
   "metadata": {},
   "outputs": [
    {
     "data": {
      "text/html": [
       "<div>\n",
       "<style scoped>\n",
       "    .dataframe tbody tr th:only-of-type {\n",
       "        vertical-align: middle;\n",
       "    }\n",
       "\n",
       "    .dataframe tbody tr th {\n",
       "        vertical-align: top;\n",
       "    }\n",
       "\n",
       "    .dataframe thead th {\n",
       "        text-align: right;\n",
       "    }\n",
       "</style>\n",
       "<table border=\"1\" class=\"dataframe\">\n",
       "  <thead>\n",
       "    <tr style=\"text-align: right;\">\n",
       "      <th></th>\n",
       "      <th>accuracy_score</th>\n",
       "    </tr>\n",
       "  </thead>\n",
       "  <tbody>\n",
       "    <tr>\n",
       "      <th>XGBClassifier</th>\n",
       "      <td>0.674199</td>\n",
       "    </tr>\n",
       "    <tr>\n",
       "      <th>BernoulliNB</th>\n",
       "      <td>0.672622</td>\n",
       "    </tr>\n",
       "    <tr>\n",
       "      <th>RandomForestClassifier</th>\n",
       "      <td>0.671046</td>\n",
       "    </tr>\n",
       "    <tr>\n",
       "      <th>SVC</th>\n",
       "      <td>0.647399</td>\n",
       "    </tr>\n",
       "    <tr>\n",
       "      <th>GaussianNB</th>\n",
       "      <td>0.642144</td>\n",
       "    </tr>\n",
       "    <tr>\n",
       "      <th>LogisticRegression</th>\n",
       "      <td>0.642144</td>\n",
       "    </tr>\n",
       "    <tr>\n",
       "      <th>KNeighborsClassifier</th>\n",
       "      <td>0.627956</td>\n",
       "    </tr>\n",
       "    <tr>\n",
       "      <th>DecisionTreeClassifier</th>\n",
       "      <td>0.603258</td>\n",
       "    </tr>\n",
       "  </tbody>\n",
       "</table>\n",
       "</div>"
      ],
      "text/plain": [
       "                        accuracy_score\n",
       "XGBClassifier                 0.674199\n",
       "BernoulliNB                   0.672622\n",
       "RandomForestClassifier        0.671046\n",
       "SVC                           0.647399\n",
       "GaussianNB                    0.642144\n",
       "LogisticRegression            0.642144\n",
       "KNeighborsClassifier          0.627956\n",
       "DecisionTreeClassifier        0.603258"
      ]
     },
     "execution_count": 179,
     "metadata": {},
     "output_type": "execute_result"
    }
   ],
   "source": [
    "classification_funct(x,y)"
   ]
  },
  {
   "cell_type": "markdown",
   "id": "10b6d8b5",
   "metadata": {},
   "source": [
    "### Deep Learning"
   ]
  },
  {
   "cell_type": "code",
   "execution_count": 180,
   "id": "3a92f7e7",
   "metadata": {},
   "outputs": [],
   "source": [
    "scaler=MinMaxScaler()"
   ]
  },
  {
   "cell_type": "code",
   "execution_count": 181,
   "id": "4461a955",
   "metadata": {},
   "outputs": [],
   "source": [
    "x=scaler.fit_transform(x)"
   ]
  },
  {
   "cell_type": "code",
   "execution_count": 182,
   "id": "a40bc2d0",
   "metadata": {},
   "outputs": [
    {
     "data": {
      "text/html": [
       "<div>\n",
       "<style scoped>\n",
       "    .dataframe tbody tr th:only-of-type {\n",
       "        vertical-align: middle;\n",
       "    }\n",
       "\n",
       "    .dataframe tbody tr th {\n",
       "        vertical-align: top;\n",
       "    }\n",
       "\n",
       "    .dataframe thead th {\n",
       "        text-align: right;\n",
       "    }\n",
       "</style>\n",
       "<table border=\"1\" class=\"dataframe\">\n",
       "  <thead>\n",
       "    <tr style=\"text-align: right;\">\n",
       "      <th></th>\n",
       "      <th>0</th>\n",
       "      <th>1</th>\n",
       "      <th>2</th>\n",
       "      <th>3</th>\n",
       "      <th>4</th>\n",
       "      <th>5</th>\n",
       "      <th>6</th>\n",
       "      <th>7</th>\n",
       "      <th>8</th>\n",
       "      <th>9</th>\n",
       "      <th>10</th>\n",
       "      <th>11</th>\n",
       "      <th>12</th>\n",
       "      <th>13</th>\n",
       "      <th>14</th>\n",
       "      <th>15</th>\n",
       "      <th>16</th>\n",
       "      <th>17</th>\n",
       "      <th>18</th>\n",
       "      <th>19</th>\n",
       "      <th>20</th>\n",
       "      <th>21</th>\n",
       "      <th>22</th>\n",
       "      <th>23</th>\n",
       "      <th>24</th>\n",
       "      <th>25</th>\n",
       "      <th>26</th>\n",
       "      <th>27</th>\n",
       "      <th>28</th>\n",
       "      <th>29</th>\n",
       "      <th>30</th>\n",
       "      <th>31</th>\n",
       "      <th>32</th>\n",
       "      <th>33</th>\n",
       "      <th>34</th>\n",
       "      <th>35</th>\n",
       "      <th>36</th>\n",
       "      <th>37</th>\n",
       "      <th>38</th>\n",
       "      <th>39</th>\n",
       "      <th>40</th>\n",
       "      <th>41</th>\n",
       "      <th>42</th>\n",
       "      <th>43</th>\n",
       "      <th>44</th>\n",
       "      <th>45</th>\n",
       "      <th>46</th>\n",
       "      <th>47</th>\n",
       "      <th>48</th>\n",
       "      <th>49</th>\n",
       "      <th>...</th>\n",
       "      <th>6990</th>\n",
       "      <th>6991</th>\n",
       "      <th>6992</th>\n",
       "      <th>6993</th>\n",
       "      <th>6994</th>\n",
       "      <th>6995</th>\n",
       "      <th>6996</th>\n",
       "      <th>6997</th>\n",
       "      <th>6998</th>\n",
       "      <th>6999</th>\n",
       "      <th>7000</th>\n",
       "      <th>7001</th>\n",
       "      <th>7002</th>\n",
       "      <th>7003</th>\n",
       "      <th>7004</th>\n",
       "      <th>7005</th>\n",
       "      <th>7006</th>\n",
       "      <th>7007</th>\n",
       "      <th>7008</th>\n",
       "      <th>7009</th>\n",
       "      <th>7010</th>\n",
       "      <th>7011</th>\n",
       "      <th>7012</th>\n",
       "      <th>7013</th>\n",
       "      <th>7014</th>\n",
       "      <th>7015</th>\n",
       "      <th>7016</th>\n",
       "      <th>7017</th>\n",
       "      <th>7018</th>\n",
       "      <th>7019</th>\n",
       "      <th>7020</th>\n",
       "      <th>7021</th>\n",
       "      <th>7022</th>\n",
       "      <th>7023</th>\n",
       "      <th>7024</th>\n",
       "      <th>7025</th>\n",
       "      <th>7026</th>\n",
       "      <th>7027</th>\n",
       "      <th>7028</th>\n",
       "      <th>7029</th>\n",
       "      <th>7030</th>\n",
       "      <th>7031</th>\n",
       "      <th>7032</th>\n",
       "      <th>7033</th>\n",
       "      <th>7034</th>\n",
       "      <th>7035</th>\n",
       "      <th>7036</th>\n",
       "      <th>7037</th>\n",
       "      <th>7038</th>\n",
       "      <th>7039</th>\n",
       "    </tr>\n",
       "  </thead>\n",
       "  <tbody>\n",
       "    <tr>\n",
       "      <th>0</th>\n",
       "      <td>0.4</td>\n",
       "      <td>0.0</td>\n",
       "      <td>0.661017</td>\n",
       "      <td>0.000000</td>\n",
       "      <td>0.0</td>\n",
       "      <td>0.5</td>\n",
       "      <td>0.0</td>\n",
       "      <td>0.0</td>\n",
       "      <td>0.0</td>\n",
       "      <td>0.454545</td>\n",
       "      <td>0.0</td>\n",
       "      <td>1.0</td>\n",
       "      <td>0.0</td>\n",
       "      <td>0.0</td>\n",
       "      <td>0.0</td>\n",
       "      <td>0.0</td>\n",
       "      <td>0.0</td>\n",
       "      <td>0.0</td>\n",
       "      <td>0.0</td>\n",
       "      <td>1.0</td>\n",
       "      <td>0.0</td>\n",
       "      <td>0.0</td>\n",
       "      <td>0.0</td>\n",
       "      <td>0.0</td>\n",
       "      <td>0.0</td>\n",
       "      <td>0.0</td>\n",
       "      <td>0.0</td>\n",
       "      <td>0.0</td>\n",
       "      <td>0.0</td>\n",
       "      <td>0.0</td>\n",
       "      <td>0.0</td>\n",
       "      <td>0.0</td>\n",
       "      <td>0.0</td>\n",
       "      <td>0.0</td>\n",
       "      <td>0.0</td>\n",
       "      <td>0.0</td>\n",
       "      <td>0.0</td>\n",
       "      <td>0.0</td>\n",
       "      <td>0.0</td>\n",
       "      <td>0.0</td>\n",
       "      <td>0.0</td>\n",
       "      <td>0.0</td>\n",
       "      <td>0.0</td>\n",
       "      <td>0.0</td>\n",
       "      <td>0.0</td>\n",
       "      <td>0.0</td>\n",
       "      <td>0.0</td>\n",
       "      <td>0.0</td>\n",
       "      <td>0.0</td>\n",
       "      <td>0.0</td>\n",
       "      <td>...</td>\n",
       "      <td>1.0</td>\n",
       "      <td>0.0</td>\n",
       "      <td>0.0</td>\n",
       "      <td>0.0</td>\n",
       "      <td>0.0</td>\n",
       "      <td>0.0</td>\n",
       "      <td>0.0</td>\n",
       "      <td>0.0</td>\n",
       "      <td>0.0</td>\n",
       "      <td>0.0</td>\n",
       "      <td>0.0</td>\n",
       "      <td>0.0</td>\n",
       "      <td>1.0</td>\n",
       "      <td>0.0</td>\n",
       "      <td>0.0</td>\n",
       "      <td>0.0</td>\n",
       "      <td>0.0</td>\n",
       "      <td>0.0</td>\n",
       "      <td>0.0</td>\n",
       "      <td>0.0</td>\n",
       "      <td>0.0</td>\n",
       "      <td>0.0</td>\n",
       "      <td>0.0</td>\n",
       "      <td>0.0</td>\n",
       "      <td>0.0</td>\n",
       "      <td>0.0</td>\n",
       "      <td>1.0</td>\n",
       "      <td>0.0</td>\n",
       "      <td>0.0</td>\n",
       "      <td>0.0</td>\n",
       "      <td>0.0</td>\n",
       "      <td>0.0</td>\n",
       "      <td>0.0</td>\n",
       "      <td>0.0</td>\n",
       "      <td>0.0</td>\n",
       "      <td>1.0</td>\n",
       "      <td>0.0</td>\n",
       "      <td>0.0</td>\n",
       "      <td>0.0</td>\n",
       "      <td>1.0</td>\n",
       "      <td>0.0</td>\n",
       "      <td>0.0</td>\n",
       "      <td>0.0</td>\n",
       "      <td>0.0</td>\n",
       "      <td>0.0</td>\n",
       "      <td>0.0</td>\n",
       "      <td>0.0</td>\n",
       "      <td>0.0</td>\n",
       "      <td>0.0</td>\n",
       "      <td>1.0</td>\n",
       "    </tr>\n",
       "    <tr>\n",
       "      <th>1</th>\n",
       "      <td>0.6</td>\n",
       "      <td>0.5</td>\n",
       "      <td>0.576271</td>\n",
       "      <td>0.080001</td>\n",
       "      <td>0.0</td>\n",
       "      <td>0.0</td>\n",
       "      <td>0.0</td>\n",
       "      <td>0.4</td>\n",
       "      <td>0.0</td>\n",
       "      <td>0.454545</td>\n",
       "      <td>0.0</td>\n",
       "      <td>0.0</td>\n",
       "      <td>0.0</td>\n",
       "      <td>0.0</td>\n",
       "      <td>0.0</td>\n",
       "      <td>1.0</td>\n",
       "      <td>0.0</td>\n",
       "      <td>0.0</td>\n",
       "      <td>0.0</td>\n",
       "      <td>1.0</td>\n",
       "      <td>0.0</td>\n",
       "      <td>0.0</td>\n",
       "      <td>0.0</td>\n",
       "      <td>0.0</td>\n",
       "      <td>0.0</td>\n",
       "      <td>0.0</td>\n",
       "      <td>0.0</td>\n",
       "      <td>0.0</td>\n",
       "      <td>0.0</td>\n",
       "      <td>0.0</td>\n",
       "      <td>0.0</td>\n",
       "      <td>0.0</td>\n",
       "      <td>0.0</td>\n",
       "      <td>0.0</td>\n",
       "      <td>0.0</td>\n",
       "      <td>0.0</td>\n",
       "      <td>0.0</td>\n",
       "      <td>0.0</td>\n",
       "      <td>0.0</td>\n",
       "      <td>0.0</td>\n",
       "      <td>0.0</td>\n",
       "      <td>0.0</td>\n",
       "      <td>0.0</td>\n",
       "      <td>0.0</td>\n",
       "      <td>0.0</td>\n",
       "      <td>0.0</td>\n",
       "      <td>0.0</td>\n",
       "      <td>0.0</td>\n",
       "      <td>0.0</td>\n",
       "      <td>0.0</td>\n",
       "      <td>...</td>\n",
       "      <td>0.0</td>\n",
       "      <td>0.0</td>\n",
       "      <td>0.0</td>\n",
       "      <td>0.0</td>\n",
       "      <td>0.0</td>\n",
       "      <td>0.0</td>\n",
       "      <td>0.0</td>\n",
       "      <td>0.0</td>\n",
       "      <td>0.0</td>\n",
       "      <td>0.0</td>\n",
       "      <td>0.0</td>\n",
       "      <td>0.0</td>\n",
       "      <td>1.0</td>\n",
       "      <td>0.0</td>\n",
       "      <td>0.0</td>\n",
       "      <td>0.0</td>\n",
       "      <td>0.0</td>\n",
       "      <td>0.0</td>\n",
       "      <td>0.0</td>\n",
       "      <td>0.0</td>\n",
       "      <td>0.0</td>\n",
       "      <td>0.0</td>\n",
       "      <td>0.0</td>\n",
       "      <td>0.0</td>\n",
       "      <td>0.0</td>\n",
       "      <td>0.0</td>\n",
       "      <td>1.0</td>\n",
       "      <td>0.0</td>\n",
       "      <td>0.0</td>\n",
       "      <td>0.0</td>\n",
       "      <td>0.0</td>\n",
       "      <td>0.0</td>\n",
       "      <td>0.0</td>\n",
       "      <td>0.0</td>\n",
       "      <td>0.0</td>\n",
       "      <td>1.0</td>\n",
       "      <td>0.0</td>\n",
       "      <td>1.0</td>\n",
       "      <td>0.0</td>\n",
       "      <td>0.0</td>\n",
       "      <td>0.0</td>\n",
       "      <td>0.0</td>\n",
       "      <td>0.0</td>\n",
       "      <td>0.0</td>\n",
       "      <td>0.0</td>\n",
       "      <td>0.0</td>\n",
       "      <td>0.0</td>\n",
       "      <td>0.0</td>\n",
       "      <td>0.0</td>\n",
       "      <td>1.0</td>\n",
       "    </tr>\n",
       "    <tr>\n",
       "      <th>2</th>\n",
       "      <td>0.4</td>\n",
       "      <td>0.0</td>\n",
       "      <td>0.542373</td>\n",
       "      <td>0.000000</td>\n",
       "      <td>0.0</td>\n",
       "      <td>0.0</td>\n",
       "      <td>0.0</td>\n",
       "      <td>0.0</td>\n",
       "      <td>0.0</td>\n",
       "      <td>0.454545</td>\n",
       "      <td>0.0</td>\n",
       "      <td>0.0</td>\n",
       "      <td>1.0</td>\n",
       "      <td>0.0</td>\n",
       "      <td>0.0</td>\n",
       "      <td>0.0</td>\n",
       "      <td>0.0</td>\n",
       "      <td>0.0</td>\n",
       "      <td>1.0</td>\n",
       "      <td>0.0</td>\n",
       "      <td>0.0</td>\n",
       "      <td>0.0</td>\n",
       "      <td>0.0</td>\n",
       "      <td>0.0</td>\n",
       "      <td>0.0</td>\n",
       "      <td>0.0</td>\n",
       "      <td>0.0</td>\n",
       "      <td>0.0</td>\n",
       "      <td>0.0</td>\n",
       "      <td>0.0</td>\n",
       "      <td>0.0</td>\n",
       "      <td>0.0</td>\n",
       "      <td>0.0</td>\n",
       "      <td>0.0</td>\n",
       "      <td>0.0</td>\n",
       "      <td>0.0</td>\n",
       "      <td>0.0</td>\n",
       "      <td>0.0</td>\n",
       "      <td>0.0</td>\n",
       "      <td>0.0</td>\n",
       "      <td>0.0</td>\n",
       "      <td>0.0</td>\n",
       "      <td>0.0</td>\n",
       "      <td>0.0</td>\n",
       "      <td>0.0</td>\n",
       "      <td>0.0</td>\n",
       "      <td>0.0</td>\n",
       "      <td>0.0</td>\n",
       "      <td>0.0</td>\n",
       "      <td>0.0</td>\n",
       "      <td>...</td>\n",
       "      <td>0.0</td>\n",
       "      <td>0.0</td>\n",
       "      <td>0.0</td>\n",
       "      <td>0.0</td>\n",
       "      <td>0.0</td>\n",
       "      <td>0.0</td>\n",
       "      <td>0.0</td>\n",
       "      <td>0.0</td>\n",
       "      <td>0.0</td>\n",
       "      <td>0.0</td>\n",
       "      <td>0.0</td>\n",
       "      <td>0.0</td>\n",
       "      <td>1.0</td>\n",
       "      <td>0.0</td>\n",
       "      <td>0.0</td>\n",
       "      <td>0.0</td>\n",
       "      <td>0.0</td>\n",
       "      <td>1.0</td>\n",
       "      <td>0.0</td>\n",
       "      <td>0.0</td>\n",
       "      <td>0.0</td>\n",
       "      <td>0.0</td>\n",
       "      <td>0.0</td>\n",
       "      <td>0.0</td>\n",
       "      <td>0.0</td>\n",
       "      <td>0.0</td>\n",
       "      <td>0.0</td>\n",
       "      <td>0.0</td>\n",
       "      <td>0.0</td>\n",
       "      <td>0.0</td>\n",
       "      <td>0.0</td>\n",
       "      <td>0.0</td>\n",
       "      <td>0.0</td>\n",
       "      <td>0.0</td>\n",
       "      <td>0.0</td>\n",
       "      <td>1.0</td>\n",
       "      <td>0.0</td>\n",
       "      <td>0.0</td>\n",
       "      <td>0.0</td>\n",
       "      <td>0.0</td>\n",
       "      <td>0.0</td>\n",
       "      <td>0.0</td>\n",
       "      <td>1.0</td>\n",
       "      <td>0.0</td>\n",
       "      <td>0.0</td>\n",
       "      <td>0.0</td>\n",
       "      <td>0.0</td>\n",
       "      <td>0.0</td>\n",
       "      <td>0.0</td>\n",
       "      <td>0.0</td>\n",
       "    </tr>\n",
       "    <tr>\n",
       "      <th>3</th>\n",
       "      <td>0.4</td>\n",
       "      <td>0.0</td>\n",
       "      <td>0.593220</td>\n",
       "      <td>0.020001</td>\n",
       "      <td>0.0</td>\n",
       "      <td>0.0</td>\n",
       "      <td>0.0</td>\n",
       "      <td>0.2</td>\n",
       "      <td>0.0</td>\n",
       "      <td>0.454545</td>\n",
       "      <td>0.0</td>\n",
       "      <td>0.0</td>\n",
       "      <td>1.0</td>\n",
       "      <td>0.0</td>\n",
       "      <td>0.0</td>\n",
       "      <td>0.0</td>\n",
       "      <td>0.0</td>\n",
       "      <td>1.0</td>\n",
       "      <td>0.0</td>\n",
       "      <td>1.0</td>\n",
       "      <td>0.0</td>\n",
       "      <td>0.0</td>\n",
       "      <td>0.0</td>\n",
       "      <td>0.0</td>\n",
       "      <td>0.0</td>\n",
       "      <td>0.0</td>\n",
       "      <td>0.0</td>\n",
       "      <td>0.0</td>\n",
       "      <td>0.0</td>\n",
       "      <td>0.0</td>\n",
       "      <td>0.0</td>\n",
       "      <td>0.0</td>\n",
       "      <td>0.0</td>\n",
       "      <td>0.0</td>\n",
       "      <td>0.0</td>\n",
       "      <td>0.0</td>\n",
       "      <td>0.0</td>\n",
       "      <td>0.0</td>\n",
       "      <td>0.0</td>\n",
       "      <td>0.0</td>\n",
       "      <td>0.0</td>\n",
       "      <td>0.0</td>\n",
       "      <td>0.0</td>\n",
       "      <td>0.0</td>\n",
       "      <td>0.0</td>\n",
       "      <td>0.0</td>\n",
       "      <td>0.0</td>\n",
       "      <td>0.0</td>\n",
       "      <td>0.0</td>\n",
       "      <td>0.0</td>\n",
       "      <td>...</td>\n",
       "      <td>0.0</td>\n",
       "      <td>0.0</td>\n",
       "      <td>0.0</td>\n",
       "      <td>0.0</td>\n",
       "      <td>0.0</td>\n",
       "      <td>0.0</td>\n",
       "      <td>0.0</td>\n",
       "      <td>0.0</td>\n",
       "      <td>0.0</td>\n",
       "      <td>0.0</td>\n",
       "      <td>0.0</td>\n",
       "      <td>0.0</td>\n",
       "      <td>1.0</td>\n",
       "      <td>0.0</td>\n",
       "      <td>0.0</td>\n",
       "      <td>0.0</td>\n",
       "      <td>0.0</td>\n",
       "      <td>0.0</td>\n",
       "      <td>0.0</td>\n",
       "      <td>0.0</td>\n",
       "      <td>0.0</td>\n",
       "      <td>0.0</td>\n",
       "      <td>1.0</td>\n",
       "      <td>0.0</td>\n",
       "      <td>0.0</td>\n",
       "      <td>0.0</td>\n",
       "      <td>0.0</td>\n",
       "      <td>0.0</td>\n",
       "      <td>0.0</td>\n",
       "      <td>0.0</td>\n",
       "      <td>0.0</td>\n",
       "      <td>0.0</td>\n",
       "      <td>0.0</td>\n",
       "      <td>0.0</td>\n",
       "      <td>0.0</td>\n",
       "      <td>1.0</td>\n",
       "      <td>0.0</td>\n",
       "      <td>0.0</td>\n",
       "      <td>0.0</td>\n",
       "      <td>0.0</td>\n",
       "      <td>0.0</td>\n",
       "      <td>0.0</td>\n",
       "      <td>1.0</td>\n",
       "      <td>0.0</td>\n",
       "      <td>0.0</td>\n",
       "      <td>0.0</td>\n",
       "      <td>0.0</td>\n",
       "      <td>0.0</td>\n",
       "      <td>0.0</td>\n",
       "      <td>1.0</td>\n",
       "    </tr>\n",
       "    <tr>\n",
       "      <th>4</th>\n",
       "      <td>0.4</td>\n",
       "      <td>0.0</td>\n",
       "      <td>0.508475</td>\n",
       "      <td>0.000000</td>\n",
       "      <td>0.0</td>\n",
       "      <td>0.0</td>\n",
       "      <td>0.0</td>\n",
       "      <td>0.0</td>\n",
       "      <td>0.0</td>\n",
       "      <td>0.454545</td>\n",
       "      <td>0.0</td>\n",
       "      <td>0.0</td>\n",
       "      <td>1.0</td>\n",
       "      <td>0.0</td>\n",
       "      <td>0.0</td>\n",
       "      <td>0.0</td>\n",
       "      <td>0.0</td>\n",
       "      <td>0.0</td>\n",
       "      <td>1.0</td>\n",
       "      <td>0.0</td>\n",
       "      <td>0.0</td>\n",
       "      <td>0.0</td>\n",
       "      <td>0.0</td>\n",
       "      <td>0.0</td>\n",
       "      <td>0.0</td>\n",
       "      <td>0.0</td>\n",
       "      <td>0.0</td>\n",
       "      <td>0.0</td>\n",
       "      <td>1.0</td>\n",
       "      <td>0.0</td>\n",
       "      <td>0.0</td>\n",
       "      <td>0.0</td>\n",
       "      <td>0.0</td>\n",
       "      <td>0.0</td>\n",
       "      <td>0.0</td>\n",
       "      <td>0.0</td>\n",
       "      <td>0.0</td>\n",
       "      <td>0.0</td>\n",
       "      <td>0.0</td>\n",
       "      <td>0.0</td>\n",
       "      <td>0.0</td>\n",
       "      <td>0.0</td>\n",
       "      <td>0.0</td>\n",
       "      <td>0.0</td>\n",
       "      <td>0.0</td>\n",
       "      <td>0.0</td>\n",
       "      <td>0.0</td>\n",
       "      <td>0.0</td>\n",
       "      <td>0.0</td>\n",
       "      <td>0.0</td>\n",
       "      <td>...</td>\n",
       "      <td>0.0</td>\n",
       "      <td>0.0</td>\n",
       "      <td>0.0</td>\n",
       "      <td>0.0</td>\n",
       "      <td>0.0</td>\n",
       "      <td>0.0</td>\n",
       "      <td>0.0</td>\n",
       "      <td>0.0</td>\n",
       "      <td>0.0</td>\n",
       "      <td>0.0</td>\n",
       "      <td>0.0</td>\n",
       "      <td>0.0</td>\n",
       "      <td>1.0</td>\n",
       "      <td>0.0</td>\n",
       "      <td>0.0</td>\n",
       "      <td>0.0</td>\n",
       "      <td>0.0</td>\n",
       "      <td>0.0</td>\n",
       "      <td>0.0</td>\n",
       "      <td>0.0</td>\n",
       "      <td>0.0</td>\n",
       "      <td>0.0</td>\n",
       "      <td>0.0</td>\n",
       "      <td>0.0</td>\n",
       "      <td>0.0</td>\n",
       "      <td>0.0</td>\n",
       "      <td>1.0</td>\n",
       "      <td>0.0</td>\n",
       "      <td>0.0</td>\n",
       "      <td>0.0</td>\n",
       "      <td>0.0</td>\n",
       "      <td>0.0</td>\n",
       "      <td>0.0</td>\n",
       "      <td>0.0</td>\n",
       "      <td>0.0</td>\n",
       "      <td>1.0</td>\n",
       "      <td>0.0</td>\n",
       "      <td>0.0</td>\n",
       "      <td>0.0</td>\n",
       "      <td>0.0</td>\n",
       "      <td>0.0</td>\n",
       "      <td>0.0</td>\n",
       "      <td>0.0</td>\n",
       "      <td>0.0</td>\n",
       "      <td>0.0</td>\n",
       "      <td>0.0</td>\n",
       "      <td>0.0</td>\n",
       "      <td>0.0</td>\n",
       "      <td>0.0</td>\n",
       "      <td>1.0</td>\n",
       "    </tr>\n",
       "  </tbody>\n",
       "</table>\n",
       "<p>5 rows × 7040 columns</p>\n",
       "</div>"
      ],
      "text/plain": [
       "   0     1         2         3     4     5     6     7     8         9     \\\n",
       "0   0.4   0.0  0.661017  0.000000   0.0   0.5   0.0   0.0   0.0  0.454545   \n",
       "1   0.6   0.5  0.576271  0.080001   0.0   0.0   0.0   0.4   0.0  0.454545   \n",
       "2   0.4   0.0  0.542373  0.000000   0.0   0.0   0.0   0.0   0.0  0.454545   \n",
       "3   0.4   0.0  0.593220  0.020001   0.0   0.0   0.0   0.2   0.0  0.454545   \n",
       "4   0.4   0.0  0.508475  0.000000   0.0   0.0   0.0   0.0   0.0  0.454545   \n",
       "\n",
       "   10    11    12    13    14    15    16    17    18    19    20    21    \\\n",
       "0   0.0   1.0   0.0   0.0   0.0   0.0   0.0   0.0   0.0   1.0   0.0   0.0   \n",
       "1   0.0   0.0   0.0   0.0   0.0   1.0   0.0   0.0   0.0   1.0   0.0   0.0   \n",
       "2   0.0   0.0   1.0   0.0   0.0   0.0   0.0   0.0   1.0   0.0   0.0   0.0   \n",
       "3   0.0   0.0   1.0   0.0   0.0   0.0   0.0   1.0   0.0   1.0   0.0   0.0   \n",
       "4   0.0   0.0   1.0   0.0   0.0   0.0   0.0   0.0   1.0   0.0   0.0   0.0   \n",
       "\n",
       "   22    23    24    25    26    27    28    29    30    31    32    33    \\\n",
       "0   0.0   0.0   0.0   0.0   0.0   0.0   0.0   0.0   0.0   0.0   0.0   0.0   \n",
       "1   0.0   0.0   0.0   0.0   0.0   0.0   0.0   0.0   0.0   0.0   0.0   0.0   \n",
       "2   0.0   0.0   0.0   0.0   0.0   0.0   0.0   0.0   0.0   0.0   0.0   0.0   \n",
       "3   0.0   0.0   0.0   0.0   0.0   0.0   0.0   0.0   0.0   0.0   0.0   0.0   \n",
       "4   0.0   0.0   0.0   0.0   0.0   0.0   1.0   0.0   0.0   0.0   0.0   0.0   \n",
       "\n",
       "   34    35    36    37    38    39    40    41    42    43    44    45    \\\n",
       "0   0.0   0.0   0.0   0.0   0.0   0.0   0.0   0.0   0.0   0.0   0.0   0.0   \n",
       "1   0.0   0.0   0.0   0.0   0.0   0.0   0.0   0.0   0.0   0.0   0.0   0.0   \n",
       "2   0.0   0.0   0.0   0.0   0.0   0.0   0.0   0.0   0.0   0.0   0.0   0.0   \n",
       "3   0.0   0.0   0.0   0.0   0.0   0.0   0.0   0.0   0.0   0.0   0.0   0.0   \n",
       "4   0.0   0.0   0.0   0.0   0.0   0.0   0.0   0.0   0.0   0.0   0.0   0.0   \n",
       "\n",
       "   46    47    48    49    ...  6990  6991  6992  6993  6994  6995  6996  \\\n",
       "0   0.0   0.0   0.0   0.0  ...   1.0   0.0   0.0   0.0   0.0   0.0   0.0   \n",
       "1   0.0   0.0   0.0   0.0  ...   0.0   0.0   0.0   0.0   0.0   0.0   0.0   \n",
       "2   0.0   0.0   0.0   0.0  ...   0.0   0.0   0.0   0.0   0.0   0.0   0.0   \n",
       "3   0.0   0.0   0.0   0.0  ...   0.0   0.0   0.0   0.0   0.0   0.0   0.0   \n",
       "4   0.0   0.0   0.0   0.0  ...   0.0   0.0   0.0   0.0   0.0   0.0   0.0   \n",
       "\n",
       "   6997  6998  6999  7000  7001  7002  7003  7004  7005  7006  7007  7008  \\\n",
       "0   0.0   0.0   0.0   0.0   0.0   1.0   0.0   0.0   0.0   0.0   0.0   0.0   \n",
       "1   0.0   0.0   0.0   0.0   0.0   1.0   0.0   0.0   0.0   0.0   0.0   0.0   \n",
       "2   0.0   0.0   0.0   0.0   0.0   1.0   0.0   0.0   0.0   0.0   1.0   0.0   \n",
       "3   0.0   0.0   0.0   0.0   0.0   1.0   0.0   0.0   0.0   0.0   0.0   0.0   \n",
       "4   0.0   0.0   0.0   0.0   0.0   1.0   0.0   0.0   0.0   0.0   0.0   0.0   \n",
       "\n",
       "   7009  7010  7011  7012  7013  7014  7015  7016  7017  7018  7019  7020  \\\n",
       "0   0.0   0.0   0.0   0.0   0.0   0.0   0.0   1.0   0.0   0.0   0.0   0.0   \n",
       "1   0.0   0.0   0.0   0.0   0.0   0.0   0.0   1.0   0.0   0.0   0.0   0.0   \n",
       "2   0.0   0.0   0.0   0.0   0.0   0.0   0.0   0.0   0.0   0.0   0.0   0.0   \n",
       "3   0.0   0.0   0.0   1.0   0.0   0.0   0.0   0.0   0.0   0.0   0.0   0.0   \n",
       "4   0.0   0.0   0.0   0.0   0.0   0.0   0.0   1.0   0.0   0.0   0.0   0.0   \n",
       "\n",
       "   7021  7022  7023  7024  7025  7026  7027  7028  7029  7030  7031  7032  \\\n",
       "0   0.0   0.0   0.0   0.0   1.0   0.0   0.0   0.0   1.0   0.0   0.0   0.0   \n",
       "1   0.0   0.0   0.0   0.0   1.0   0.0   1.0   0.0   0.0   0.0   0.0   0.0   \n",
       "2   0.0   0.0   0.0   0.0   1.0   0.0   0.0   0.0   0.0   0.0   0.0   1.0   \n",
       "3   0.0   0.0   0.0   0.0   1.0   0.0   0.0   0.0   0.0   0.0   0.0   1.0   \n",
       "4   0.0   0.0   0.0   0.0   1.0   0.0   0.0   0.0   0.0   0.0   0.0   0.0   \n",
       "\n",
       "   7033  7034  7035  7036  7037  7038  7039  \n",
       "0   0.0   0.0   0.0   0.0   0.0   0.0   1.0  \n",
       "1   0.0   0.0   0.0   0.0   0.0   0.0   1.0  \n",
       "2   0.0   0.0   0.0   0.0   0.0   0.0   0.0  \n",
       "3   0.0   0.0   0.0   0.0   0.0   0.0   1.0  \n",
       "4   0.0   0.0   0.0   0.0   0.0   0.0   1.0  \n",
       "\n",
       "[5 rows x 7040 columns]"
      ]
     },
     "execution_count": 182,
     "metadata": {},
     "output_type": "execute_result"
    }
   ],
   "source": [
    "pd.DataFrame(x).head()"
   ]
  },
  {
   "cell_type": "code",
   "execution_count": 183,
   "id": "1ce93bdd",
   "metadata": {},
   "outputs": [
    {
     "data": {
      "text/plain": [
       "((9514, 7040), (9514, 1))"
      ]
     },
     "execution_count": 183,
     "metadata": {},
     "output_type": "execute_result"
    }
   ],
   "source": [
    "x.shape , y.shape"
   ]
  },
  {
   "cell_type": "code",
   "execution_count": 184,
   "id": "d60dcf7c",
   "metadata": {},
   "outputs": [],
   "source": [
    "x_train, x_test, y_train, y_test = train_test_split(x,y, test_size=0.20, random_state=42)"
   ]
  },
  {
   "cell_type": "code",
   "execution_count": 185,
   "id": "7608bc46",
   "metadata": {},
   "outputs": [],
   "source": [
    "model=Sequential()\n",
    "model.add(Dense(800, activation='relu'))\n",
    "model.add(Dense(800, activation='relu'))\n",
    "model.add(Dense(800, activation='relu'))\n",
    "model.add(Dense(800, activation='relu'))\n",
    "model.add(Dense(800, activation='relu'))\n",
    "model.add(Dense(800, activation='relu'))\n",
    "model.add(Dense(1))\n",
    "model.compile(optimizer='Adam', loss='mse') "
   ]
  },
  {
   "cell_type": "code",
   "execution_count": 186,
   "id": "f4f284c6",
   "metadata": {},
   "outputs": [
    {
     "name": "stdout",
     "output_type": "stream",
     "text": [
      "Epoch 1/100\n",
      "60/60 [==============================] - 8s 97ms/step - loss: 0.3795 - val_loss: 0.3026\n",
      "Epoch 2/100\n",
      "60/60 [==============================] - 5s 83ms/step - loss: 0.2241 - val_loss: 0.3609\n",
      "Epoch 3/100\n",
      "60/60 [==============================] - 5s 91ms/step - loss: 0.0885 - val_loss: 0.3728\n",
      "Epoch 4/100\n",
      "60/60 [==============================] - 6s 92ms/step - loss: 0.0467 - val_loss: 0.4407\n",
      "Epoch 5/100\n",
      "60/60 [==============================] - 6s 92ms/step - loss: 0.0344 - val_loss: 0.4136\n",
      "Epoch 6/100\n",
      "60/60 [==============================] - 6s 94ms/step - loss: 0.0227 - val_loss: 0.3969\n",
      "Epoch 7/100\n",
      "60/60 [==============================] - 5s 91ms/step - loss: 0.0183 - val_loss: 0.4105\n",
      "Epoch 8/100\n",
      "60/60 [==============================] - 5s 91ms/step - loss: 0.0145 - val_loss: 0.4143\n",
      "Epoch 9/100\n",
      "60/60 [==============================] - 5s 90ms/step - loss: 0.0103 - val_loss: 0.4286\n",
      "Epoch 10/100\n",
      "60/60 [==============================] - 5s 90ms/step - loss: 0.0099 - val_loss: 0.4352\n",
      "Epoch 11/100\n",
      "60/60 [==============================] - 6s 93ms/step - loss: 0.0155 - val_loss: 0.4464\n",
      "Epoch 12/100\n",
      "60/60 [==============================] - 6s 92ms/step - loss: 0.0183 - val_loss: 0.4219\n",
      "Epoch 13/100\n",
      "60/60 [==============================] - 6s 95ms/step - loss: 0.0149 - val_loss: 0.4605\n",
      "Epoch 14/100\n",
      "60/60 [==============================] - 6s 98ms/step - loss: 0.0133 - val_loss: 0.4102\n",
      "Epoch 15/100\n",
      "60/60 [==============================] - 5s 85ms/step - loss: 0.0174 - val_loss: 0.4538\n",
      "Epoch 16/100\n",
      "60/60 [==============================] - 5s 87ms/step - loss: 0.0087 - val_loss: 0.4395\n",
      "Epoch 17/100\n",
      "60/60 [==============================] - 5s 84ms/step - loss: 0.0085 - val_loss: 0.4304\n",
      "Epoch 18/100\n",
      "60/60 [==============================] - 5s 83ms/step - loss: 0.0062 - val_loss: 0.4307\n",
      "Epoch 19/100\n",
      "60/60 [==============================] - 5s 84ms/step - loss: 0.0044 - val_loss: 0.4599\n",
      "Epoch 20/100\n",
      "60/60 [==============================] - 5s 83ms/step - loss: 0.0079 - val_loss: 0.4253\n",
      "Epoch 21/100\n",
      "60/60 [==============================] - 5s 84ms/step - loss: 0.0088 - val_loss: 0.4286\n",
      "Epoch 22/100\n",
      "60/60 [==============================] - 6s 103ms/step - loss: 0.0064 - val_loss: 0.4558\n",
      "Epoch 23/100\n",
      "60/60 [==============================] - 6s 92ms/step - loss: 0.0080 - val_loss: 0.4705\n",
      "Epoch 24/100\n",
      "60/60 [==============================] - 5s 89ms/step - loss: 0.0051 - val_loss: 0.4879\n",
      "Epoch 25/100\n",
      "60/60 [==============================] - 5s 87ms/step - loss: 0.0080 - val_loss: 0.4129\n",
      "Epoch 26/100\n",
      "60/60 [==============================] - 6s 92ms/step - loss: 0.0037 - val_loss: 0.4598\n",
      "Epoch 27/100\n",
      "60/60 [==============================] - 5s 89ms/step - loss: 0.0026 - val_loss: 0.4359\n",
      "Epoch 28/100\n",
      "60/60 [==============================] - 6s 92ms/step - loss: 0.0050 - val_loss: 0.4281\n",
      "Epoch 29/100\n",
      "60/60 [==============================] - 5s 87ms/step - loss: 0.0033 - val_loss: 0.4483\n",
      "Epoch 30/100\n",
      "60/60 [==============================] - 5s 85ms/step - loss: 8.6672e-04 - val_loss: 0.4257\n",
      "Epoch 31/100\n",
      "60/60 [==============================] - 5s 84ms/step - loss: 4.3225e-04 - val_loss: 0.4780\n",
      "Epoch 32/100\n",
      "60/60 [==============================] - 5s 81ms/step - loss: 0.0011 - val_loss: 0.4458\n",
      "Epoch 33/100\n",
      "60/60 [==============================] - 5s 81ms/step - loss: 0.0011 - val_loss: 0.4458\n",
      "Epoch 34/100\n",
      "60/60 [==============================] - 5s 83ms/step - loss: 0.0068 - val_loss: 0.4233\n",
      "Epoch 35/100\n",
      "60/60 [==============================] - 5s 82ms/step - loss: 0.0069 - val_loss: 0.4714\n",
      "Epoch 36/100\n",
      "60/60 [==============================] - 5s 89ms/step - loss: 0.0060 - val_loss: 0.4274\n",
      "Epoch 37/100\n",
      "60/60 [==============================] - 5s 91ms/step - loss: 0.0048 - val_loss: 0.4203\n",
      "Epoch 38/100\n",
      "60/60 [==============================] - 5s 89ms/step - loss: 0.0025 - val_loss: 0.4346\n",
      "Epoch 39/100\n",
      "60/60 [==============================] - 6s 93ms/step - loss: 0.0043 - val_loss: 0.4451\n",
      "Epoch 40/100\n",
      "60/60 [==============================] - 5s 85ms/step - loss: 0.0034 - val_loss: 0.4308\n",
      "Epoch 41/100\n",
      "60/60 [==============================] - 5s 86ms/step - loss: 0.0032 - val_loss: 0.4330\n",
      "Epoch 42/100\n",
      "60/60 [==============================] - 5s 85ms/step - loss: 7.5334e-04 - val_loss: 0.4462\n",
      "Epoch 43/100\n",
      "60/60 [==============================] - 5s 90ms/step - loss: 0.0010 - val_loss: 0.4166\n",
      "Epoch 44/100\n",
      "60/60 [==============================] - 5s 84ms/step - loss: 0.0011 - val_loss: 0.4307\n",
      "Epoch 45/100\n",
      "60/60 [==============================] - 5s 89ms/step - loss: 7.7315e-04 - val_loss: 0.4492\n",
      "Epoch 46/100\n",
      "60/60 [==============================] - 5s 87ms/step - loss: 0.0011 - val_loss: 0.4418\n",
      "Epoch 47/100\n",
      "60/60 [==============================] - 5s 89ms/step - loss: 9.7173e-04 - val_loss: 0.4495\n",
      "Epoch 48/100\n",
      "60/60 [==============================] - 5s 89ms/step - loss: 0.0011 - val_loss: 0.4359\n",
      "Epoch 49/100\n",
      "60/60 [==============================] - 5s 87ms/step - loss: 0.0036 - val_loss: 0.4319\n",
      "Epoch 50/100\n",
      "60/60 [==============================] - 6s 92ms/step - loss: 0.0102 - val_loss: 0.4341\n",
      "Epoch 51/100\n",
      "60/60 [==============================] - 6s 92ms/step - loss: 0.0011 - val_loss: 0.4408\n",
      "Epoch 52/100\n",
      "60/60 [==============================] - 5s 91ms/step - loss: 7.7886e-04 - val_loss: 0.4402\n",
      "Epoch 53/100\n",
      "60/60 [==============================] - 5s 89ms/step - loss: 7.9070e-04 - val_loss: 0.4494\n",
      "Epoch 54/100\n",
      "60/60 [==============================] - 5s 87ms/step - loss: 9.1763e-04 - val_loss: 0.4463\n",
      "Epoch 55/100\n",
      "60/60 [==============================] - 5s 85ms/step - loss: 6.0932e-04 - val_loss: 0.4742\n",
      "Epoch 56/100\n",
      "60/60 [==============================] - 5s 87ms/step - loss: 8.1635e-04 - val_loss: 0.4899\n",
      "Epoch 57/100\n",
      "60/60 [==============================] - 5s 85ms/step - loss: 0.0040 - val_loss: 0.4574\n",
      "Epoch 58/100\n",
      "60/60 [==============================] - 5s 86ms/step - loss: 9.6896e-04 - val_loss: 0.4367\n",
      "Epoch 59/100\n",
      "60/60 [==============================] - 5s 88ms/step - loss: 0.0050 - val_loss: 0.4540\n",
      "Epoch 60/100\n",
      "60/60 [==============================] - 5s 86ms/step - loss: 0.0057 - val_loss: 0.4831\n",
      "Epoch 61/100\n",
      "60/60 [==============================] - 5s 90ms/step - loss: 0.0047 - val_loss: 0.4406\n",
      "Epoch 62/100\n",
      "60/60 [==============================] - 5s 86ms/step - loss: 0.0026 - val_loss: 0.5170\n",
      "Epoch 63/100\n",
      "60/60 [==============================] - 5s 82ms/step - loss: 0.0045 - val_loss: 0.4731\n",
      "Epoch 64/100\n",
      "60/60 [==============================] - 5s 86ms/step - loss: 0.0014 - val_loss: 0.4463\n",
      "Epoch 65/100\n",
      "60/60 [==============================] - 5s 86ms/step - loss: 0.0013 - val_loss: 0.4634\n",
      "Epoch 66/100\n",
      "60/60 [==============================] - 5s 83ms/step - loss: 0.0010 - val_loss: 0.4462\n",
      "Epoch 67/100\n",
      "60/60 [==============================] - 5s 89ms/step - loss: 0.0018 - val_loss: 0.4513\n",
      "Epoch 68/100\n",
      "60/60 [==============================] - 5s 86ms/step - loss: 0.0023 - val_loss: 0.4363\n",
      "Epoch 69/100\n",
      "60/60 [==============================] - 5s 88ms/step - loss: 0.0018 - val_loss: 0.4471\n",
      "Epoch 70/100\n",
      "60/60 [==============================] - 5s 87ms/step - loss: 6.5391e-04 - val_loss: 0.4506\n",
      "Epoch 71/100\n",
      "60/60 [==============================] - 5s 89ms/step - loss: 3.1597e-05 - val_loss: 0.4466\n",
      "Epoch 72/100\n",
      "60/60 [==============================] - 5s 85ms/step - loss: 2.0161e-05 - val_loss: 0.4370\n",
      "Epoch 73/100\n",
      "60/60 [==============================] - 5s 88ms/step - loss: 1.0642e-05 - val_loss: 0.4372\n",
      "Epoch 74/100\n",
      "60/60 [==============================] - 5s 86ms/step - loss: 4.4285e-06 - val_loss: 0.4376\n",
      "Epoch 75/100\n",
      "60/60 [==============================] - 5s 87ms/step - loss: 4.0554e-06 - val_loss: 0.4371\n",
      "Epoch 76/100\n",
      "60/60 [==============================] - 5s 86ms/step - loss: 2.7693e-06 - val_loss: 0.4379\n",
      "Epoch 77/100\n",
      "60/60 [==============================] - 5s 88ms/step - loss: 2.9486e-06 - val_loss: 0.4377\n",
      "Epoch 78/100\n",
      "60/60 [==============================] - 5s 88ms/step - loss: 2.3795e-06 - val_loss: 0.4375\n",
      "Epoch 79/100\n",
      "60/60 [==============================] - 5s 87ms/step - loss: 1.7009e-06 - val_loss: 0.4380\n",
      "Epoch 80/100\n",
      "60/60 [==============================] - 5s 89ms/step - loss: 1.7191e-06 - val_loss: 0.4377\n",
      "Epoch 81/100\n"
     ]
    },
    {
     "name": "stdout",
     "output_type": "stream",
     "text": [
      "60/60 [==============================] - 5s 88ms/step - loss: 2.1105e-06 - val_loss: 0.4380\n",
      "Epoch 82/100\n",
      "60/60 [==============================] - 5s 91ms/step - loss: 1.5080e-06 - val_loss: 0.4384\n",
      "Epoch 83/100\n",
      "60/60 [==============================] - 5s 90ms/step - loss: 9.9003e-07 - val_loss: 0.4381\n",
      "Epoch 84/100\n",
      "60/60 [==============================] - 5s 86ms/step - loss: 9.1506e-07 - val_loss: 0.4381\n",
      "Epoch 85/100\n",
      "60/60 [==============================] - 5s 81ms/step - loss: 6.6801e-07 - val_loss: 0.4384\n",
      "Epoch 86/100\n",
      "60/60 [==============================] - 5s 90ms/step - loss: 6.5748e-07 - val_loss: 0.4383\n",
      "Epoch 87/100\n",
      "60/60 [==============================] - 5s 89ms/step - loss: 4.9408e-07 - val_loss: 0.4382\n",
      "Epoch 88/100\n",
      "60/60 [==============================] - 5s 90ms/step - loss: 4.5407e-07 - val_loss: 0.4382\n",
      "Epoch 89/100\n",
      "60/60 [==============================] - 5s 89ms/step - loss: 4.2986e-07 - val_loss: 0.4383\n",
      "Epoch 90/100\n",
      "60/60 [==============================] - 5s 83ms/step - loss: 3.3062e-07 - val_loss: 0.4385\n",
      "Epoch 91/100\n",
      "60/60 [==============================] - 5s 82ms/step - loss: 3.2001e-07 - val_loss: 0.4386\n",
      "Epoch 92/100\n",
      "60/60 [==============================] - 5s 88ms/step - loss: 2.9367e-07 - val_loss: 0.4385\n",
      "Epoch 93/100\n",
      "60/60 [==============================] - 5s 89ms/step - loss: 2.5940e-07 - val_loss: 0.4385\n",
      "Epoch 94/100\n",
      "60/60 [==============================] - 5s 91ms/step - loss: 2.4092e-07 - val_loss: 0.4386\n",
      "Epoch 95/100\n",
      "60/60 [==============================] - 5s 88ms/step - loss: 2.1473e-07 - val_loss: 0.4385\n",
      "Epoch 96/100\n",
      "60/60 [==============================] - 5s 87ms/step - loss: 2.4006e-07 - val_loss: 0.4384\n",
      "Epoch 97/100\n",
      "60/60 [==============================] - 5s 89ms/step - loss: 2.6519e-07 - val_loss: 0.4388\n",
      "Epoch 98/100\n",
      "60/60 [==============================] - 5s 89ms/step - loss: 4.4646e-07 - val_loss: 0.4384\n",
      "Epoch 99/100\n",
      "60/60 [==============================] - 5s 86ms/step - loss: 3.0411e-07 - val_loss: 0.4388\n",
      "Epoch 100/100\n",
      "60/60 [==============================] - 5s 85ms/step - loss: 2.7887e-07 - val_loss: 0.4385\n"
     ]
    },
    {
     "data": {
      "text/plain": [
       "<keras.callbacks.History at 0x2401e0ecf10>"
      ]
     },
     "execution_count": 186,
     "metadata": {},
     "output_type": "execute_result"
    }
   ],
   "source": [
    "model.fit(x=x_train, y=y_train, validation_data=(x_test, y_test), batch_size=128, epochs=100, verbose=1)"
   ]
  },
  {
   "cell_type": "code",
   "execution_count": 187,
   "id": "fd117085",
   "metadata": {},
   "outputs": [
    {
     "name": "stdout",
     "output_type": "stream",
     "text": [
      "Model: \"sequential\"\n",
      "_________________________________________________________________\n",
      " Layer (type)                Output Shape              Param #   \n",
      "=================================================================\n",
      " dense (Dense)               (None, 800)               5632800   \n",
      "                                                                 \n",
      " dense_1 (Dense)             (None, 800)               640800    \n",
      "                                                                 \n",
      " dense_2 (Dense)             (None, 800)               640800    \n",
      "                                                                 \n",
      " dense_3 (Dense)             (None, 800)               640800    \n",
      "                                                                 \n",
      " dense_4 (Dense)             (None, 800)               640800    \n",
      "                                                                 \n",
      " dense_5 (Dense)             (None, 800)               640800    \n",
      "                                                                 \n",
      " dense_6 (Dense)             (None, 1)                 801       \n",
      "                                                                 \n",
      "=================================================================\n",
      "Total params: 8,837,601\n",
      "Trainable params: 8,837,601\n",
      "Non-trainable params: 0\n",
      "_________________________________________________________________\n"
     ]
    }
   ],
   "source": [
    "model.summary()"
   ]
  },
  {
   "cell_type": "code",
   "execution_count": 188,
   "id": "224b17f5",
   "metadata": {},
   "outputs": [
    {
     "name": "stdout",
     "output_type": "stream",
     "text": [
      "60/60 [==============================] - 1s 14ms/step\n"
     ]
    }
   ],
   "source": [
    "pred=model.predict(x_test)"
   ]
  },
  {
   "cell_type": "markdown",
   "id": "4a8a59c0",
   "metadata": {},
   "source": [
    "\n",
    "success rate"
   ]
  },
  {
   "cell_type": "code",
   "execution_count": 189,
   "id": "6611e945",
   "metadata": {},
   "outputs": [
    {
     "data": {
      "text/plain": [
       "0.6622085745997063"
      ]
     },
     "execution_count": 189,
     "metadata": {},
     "output_type": "execute_result"
    }
   ],
   "source": [
    "(mean_squared_error(y_test,pred))**.5"
   ]
  },
  {
   "cell_type": "code",
   "execution_count": 190,
   "id": "7d48eeb4",
   "metadata": {},
   "outputs": [
    {
     "data": {
      "text/plain": [
       "-0.09247650059517443"
      ]
     },
     "execution_count": 190,
     "metadata": {},
     "output_type": "execute_result"
    }
   ],
   "source": [
    "r2_score(y_test,pred)"
   ]
  },
  {
   "cell_type": "code",
   "execution_count": null,
   "id": "e2c4feae",
   "metadata": {},
   "outputs": [],
   "source": []
  },
  {
   "cell_type": "code",
   "execution_count": null,
   "id": "6c4cd066",
   "metadata": {},
   "outputs": [],
   "source": []
  },
  {
   "cell_type": "code",
   "execution_count": null,
   "id": "e0eb68aa",
   "metadata": {},
   "outputs": [],
   "source": []
  }
 ],
 "metadata": {
  "kernelspec": {
   "display_name": "Python 3 (ipykernel)",
   "language": "python",
   "name": "python3"
  },
  "language_info": {
   "codemirror_mode": {
    "name": "ipython",
    "version": 3
   },
   "file_extension": ".py",
   "mimetype": "text/x-python",
   "name": "python",
   "nbconvert_exporter": "python",
   "pygments_lexer": "ipython3",
   "version": "3.9.12"
  }
 },
 "nbformat": 4,
 "nbformat_minor": 5
}
